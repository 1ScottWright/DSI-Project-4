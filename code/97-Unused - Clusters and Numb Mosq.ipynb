{
 "cells": [
  {
   "cell_type": "markdown",
   "metadata": {},
   "source": [
    "# This Notebook is Used to Determine The Trap Clusters and a Prediction of # of Mosquitos Per Trap based on Cluster, Week of the Year, and Species\n"
   ]
  },
  {
   "cell_type": "code",
   "execution_count": 2,
   "metadata": {},
   "outputs": [],
   "source": [
    "import matplotlib.pyplot as plt\n",
    "import numpy as np\n",
    "import pandas as pd\n",
    "import datetime\n",
    "import time\n",
    "from sklearn.model_selection import train_test_split\n",
    "from sklearn.tree import DecisionTreeClassifier\n",
    "\n",
    "from sklearn.cluster import KMeans, k_means\n",
    "from sklearn.metrics import silhouette_score\n",
    "\n",
    "pd.set_option('display.max_columns', 500)\n",
    "pd.set_option('display.max_rows', 999)\n",
    "\n",
    "\n",
    "%matplotlib inline"
   ]
  },
  {
   "cell_type": "code",
   "execution_count": 3,
   "metadata": {},
   "outputs": [],
   "source": [
    "kaggle_train = pd.read_csv('../data/train.csv')\n",
    "kaggle_test = pd.read_csv('../data/test.csv')\n"
   ]
  },
  {
   "cell_type": "code",
   "execution_count": 4,
   "metadata": {},
   "outputs": [
    {
     "data": {
      "text/plain": [
       "Date                       object\n",
       "Address                    object\n",
       "Species                    object\n",
       "Block                       int64\n",
       "Street                     object\n",
       "Trap                       object\n",
       "AddressNumberAndStreet     object\n",
       "Latitude                  float64\n",
       "Longitude                 float64\n",
       "AddressAccuracy             int64\n",
       "NumMosquitos                int64\n",
       "WnvPresent                  int64\n",
       "dtype: object"
      ]
     },
     "execution_count": 4,
     "metadata": {},
     "output_type": "execute_result"
    }
   ],
   "source": [
    "kaggle_train.dtypes"
   ]
  },
  {
   "cell_type": "code",
   "execution_count": 5,
   "metadata": {},
   "outputs": [
    {
     "data": {
      "text/plain": [
       "['Date', 'Species', 'Trap', 'Latitude', 'Longitude']"
      ]
     },
     "execution_count": 5,
     "metadata": {},
     "output_type": "execute_result"
    }
   ],
   "source": [
    "X_k_train = kaggle_train[['Date', 'Species', 'Trap', 'Latitude', 'Longitude', 'NumMosquitos','WnvPresent']]\n",
    "X_cols = list(X_k_train.columns.drop(['WnvPresent','NumMosquitos']))\n",
    "X_cols"
   ]
  },
  {
   "cell_type": "code",
   "execution_count": 6,
   "metadata": {},
   "outputs": [],
   "source": [
    "X_k_train = X_k_train.groupby(X_cols, sort=False, as_index=False).agg({'NumMosquitos':'sum', 'WnvPresent':'max'}).reindex()"
   ]
  },
  {
   "cell_type": "code",
   "execution_count": 7,
   "metadata": {},
   "outputs": [],
   "source": [
    "X_k_train['Date'] = pd.to_datetime(kaggle_train['Date'])"
   ]
  },
  {
   "cell_type": "code",
   "execution_count": 8,
   "metadata": {},
   "outputs": [],
   "source": [
    "#X_k_train.set_index('Date', drop = True, inplace = True)"
   ]
  },
  {
   "cell_type": "code",
   "execution_count": 9,
   "metadata": {},
   "outputs": [
    {
     "data": {
      "text/plain": [
       "Date            0\n",
       "Species         0\n",
       "Trap            0\n",
       "Latitude        0\n",
       "Longitude       0\n",
       "NumMosquitos    0\n",
       "WnvPresent      0\n",
       "dtype: int64"
      ]
     },
     "execution_count": 9,
     "metadata": {},
     "output_type": "execute_result"
    }
   ],
   "source": [
    "X_k_train.isnull().sum()"
   ]
  },
  {
   "cell_type": "code",
   "execution_count": 10,
   "metadata": {},
   "outputs": [
    {
     "data": {
      "text/plain": [
       "Date            datetime64[ns]\n",
       "Species                 object\n",
       "Trap                    object\n",
       "Latitude               float64\n",
       "Longitude              float64\n",
       "NumMosquitos             int64\n",
       "WnvPresent               int64\n",
       "dtype: object"
      ]
     },
     "execution_count": 10,
     "metadata": {},
     "output_type": "execute_result"
    }
   ],
   "source": [
    "X_k_train.dtypes"
   ]
  },
  {
   "cell_type": "code",
   "execution_count": 11,
   "metadata": {},
   "outputs": [
    {
     "data": {
      "text/plain": [
       "Id                          int64\n",
       "Date                       object\n",
       "Address                    object\n",
       "Species                    object\n",
       "Block                       int64\n",
       "Street                     object\n",
       "Trap                       object\n",
       "AddressNumberAndStreet     object\n",
       "Latitude                  float64\n",
       "Longitude                 float64\n",
       "AddressAccuracy             int64\n",
       "dtype: object"
      ]
     },
     "execution_count": 11,
     "metadata": {},
     "output_type": "execute_result"
    }
   ],
   "source": [
    "kaggle_test.dtypes"
   ]
  },
  {
   "cell_type": "code",
   "execution_count": 12,
   "metadata": {},
   "outputs": [
    {
     "data": {
      "text/html": [
       "<div>\n",
       "<style scoped>\n",
       "    .dataframe tbody tr th:only-of-type {\n",
       "        vertical-align: middle;\n",
       "    }\n",
       "\n",
       "    .dataframe tbody tr th {\n",
       "        vertical-align: top;\n",
       "    }\n",
       "\n",
       "    .dataframe thead th {\n",
       "        text-align: right;\n",
       "    }\n",
       "</style>\n",
       "<table border=\"1\" class=\"dataframe\">\n",
       "  <thead>\n",
       "    <tr style=\"text-align: right;\">\n",
       "      <th></th>\n",
       "      <th>Id</th>\n",
       "      <th>Date</th>\n",
       "      <th>Address</th>\n",
       "      <th>Species</th>\n",
       "      <th>Block</th>\n",
       "      <th>Street</th>\n",
       "      <th>Trap</th>\n",
       "      <th>AddressNumberAndStreet</th>\n",
       "      <th>Latitude</th>\n",
       "      <th>Longitude</th>\n",
       "      <th>AddressAccuracy</th>\n",
       "    </tr>\n",
       "  </thead>\n",
       "  <tbody>\n",
       "    <tr>\n",
       "      <th>0</th>\n",
       "      <td>1</td>\n",
       "      <td>2008-06-11</td>\n",
       "      <td>4100 North Oak Park Avenue, Chicago, IL 60634,...</td>\n",
       "      <td>CULEX PIPIENS/RESTUANS</td>\n",
       "      <td>41</td>\n",
       "      <td>N OAK PARK AVE</td>\n",
       "      <td>T002</td>\n",
       "      <td>4100  N OAK PARK AVE, Chicago, IL</td>\n",
       "      <td>41.95469</td>\n",
       "      <td>-87.800991</td>\n",
       "      <td>9</td>\n",
       "    </tr>\n",
       "    <tr>\n",
       "      <th>1</th>\n",
       "      <td>2</td>\n",
       "      <td>2008-06-11</td>\n",
       "      <td>4100 North Oak Park Avenue, Chicago, IL 60634,...</td>\n",
       "      <td>CULEX RESTUANS</td>\n",
       "      <td>41</td>\n",
       "      <td>N OAK PARK AVE</td>\n",
       "      <td>T002</td>\n",
       "      <td>4100  N OAK PARK AVE, Chicago, IL</td>\n",
       "      <td>41.95469</td>\n",
       "      <td>-87.800991</td>\n",
       "      <td>9</td>\n",
       "    </tr>\n",
       "    <tr>\n",
       "      <th>2</th>\n",
       "      <td>3</td>\n",
       "      <td>2008-06-11</td>\n",
       "      <td>4100 North Oak Park Avenue, Chicago, IL 60634,...</td>\n",
       "      <td>CULEX PIPIENS</td>\n",
       "      <td>41</td>\n",
       "      <td>N OAK PARK AVE</td>\n",
       "      <td>T002</td>\n",
       "      <td>4100  N OAK PARK AVE, Chicago, IL</td>\n",
       "      <td>41.95469</td>\n",
       "      <td>-87.800991</td>\n",
       "      <td>9</td>\n",
       "    </tr>\n",
       "    <tr>\n",
       "      <th>3</th>\n",
       "      <td>4</td>\n",
       "      <td>2008-06-11</td>\n",
       "      <td>4100 North Oak Park Avenue, Chicago, IL 60634,...</td>\n",
       "      <td>CULEX SALINARIUS</td>\n",
       "      <td>41</td>\n",
       "      <td>N OAK PARK AVE</td>\n",
       "      <td>T002</td>\n",
       "      <td>4100  N OAK PARK AVE, Chicago, IL</td>\n",
       "      <td>41.95469</td>\n",
       "      <td>-87.800991</td>\n",
       "      <td>9</td>\n",
       "    </tr>\n",
       "    <tr>\n",
       "      <th>4</th>\n",
       "      <td>5</td>\n",
       "      <td>2008-06-11</td>\n",
       "      <td>4100 North Oak Park Avenue, Chicago, IL 60634,...</td>\n",
       "      <td>CULEX TERRITANS</td>\n",
       "      <td>41</td>\n",
       "      <td>N OAK PARK AVE</td>\n",
       "      <td>T002</td>\n",
       "      <td>4100  N OAK PARK AVE, Chicago, IL</td>\n",
       "      <td>41.95469</td>\n",
       "      <td>-87.800991</td>\n",
       "      <td>9</td>\n",
       "    </tr>\n",
       "  </tbody>\n",
       "</table>\n",
       "</div>"
      ],
      "text/plain": [
       "   Id        Date                                            Address  \\\n",
       "0   1  2008-06-11  4100 North Oak Park Avenue, Chicago, IL 60634,...   \n",
       "1   2  2008-06-11  4100 North Oak Park Avenue, Chicago, IL 60634,...   \n",
       "2   3  2008-06-11  4100 North Oak Park Avenue, Chicago, IL 60634,...   \n",
       "3   4  2008-06-11  4100 North Oak Park Avenue, Chicago, IL 60634,...   \n",
       "4   5  2008-06-11  4100 North Oak Park Avenue, Chicago, IL 60634,...   \n",
       "\n",
       "                  Species  Block           Street  Trap  \\\n",
       "0  CULEX PIPIENS/RESTUANS     41   N OAK PARK AVE  T002   \n",
       "1          CULEX RESTUANS     41   N OAK PARK AVE  T002   \n",
       "2           CULEX PIPIENS     41   N OAK PARK AVE  T002   \n",
       "3        CULEX SALINARIUS     41   N OAK PARK AVE  T002   \n",
       "4         CULEX TERRITANS     41   N OAK PARK AVE  T002   \n",
       "\n",
       "              AddressNumberAndStreet  Latitude  Longitude  AddressAccuracy  \n",
       "0  4100  N OAK PARK AVE, Chicago, IL  41.95469 -87.800991                9  \n",
       "1  4100  N OAK PARK AVE, Chicago, IL  41.95469 -87.800991                9  \n",
       "2  4100  N OAK PARK AVE, Chicago, IL  41.95469 -87.800991                9  \n",
       "3  4100  N OAK PARK AVE, Chicago, IL  41.95469 -87.800991                9  \n",
       "4  4100  N OAK PARK AVE, Chicago, IL  41.95469 -87.800991                9  "
      ]
     },
     "execution_count": 12,
     "metadata": {},
     "output_type": "execute_result"
    }
   ],
   "source": [
    "kaggle_test.head()"
   ]
  },
  {
   "cell_type": "code",
   "execution_count": 13,
   "metadata": {},
   "outputs": [],
   "source": [
    "X_k_test = kaggle_test[['Id', 'Date', 'Species', 'Trap', 'Latitude', 'Longitude']].copy()\n",
    "X_k_test['Date'] = pd.to_datetime(X_k_test['Date'])\n",
    "#X_k_test.set_index('Date', drop = True, inplace = True)"
   ]
  },
  {
   "cell_type": "code",
   "execution_count": 14,
   "metadata": {},
   "outputs": [
    {
     "data": {
      "text/html": [
       "<div>\n",
       "<style scoped>\n",
       "    .dataframe tbody tr th:only-of-type {\n",
       "        vertical-align: middle;\n",
       "    }\n",
       "\n",
       "    .dataframe tbody tr th {\n",
       "        vertical-align: top;\n",
       "    }\n",
       "\n",
       "    .dataframe thead th {\n",
       "        text-align: right;\n",
       "    }\n",
       "</style>\n",
       "<table border=\"1\" class=\"dataframe\">\n",
       "  <thead>\n",
       "    <tr style=\"text-align: right;\">\n",
       "      <th></th>\n",
       "      <th>Id</th>\n",
       "      <th>Date</th>\n",
       "      <th>Species</th>\n",
       "      <th>Trap</th>\n",
       "      <th>Latitude</th>\n",
       "      <th>Longitude</th>\n",
       "    </tr>\n",
       "  </thead>\n",
       "  <tbody>\n",
       "    <tr>\n",
       "      <th>0</th>\n",
       "      <td>1</td>\n",
       "      <td>2008-06-11</td>\n",
       "      <td>CULEX PIPIENS/RESTUANS</td>\n",
       "      <td>T002</td>\n",
       "      <td>41.95469</td>\n",
       "      <td>-87.800991</td>\n",
       "    </tr>\n",
       "    <tr>\n",
       "      <th>1</th>\n",
       "      <td>2</td>\n",
       "      <td>2008-06-11</td>\n",
       "      <td>CULEX RESTUANS</td>\n",
       "      <td>T002</td>\n",
       "      <td>41.95469</td>\n",
       "      <td>-87.800991</td>\n",
       "    </tr>\n",
       "    <tr>\n",
       "      <th>2</th>\n",
       "      <td>3</td>\n",
       "      <td>2008-06-11</td>\n",
       "      <td>CULEX PIPIENS</td>\n",
       "      <td>T002</td>\n",
       "      <td>41.95469</td>\n",
       "      <td>-87.800991</td>\n",
       "    </tr>\n",
       "    <tr>\n",
       "      <th>3</th>\n",
       "      <td>4</td>\n",
       "      <td>2008-06-11</td>\n",
       "      <td>CULEX SALINARIUS</td>\n",
       "      <td>T002</td>\n",
       "      <td>41.95469</td>\n",
       "      <td>-87.800991</td>\n",
       "    </tr>\n",
       "    <tr>\n",
       "      <th>4</th>\n",
       "      <td>5</td>\n",
       "      <td>2008-06-11</td>\n",
       "      <td>CULEX TERRITANS</td>\n",
       "      <td>T002</td>\n",
       "      <td>41.95469</td>\n",
       "      <td>-87.800991</td>\n",
       "    </tr>\n",
       "  </tbody>\n",
       "</table>\n",
       "</div>"
      ],
      "text/plain": [
       "   Id       Date                 Species  Trap  Latitude  Longitude\n",
       "0   1 2008-06-11  CULEX PIPIENS/RESTUANS  T002  41.95469 -87.800991\n",
       "1   2 2008-06-11          CULEX RESTUANS  T002  41.95469 -87.800991\n",
       "2   3 2008-06-11           CULEX PIPIENS  T002  41.95469 -87.800991\n",
       "3   4 2008-06-11        CULEX SALINARIUS  T002  41.95469 -87.800991\n",
       "4   5 2008-06-11         CULEX TERRITANS  T002  41.95469 -87.800991"
      ]
     },
     "execution_count": 14,
     "metadata": {},
     "output_type": "execute_result"
    }
   ],
   "source": [
    "X_k_test.head()"
   ]
  },
  {
   "cell_type": "code",
   "execution_count": 15,
   "metadata": {},
   "outputs": [
    {
     "data": {
      "text/plain": [
       "Id           0\n",
       "Date         0\n",
       "Species      0\n",
       "Trap         0\n",
       "Latitude     0\n",
       "Longitude    0\n",
       "dtype: int64"
      ]
     },
     "execution_count": 15,
     "metadata": {},
     "output_type": "execute_result"
    }
   ],
   "source": [
    "X_k_test.isnull().sum()"
   ]
  },
  {
   "cell_type": "code",
   "execution_count": 16,
   "metadata": {},
   "outputs": [
    {
     "data": {
      "text/html": [
       "<div>\n",
       "<style scoped>\n",
       "    .dataframe tbody tr th:only-of-type {\n",
       "        vertical-align: middle;\n",
       "    }\n",
       "\n",
       "    .dataframe tbody tr th {\n",
       "        vertical-align: top;\n",
       "    }\n",
       "\n",
       "    .dataframe thead th {\n",
       "        text-align: right;\n",
       "    }\n",
       "</style>\n",
       "<table border=\"1\" class=\"dataframe\">\n",
       "  <thead>\n",
       "    <tr style=\"text-align: right;\">\n",
       "      <th></th>\n",
       "      <th>Id</th>\n",
       "      <th>Latitude</th>\n",
       "      <th>Longitude</th>\n",
       "    </tr>\n",
       "  </thead>\n",
       "  <tbody>\n",
       "    <tr>\n",
       "      <th>count</th>\n",
       "      <td>116293.000000</td>\n",
       "      <td>116293.000000</td>\n",
       "      <td>116293.000000</td>\n",
       "    </tr>\n",
       "    <tr>\n",
       "      <th>mean</th>\n",
       "      <td>58147.000000</td>\n",
       "      <td>41.849389</td>\n",
       "      <td>-87.693658</td>\n",
       "    </tr>\n",
       "    <tr>\n",
       "      <th>std</th>\n",
       "      <td>33571.041765</td>\n",
       "      <td>0.106593</td>\n",
       "      <td>0.080699</td>\n",
       "    </tr>\n",
       "    <tr>\n",
       "      <th>min</th>\n",
       "      <td>1.000000</td>\n",
       "      <td>41.644612</td>\n",
       "      <td>-87.930995</td>\n",
       "    </tr>\n",
       "    <tr>\n",
       "      <th>25%</th>\n",
       "      <td>29074.000000</td>\n",
       "      <td>41.753411</td>\n",
       "      <td>-87.750938</td>\n",
       "    </tr>\n",
       "    <tr>\n",
       "      <th>50%</th>\n",
       "      <td>58147.000000</td>\n",
       "      <td>41.862292</td>\n",
       "      <td>-87.694991</td>\n",
       "    </tr>\n",
       "    <tr>\n",
       "      <th>75%</th>\n",
       "      <td>87220.000000</td>\n",
       "      <td>41.951866</td>\n",
       "      <td>-87.648860</td>\n",
       "    </tr>\n",
       "    <tr>\n",
       "      <th>max</th>\n",
       "      <td>116293.000000</td>\n",
       "      <td>42.017430</td>\n",
       "      <td>-87.531635</td>\n",
       "    </tr>\n",
       "  </tbody>\n",
       "</table>\n",
       "</div>"
      ],
      "text/plain": [
       "                  Id       Latitude      Longitude\n",
       "count  116293.000000  116293.000000  116293.000000\n",
       "mean    58147.000000      41.849389     -87.693658\n",
       "std     33571.041765       0.106593       0.080699\n",
       "min         1.000000      41.644612     -87.930995\n",
       "25%     29074.000000      41.753411     -87.750938\n",
       "50%     58147.000000      41.862292     -87.694991\n",
       "75%     87220.000000      41.951866     -87.648860\n",
       "max    116293.000000      42.017430     -87.531635"
      ]
     },
     "execution_count": 16,
     "metadata": {},
     "output_type": "execute_result"
    }
   ],
   "source": [
    "X_k_test.describe()"
   ]
  },
  {
   "cell_type": "code",
   "execution_count": 17,
   "metadata": {},
   "outputs": [],
   "source": [
    "#set(X_k_test.index)"
   ]
  },
  {
   "cell_type": "code",
   "execution_count": 18,
   "metadata": {},
   "outputs": [],
   "source": [
    "combo = X_k_train[['Latitude', 'Longitude']].copy()"
   ]
  },
  {
   "cell_type": "code",
   "execution_count": 19,
   "metadata": {},
   "outputs": [],
   "source": [
    "combo = combo.append(X_k_test[['Latitude', 'Longitude']])"
   ]
  },
  {
   "cell_type": "code",
   "execution_count": 20,
   "metadata": {},
   "outputs": [],
   "source": [
    "#combo['week'] = combo['Date'].dt.strftime('%W')"
   ]
  },
  {
   "cell_type": "code",
   "execution_count": 21,
   "metadata": {},
   "outputs": [],
   "source": [
    "#combo['week'].value_counts()"
   ]
  },
  {
   "cell_type": "code",
   "execution_count": 22,
   "metadata": {},
   "outputs": [],
   "source": [
    "kmeans = KMeans(n_clusters=50, random_state=1929)\n",
    "model = kmeans.fit(combo)\n",
    "centroids = pd.DataFrame(model.cluster_centers_, columns = ['x1', 'x2'])"
   ]
  },
  {
   "cell_type": "code",
   "execution_count": 23,
   "metadata": {},
   "outputs": [
    {
     "data": {
      "text/plain": [
       "<matplotlib.axes._subplots.AxesSubplot at 0x1a0fae3940>"
      ]
     },
     "execution_count": 23,
     "metadata": {},
     "output_type": "execute_result"
    },
    {
     "data": {
      "image/png": "[encoded data removed]",
      "text/plain": [
       "<matplotlib.figure.Figure at 0x1a0fae3320>"
      ]
     },
     "metadata": {},
     "output_type": "display_data"
    }
   ],
   "source": [
    "ax = combo.plot(    \n",
    "    kind=\"scatter\", \n",
    "    y='Latitude', x='Longitude',\n",
    "    figsize=(10,8),\n",
    "    c = 'b'\n",
    ")\n",
    "\n",
    "centroids.plot(\n",
    "    kind=\"scatter\", \n",
    "    y=\"x1\", x=\"x2\", \n",
    "    marker=\"*\", c='r', s=550,\n",
    "    ax=ax\n",
    ")"
   ]
  },
  {
   "cell_type": "code",
   "execution_count": 24,
   "metadata": {},
   "outputs": [],
   "source": [
    "combo['cluster'] = kmeans.labels_"
   ]
  },
  {
   "cell_type": "code",
   "execution_count": 25,
   "metadata": {},
   "outputs": [
    {
     "data": {
      "text/plain": [
       "8475"
      ]
     },
     "execution_count": 25,
     "metadata": {},
     "output_type": "execute_result"
    }
   ],
   "source": [
    "len(X_k_train)"
   ]
  },
  {
   "cell_type": "code",
   "execution_count": 26,
   "metadata": {},
   "outputs": [],
   "source": [
    "X_k_train['cluster'] = combo['cluster'][0:8475]"
   ]
  },
  {
   "cell_type": "code",
   "execution_count": 27,
   "metadata": {},
   "outputs": [],
   "source": [
    "X_k_test['cluster'] = combo['cluster'][8475:]"
   ]
  },
  {
   "cell_type": "code",
   "execution_count": 28,
   "metadata": {},
   "outputs": [
    {
     "data": {
      "text/plain": [
       "50"
      ]
     },
     "execution_count": 28,
     "metadata": {},
     "output_type": "execute_result"
    }
   ],
   "source": [
    "len(set(X_k_test['cluster']))        # Are all clusters accounted for in our training data set?"
   ]
  },
  {
   "cell_type": "code",
   "execution_count": 29,
   "metadata": {},
   "outputs": [
    {
     "data": {
      "text/html": [
       "<div>\n",
       "<style scoped>\n",
       "    .dataframe tbody tr th:only-of-type {\n",
       "        vertical-align: middle;\n",
       "    }\n",
       "\n",
       "    .dataframe tbody tr th {\n",
       "        vertical-align: top;\n",
       "    }\n",
       "\n",
       "    .dataframe thead th {\n",
       "        text-align: right;\n",
       "    }\n",
       "</style>\n",
       "<table border=\"1\" class=\"dataframe\">\n",
       "  <thead>\n",
       "    <tr style=\"text-align: right;\">\n",
       "      <th></th>\n",
       "      <th>Date</th>\n",
       "      <th>Species</th>\n",
       "      <th>Trap</th>\n",
       "      <th>Latitude</th>\n",
       "      <th>Longitude</th>\n",
       "      <th>NumMosquitos</th>\n",
       "      <th>WnvPresent</th>\n",
       "      <th>cluster</th>\n",
       "    </tr>\n",
       "  </thead>\n",
       "  <tbody>\n",
       "    <tr>\n",
       "      <th>0</th>\n",
       "      <td>2007-05-29</td>\n",
       "      <td>CULEX PIPIENS/RESTUANS</td>\n",
       "      <td>T002</td>\n",
       "      <td>41.954690</td>\n",
       "      <td>-87.800991</td>\n",
       "      <td>1</td>\n",
       "      <td>0</td>\n",
       "      <td>16</td>\n",
       "    </tr>\n",
       "    <tr>\n",
       "      <th>1</th>\n",
       "      <td>2007-05-29</td>\n",
       "      <td>CULEX RESTUANS</td>\n",
       "      <td>T002</td>\n",
       "      <td>41.954690</td>\n",
       "      <td>-87.800991</td>\n",
       "      <td>1</td>\n",
       "      <td>0</td>\n",
       "      <td>16</td>\n",
       "    </tr>\n",
       "    <tr>\n",
       "      <th>2</th>\n",
       "      <td>2007-05-29</td>\n",
       "      <td>CULEX RESTUANS</td>\n",
       "      <td>T007</td>\n",
       "      <td>41.994991</td>\n",
       "      <td>-87.769279</td>\n",
       "      <td>1</td>\n",
       "      <td>0</td>\n",
       "      <td>30</td>\n",
       "    </tr>\n",
       "    <tr>\n",
       "      <th>3</th>\n",
       "      <td>2007-05-29</td>\n",
       "      <td>CULEX PIPIENS/RESTUANS</td>\n",
       "      <td>T015</td>\n",
       "      <td>41.974089</td>\n",
       "      <td>-87.824812</td>\n",
       "      <td>1</td>\n",
       "      <td>0</td>\n",
       "      <td>24</td>\n",
       "    </tr>\n",
       "    <tr>\n",
       "      <th>4</th>\n",
       "      <td>2007-05-29</td>\n",
       "      <td>CULEX RESTUANS</td>\n",
       "      <td>T015</td>\n",
       "      <td>41.974089</td>\n",
       "      <td>-87.824812</td>\n",
       "      <td>4</td>\n",
       "      <td>0</td>\n",
       "      <td>24</td>\n",
       "    </tr>\n",
       "  </tbody>\n",
       "</table>\n",
       "</div>"
      ],
      "text/plain": [
       "        Date                 Species  Trap   Latitude  Longitude  \\\n",
       "0 2007-05-29  CULEX PIPIENS/RESTUANS  T002  41.954690 -87.800991   \n",
       "1 2007-05-29          CULEX RESTUANS  T002  41.954690 -87.800991   \n",
       "2 2007-05-29          CULEX RESTUANS  T007  41.994991 -87.769279   \n",
       "3 2007-05-29  CULEX PIPIENS/RESTUANS  T015  41.974089 -87.824812   \n",
       "4 2007-05-29          CULEX RESTUANS  T015  41.974089 -87.824812   \n",
       "\n",
       "   NumMosquitos  WnvPresent  cluster  \n",
       "0             1           0       16  \n",
       "1             1           0       16  \n",
       "2             1           0       30  \n",
       "3             1           0       24  \n",
       "4             4           0       24  "
      ]
     },
     "execution_count": 29,
     "metadata": {},
     "output_type": "execute_result"
    }
   ],
   "source": [
    "X_k_train.head()"
   ]
  },
  {
   "cell_type": "code",
   "execution_count": 30,
   "metadata": {},
   "outputs": [],
   "source": [
    "X_k_train.to_csv('../data/train_with_cluster.csv')"
   ]
  },
  {
   "cell_type": "code",
   "execution_count": 31,
   "metadata": {},
   "outputs": [],
   "source": [
    "X_k_test.to_csv('../data/test_with_cluster.csv')"
   ]
  },
  {
   "cell_type": "code",
   "execution_count": 36,
   "metadata": {},
   "outputs": [],
   "source": [
    "X = X_k_train[['Date', 'Species', 'cluster', 'NumMosquitos']].copy()\n",
    "X['week'] = X['Date'].dt.strftime('%W')\n",
    "y = X[['NumMosquitos']]"
   ]
  },
  {
   "cell_type": "code",
   "execution_count": 37,
   "metadata": {},
   "outputs": [],
   "source": [
    "X.drop(['Date','NumMosquitos'], axis = 1, inplace=True)"
   ]
  },
  {
   "cell_type": "code",
   "execution_count": 40,
   "metadata": {},
   "outputs": [],
   "source": [
    "X = pd.get_dummies(X, columns = ['Species','cluster'])"
   ]
  },
  {
   "cell_type": "code",
   "execution_count": 74,
   "metadata": {},
   "outputs": [],
   "source": [
    "X['Species_UNSPECIFIED CULEX'] = 0"
   ]
  },
  {
   "cell_type": "code",
   "execution_count": 71,
   "metadata": {},
   "outputs": [],
   "source": [
    "Test = X_k_test[['Date','Species', 'cluster']].copy()\n",
    "Test['week'] = Test['Date'].dt.strftime('%W')\n",
    "Test.drop(['Date'], axis = 1, inplace = True)"
   ]
  },
  {
   "cell_type": "code",
   "execution_count": 72,
   "metadata": {},
   "outputs": [],
   "source": [
    "Test=pd.get_dummies(Test, columns = ['Species','cluster'])"
   ]
  },
  {
   "cell_type": "code",
   "execution_count": 73,
   "metadata": {},
   "outputs": [
    {
     "data": {
      "text/plain": [
       "Index(['week', 'Species_CULEX ERRATICUS', 'Species_CULEX PIPIENS',\n",
       "       'Species_CULEX PIPIENS/RESTUANS', 'Species_CULEX RESTUANS',\n",
       "       'Species_CULEX SALINARIUS', 'Species_CULEX TARSALIS',\n",
       "       'Species_CULEX TERRITANS', 'Species_UNSPECIFIED CULEX', 'cluster_0',\n",
       "       'cluster_1', 'cluster_2', 'cluster_3', 'cluster_4', 'cluster_5',\n",
       "       'cluster_6', 'cluster_7', 'cluster_8', 'cluster_9', 'cluster_10',\n",
       "       'cluster_11', 'cluster_12', 'cluster_13', 'cluster_14', 'cluster_15',\n",
       "       'cluster_16', 'cluster_17', 'cluster_18', 'cluster_19', 'cluster_20',\n",
       "       'cluster_21', 'cluster_22', 'cluster_23', 'cluster_24', 'cluster_25',\n",
       "       'cluster_26', 'cluster_27', 'cluster_28', 'cluster_29', 'cluster_30',\n",
       "       'cluster_31', 'cluster_32', 'cluster_33', 'cluster_34', 'cluster_35',\n",
       "       'cluster_36', 'cluster_37', 'cluster_38', 'cluster_39', 'cluster_40',\n",
       "       'cluster_41', 'cluster_42', 'cluster_43', 'cluster_44', 'cluster_45',\n",
       "       'cluster_46', 'cluster_47', 'cluster_48', 'cluster_49'],\n",
       "      dtype='object')"
      ]
     },
     "execution_count": 73,
     "metadata": {},
     "output_type": "execute_result"
    }
   ],
   "source": [
    "Test.columns"
   ]
  },
  {
   "cell_type": "code",
   "execution_count": null,
   "metadata": {},
   "outputs": [],
   "source": []
  },
  {
   "cell_type": "code",
   "execution_count": null,
   "metadata": {},
   "outputs": [],
   "source": []
  },
  {
   "cell_type": "code",
   "execution_count": 75,
   "metadata": {},
   "outputs": [],
   "source": [
    "X_train, X_test, y_train, y_test = train_test_split(X, y, random_state = 1929)"
   ]
  },
  {
   "cell_type": "code",
   "execution_count": 76,
   "metadata": {},
   "outputs": [
    {
     "name": "stdout",
     "output_type": "stream",
     "text": [
      "i =  2\n",
      "0.08246029968637802\n",
      "-0.6830207004606801\n",
      "\n",
      "i =  3\n",
      "0.14505342574817992\n",
      "-0.5027143667658605\n",
      "\n",
      "i =  4\n",
      "0.29363617376881623\n",
      "-0.2639502069538089\n",
      "\n",
      "i =  5\n",
      "0.3304583163457667\n",
      "-0.14270599144278284\n",
      "\n",
      "i =  6\n",
      "0.33918588510087677\n",
      "0.0026455219394571072\n",
      "\n",
      "i =  7\n",
      "0.333592240907287\n",
      "0.01756539421923975\n",
      "\n",
      "i =  8\n",
      "0.32915999290775133\n",
      "0.03550720379428163\n",
      "\n",
      "i =  9\n",
      "0.31517113322821455\n",
      "0.10952530754499612\n",
      "\n",
      "i =  10\n",
      "0.3037518514213131\n",
      "0.07244788770149646\n",
      "\n",
      "i =  11\n",
      "0.289315427821374\n",
      "0.09736867007289651\n",
      "\n",
      "i =  12\n",
      "0.2662499339407999\n",
      "0.1018867018147881\n",
      "\n",
      "i =  13\n",
      "0.2605669033468182\n",
      "0.13100064763292363\n",
      "\n",
      "i =  14\n",
      "0.2594734614874946\n",
      "0.16395717040388402\n",
      "\n",
      "i =  15\n",
      "0.25433445004546573\n",
      "0.15549251718486823\n",
      "\n",
      "i =  16\n",
      "0.24870929261873465\n",
      "0.15185699859246626\n",
      "\n",
      "i =  17\n",
      "0.24160979886042067\n",
      "0.1466693895930974\n",
      "\n",
      "i =  18\n",
      "0.2319824856041217\n",
      "0.14810572342815398\n",
      "\n",
      "i =  19\n",
      "0.22427329920990502\n",
      "0.14747544894164077\n",
      "\n",
      "i =  20\n",
      "0.21581200762221975\n",
      "0.14654237175370888\n",
      "\n",
      "i =  21\n",
      "0.20181307386061353\n",
      "0.14193304753534097\n",
      "\n",
      "i =  22\n",
      "0.19633738567577275\n",
      "0.1352226906286208\n",
      "\n",
      "i =  23\n",
      "0.18777535055730254\n",
      "0.1358732365937968\n",
      "\n",
      "i =  24\n",
      "0.17991301687624206\n",
      "0.1248522325093917\n",
      "\n",
      "i =  25\n",
      "0.17880741407233947\n",
      "0.1366564197336544\n",
      "\n",
      "i =  26\n",
      "0.17528046220467697\n",
      "0.14400449027052564\n",
      "\n",
      "i =  27\n",
      "0.1555006897554152\n",
      "0.10627367875217686\n",
      "\n",
      "i =  28\n",
      "0.14945297670398616\n",
      "0.10859093037375112\n",
      "\n",
      "i =  29\n",
      "0.14873852213316952\n",
      "0.11462874693699898\n",
      "\n",
      "i =  30\n",
      "0.144151200216304\n",
      "0.11330760700195164\n",
      "\n",
      "i =  31\n",
      "0.13967155924519348\n",
      "0.11364002057234457\n",
      "\n",
      "i =  32\n",
      "0.1379603928138935\n",
      "0.13231847070559322\n",
      "\n",
      "i =  33\n",
      "0.13387053869030907\n",
      "0.11677636744306363\n",
      "\n",
      "i =  34\n",
      "0.13276554818003639\n",
      "0.1275447280263502\n",
      "\n",
      "i =  35\n",
      "0.127405794536951\n",
      "0.11265479890225771\n",
      "\n",
      "i =  36\n",
      "0.12944739936226235\n",
      "0.1243604063419419\n",
      "\n",
      "i =  37\n",
      "0.12733367519379712\n",
      "0.12501707526551586\n",
      "\n",
      "i =  38\n",
      "0.12494275068820693\n",
      "0.12314888433828863\n",
      "\n",
      "i =  39\n",
      "0.12337432304162843\n",
      "0.12249647288388876\n",
      "\n"
     ]
    }
   ],
   "source": [
    "from sklearn.neighbors import KNeighborsRegressor\n",
    "from sklearn.metrics import r2_score\n",
    "\n",
    "for i in range(2,40):\n",
    "    knn = KNeighborsRegressor(n_neighbors = i)\n",
    "    model = knn.fit(X_train, y_train)\n",
    "    yhat = model.predict(X_test)\n",
    "    print('i = ', i)\n",
    "    print(r2_score(y_train, knn.predict(X_train)))\n",
    "    print(r2_score(y_test, yhat))\n",
    "    print()\n"
   ]
  },
  {
   "cell_type": "code",
   "execution_count": 77,
   "metadata": {},
   "outputs": [
    {
     "name": "stdout",
     "output_type": "stream",
     "text": [
      "0.09210779753533871\n",
      "-3.335258266948278e+16\n"
     ]
    }
   ],
   "source": [
    "from sklearn.linear_model import LinearRegression\n",
    "lr = LinearRegression()\n",
    "lr.fit(X_train, y_train)\n",
    "\n",
    "print(r2_score(y_train,lr.predict(X_train)))\n",
    "print(r2_score(y_test,lr.predict(X_test)))"
   ]
  },
  {
   "cell_type": "code",
   "execution_count": 78,
   "metadata": {},
   "outputs": [
    {
     "name": "stderr",
     "output_type": "stream",
     "text": [
      "/Users/ScottW/anaconda3/lib/python3.6/site-packages/ipykernel/__main__.py:6: DataConversionWarning: A column-vector y was passed when a 1d array was expected. Please change the shape of y to (n_samples, ), for example using ravel().\n"
     ]
    },
    {
     "name": "stdout",
     "output_type": "stream",
     "text": [
      "i =  2\n",
      "0.14183383204749123\n",
      "-0.3378407682590965\n",
      "\n",
      "i =  3\n",
      "0.06527107623509842\n",
      "-0.2842810066018975\n",
      "\n",
      "i =  4\n",
      "-0.0017706310317506802\n",
      "-0.015834374231206816\n",
      "\n",
      "i =  5\n",
      "-0.011063487648430348\n",
      "-0.027575137579442632\n",
      "\n",
      "i =  6\n",
      "-0.01369725223499385\n",
      "-0.042603550172700455\n",
      "\n",
      "i =  7\n",
      "-0.015557365075205443\n",
      "-0.05258318117722238\n",
      "\n",
      "i =  8\n",
      "-0.017797426251763726\n",
      "-0.04827731875363894\n",
      "\n",
      "i =  9\n",
      "-0.018614216754985646\n",
      "-0.05579036535416493\n",
      "\n",
      "i =  10\n",
      "-0.018988781640090435\n",
      "-0.052818688693553106\n",
      "\n",
      "i =  11\n",
      "-0.024825557421876754\n",
      "-0.05480248268907073\n",
      "\n",
      "i =  12\n",
      "-0.02484841930292281\n",
      "-0.055606062881157436\n",
      "\n",
      "i =  13\n",
      "-0.027852669683781972\n",
      "-0.05359051105389212\n",
      "\n",
      "i =  14\n",
      "-0.027785862713961773\n",
      "-0.05522693146282176\n",
      "\n",
      "i =  15\n",
      "-0.028166783391722516\n",
      "-0.05759663663850878\n",
      "\n",
      "i =  16\n",
      "-0.02884958050499642\n",
      "-0.058045885067388614\n",
      "\n",
      "i =  17\n",
      "-0.02879458392600709\n",
      "-0.060732098071841545\n",
      "\n",
      "i =  18\n",
      "-0.029455515215292882\n",
      "-0.061707491701978645\n",
      "\n",
      "i =  19\n",
      "-0.029201900115805257\n",
      "-0.06330680183560755\n",
      "\n",
      "i =  20\n",
      "-0.028355275332131002\n",
      "-0.05987481502944014\n",
      "\n",
      "i =  21\n",
      "-0.028357148868025872\n",
      "-0.06062736859298834\n",
      "\n",
      "i =  22\n",
      "-0.029874428355123772\n",
      "-0.06370680778379989\n",
      "\n",
      "i =  23\n",
      "-0.03021590991651557\n",
      "-0.06404882892683506\n",
      "\n",
      "i =  24\n",
      "-0.030506663714880977\n",
      "-0.06317263391721295\n",
      "\n",
      "i =  25\n",
      "-0.030357824331639582\n",
      "-0.06501084144808966\n",
      "\n",
      "i =  26\n",
      "-0.03032229829657007\n",
      "-0.06682282200555689\n",
      "\n",
      "i =  27\n",
      "-0.030861354890113768\n",
      "-0.06678160819019885\n",
      "\n",
      "i =  28\n",
      "-0.031211800965027736\n",
      "-0.06853042991374103\n",
      "\n",
      "i =  29\n",
      "-0.03209950124452332\n",
      "-0.06880393977929788\n",
      "\n",
      "i =  30\n",
      "-0.03000308572511834\n",
      "-0.06746547206148401\n",
      "\n",
      "i =  31\n",
      "-0.031793213699181644\n",
      "-0.06824193320623562\n",
      "\n",
      "i =  32\n",
      "-0.03181714278421843\n",
      "-0.06681497175501239\n",
      "\n",
      "i =  33\n",
      "-0.03165046923650938\n",
      "-0.06651612698997145\n",
      "\n",
      "i =  34\n",
      "-0.03205263913150791\n",
      "-0.06795932418663853\n",
      "\n",
      "i =  35\n",
      "-0.03132777046535451\n",
      "-0.06800499837162399\n",
      "\n",
      "i =  36\n",
      "-0.031579274872505\n",
      "-0.07037952074650877\n",
      "\n",
      "i =  37\n",
      "-0.03159729876212647\n",
      "-0.06992938024370354\n",
      "\n",
      "i =  38\n",
      "-0.03124317676235555\n",
      "-0.06978718365997949\n",
      "\n",
      "i =  39\n",
      "-0.03177443090894472\n",
      "-0.069003764338609\n",
      "\n"
     ]
    }
   ],
   "source": [
    "from sklearn.neighbors import KNeighborsClassifier\n",
    "from sklearn.metrics import r2_score\n",
    "\n",
    "for i in range(2,40):\n",
    "    knn = KNeighborsClassifier(n_neighbors = i)\n",
    "    model = knn.fit(X_train, y_train)\n",
    "    yhat = model.predict(X_test)\n",
    "    print('i = ', i)\n",
    "    print(r2_score(y_train, knn.predict(X_train)))\n",
    "    print(r2_score(y_test, yhat))\n",
    "    print()\n"
   ]
  },
  {
   "cell_type": "code",
   "execution_count": 79,
   "metadata": {},
   "outputs": [
    {
     "name": "stdout",
     "output_type": "stream",
     "text": [
      "0.09205230287423793\n",
      "0.08610132657342096\n"
     ]
    },
    {
     "name": "stderr",
     "output_type": "stream",
     "text": [
      "/Users/ScottW/anaconda3/lib/python3.6/site-packages/sklearn/linear_model/coordinate_descent.py:1094: DataConversionWarning: A column-vector y was passed when a 1d array was expected. Please change the shape of y to (n_samples, ), for example using ravel().\n",
      "  y = column_or_1d(y, warn=True)\n"
     ]
    }
   ],
   "source": [
    "from sklearn.linear_model import LassoCV\n",
    "lr = LassoCV()\n",
    "lr.fit(X_train, y_train)\n",
    "\n",
    "print(r2_score(y_train,lr.predict(X_train)))\n",
    "print(r2_score(y_test,lr.predict(X_test)))"
   ]
  },
  {
   "cell_type": "code",
   "execution_count": 81,
   "metadata": {},
   "outputs": [
    {
     "name": "stdout",
     "output_type": "stream",
     "text": [
      "0.12944739936226235\n",
      "0.1243604063419419\n",
      "\n"
     ]
    }
   ],
   "source": [
    "## For now, us KNN Regression with n = 36\n",
    "## The model is terrible, but that's good enough for now.\n",
    "\n",
    "from sklearn.neighbors import KNeighborsRegressor\n",
    "\n",
    "knn = KNeighborsRegressor(n_neighbors = 36)\n",
    "model = knn.fit(X_train, y_train)\n",
    "yhat = model.predict(X_test)\n",
    "print(r2_score(y_train, knn.predict(X_train)))\n",
    "print(r2_score(y_test, yhat))\n",
    "print()\n"
   ]
  },
  {
   "cell_type": "code",
   "execution_count": 82,
   "metadata": {},
   "outputs": [],
   "source": [
    "yhat = knn.predict(Test)"
   ]
  },
  {
   "cell_type": "code",
   "execution_count": 83,
   "metadata": {},
   "outputs": [
    {
     "data": {
      "text/plain": [
       "(array([1.09917e+05, 3.38900e+03, 1.98300e+03, 2.76000e+02, 1.11000e+02,\n",
       "        2.87000e+02, 1.74000e+02, 2.80000e+01, 8.00000e+01, 4.80000e+01]),\n",
       " array([  1.36111111,  33.08888889,  64.81666667,  96.54444444,\n",
       "        128.27222222, 160.        , 191.72777778, 223.45555556,\n",
       "        255.18333333, 286.91111111, 318.63888889]),\n",
       " <a list of 10 Patch objects>)"
      ]
     },
     "execution_count": 83,
     "metadata": {},
     "output_type": "execute_result"
    },
    {
     "data": {
      "image/png": "[encoded data removed]",
      "text/plain": [
       "<matplotlib.figure.Figure at 0x1a19a78dd8>"
      ]
     },
     "metadata": {},
     "output_type": "display_data"
    }
   ],
   "source": [
    "plt.hist(yhat)"
   ]
  },
  {
   "cell_type": "code",
   "execution_count": 84,
   "metadata": {},
   "outputs": [
    {
     "data": {
      "text/html": [
       "<div>\n",
       "<style scoped>\n",
       "    .dataframe tbody tr th:only-of-type {\n",
       "        vertical-align: middle;\n",
       "    }\n",
       "\n",
       "    .dataframe tbody tr th {\n",
       "        vertical-align: top;\n",
       "    }\n",
       "\n",
       "    .dataframe thead th {\n",
       "        text-align: right;\n",
       "    }\n",
       "</style>\n",
       "<table border=\"1\" class=\"dataframe\">\n",
       "  <thead>\n",
       "    <tr style=\"text-align: right;\">\n",
       "      <th></th>\n",
       "      <th>Id</th>\n",
       "      <th>Date</th>\n",
       "      <th>Species</th>\n",
       "      <th>Trap</th>\n",
       "      <th>Latitude</th>\n",
       "      <th>Longitude</th>\n",
       "      <th>cluster</th>\n",
       "    </tr>\n",
       "  </thead>\n",
       "  <tbody>\n",
       "    <tr>\n",
       "      <th>0</th>\n",
       "      <td>1</td>\n",
       "      <td>2008-06-11</td>\n",
       "      <td>CULEX PIPIENS/RESTUANS</td>\n",
       "      <td>T002</td>\n",
       "      <td>41.95469</td>\n",
       "      <td>-87.800991</td>\n",
       "      <td>16</td>\n",
       "    </tr>\n",
       "    <tr>\n",
       "      <th>1</th>\n",
       "      <td>2</td>\n",
       "      <td>2008-06-11</td>\n",
       "      <td>CULEX RESTUANS</td>\n",
       "      <td>T002</td>\n",
       "      <td>41.95469</td>\n",
       "      <td>-87.800991</td>\n",
       "      <td>16</td>\n",
       "    </tr>\n",
       "    <tr>\n",
       "      <th>2</th>\n",
       "      <td>3</td>\n",
       "      <td>2008-06-11</td>\n",
       "      <td>CULEX PIPIENS</td>\n",
       "      <td>T002</td>\n",
       "      <td>41.95469</td>\n",
       "      <td>-87.800991</td>\n",
       "      <td>16</td>\n",
       "    </tr>\n",
       "    <tr>\n",
       "      <th>3</th>\n",
       "      <td>4</td>\n",
       "      <td>2008-06-11</td>\n",
       "      <td>CULEX SALINARIUS</td>\n",
       "      <td>T002</td>\n",
       "      <td>41.95469</td>\n",
       "      <td>-87.800991</td>\n",
       "      <td>16</td>\n",
       "    </tr>\n",
       "    <tr>\n",
       "      <th>4</th>\n",
       "      <td>5</td>\n",
       "      <td>2008-06-11</td>\n",
       "      <td>CULEX TERRITANS</td>\n",
       "      <td>T002</td>\n",
       "      <td>41.95469</td>\n",
       "      <td>-87.800991</td>\n",
       "      <td>16</td>\n",
       "    </tr>\n",
       "  </tbody>\n",
       "</table>\n",
       "</div>"
      ],
      "text/plain": [
       "   Id       Date                 Species  Trap  Latitude  Longitude  cluster\n",
       "0   1 2008-06-11  CULEX PIPIENS/RESTUANS  T002  41.95469 -87.800991       16\n",
       "1   2 2008-06-11          CULEX RESTUANS  T002  41.95469 -87.800991       16\n",
       "2   3 2008-06-11           CULEX PIPIENS  T002  41.95469 -87.800991       16\n",
       "3   4 2008-06-11        CULEX SALINARIUS  T002  41.95469 -87.800991       16\n",
       "4   5 2008-06-11         CULEX TERRITANS  T002  41.95469 -87.800991       16"
      ]
     },
     "execution_count": 84,
     "metadata": {},
     "output_type": "execute_result"
    }
   ],
   "source": [
    "X_k_test.head()"
   ]
  },
  {
   "cell_type": "code",
   "execution_count": 85,
   "metadata": {},
   "outputs": [],
   "source": [
    "X_k_test['NumMosquitos'] = yhat"
   ]
  },
  {
   "cell_type": "code",
   "execution_count": 86,
   "metadata": {},
   "outputs": [],
   "source": [
    "X_k_test.to_csv('../data/test_with_cluster_and_nummosquitos')"
   ]
  },
  {
   "cell_type": "code",
   "execution_count": null,
   "metadata": {},
   "outputs": [],
   "source": []
  }
 ],
 "metadata": {
  "kernelspec": {
   "display_name": "Python 3",
   "language": "python",
   "name": "python3"
  },
  "language_info": {
   "codemirror_mode": {
    "name": "ipython",
    "version": 3
   },
   "file_extension": ".py",
   "mimetype": "text/x-python",
   "name": "python",
   "nbconvert_exporter": "python",
   "pygments_lexer": "ipython3",
   "version": "3.6.5"
  }
 },
 "nbformat": 4,
 "nbformat_minor": 2
}

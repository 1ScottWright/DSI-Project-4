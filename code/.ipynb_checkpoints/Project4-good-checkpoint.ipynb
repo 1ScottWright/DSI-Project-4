{
 "cells": [
  {
   "cell_type": "markdown",
   "metadata": {},
   "source": [
    "<img src=\"../images/mosquito.jpg\" width=\"1000\" />"
   ]
  },
  {
   "cell_type": "markdown",
   "metadata": {},
   "source": [
    "# <span style=\"color:#37535e\">Healthy Chicago: West Nile Virus Prediction</span>\n",
    "<span style=\"color:#3b748a\">Given weather, location, testing, and spraying data, this competition asks you to predict when and where different species of mosquitos will test positive for West Nile virus.</span>\n",
    "\n",
    "<a href=\"https://www.kaggle.com/c/predict-west-nile-virus\">https://www.kaggle.com/c/predict-west-nile-virus</a>"
   ]
  },
  {
   "cell_type": "markdown",
   "metadata": {},
   "source": [
    "## <span style='color:#3b748a'>Table of contents</span>\n",
    "* <a href=\"#step1\"><span style='color:#4095b5'>Define the problem.</span></a>\n",
    "* <a href=\"#step2\"><span style='color:#4095b5'>Obtain the data.</span></a>\n",
    "* <a href=\"#step3\"><span style='color:#4095b5'>Explore the data.</span></a>\n",
    "* <a href=\"#step4\"><span style='color:#4095b5'>Model the data.</span></a>\n",
    "* <a href=\"#step5\"><span style='color:#4095b5'>Evaluate the model.</span></a>\n",
    "* <a href=\"#step6\"><span style='color:#4095b5'>Answer the problem.</span></a>\n",
    "\n",
    "## <span style='color:#3b748a'>Links</span>\n",
    "* <a href=\"\"><span style='color:#4095b5'>Slide presentation</span></a>\n",
    "* <a href=\"https://github.com/gbkgwyneth/GA-DSI-project-04\"><span style='color:#4095b5'>On GitHub</span></a>\n",
    "* <a href=\"https://drive.google.com/open?id=1q-Tp-zzgZEtVuaDiUyzpCS9frsOv1DTB&usp=sharing\"><span style='color:#4095b5'>Spray map</span></a>\n",
    "* <a href=\"https://drive.google.com/open?id=1YyD5x8lXDe_t8fzrf6DpMOYlsMF8wGzl&usp=sharing\"><span style='color:#4095b5'>Spray 2011-0907 map</span></a>\n",
    "* <a href=\"https://drive.google.com/open?id=1QwftvBJBFt-72KeTvWCDfw-W0drR5nJ3&usp=sharing\"><span style='color:#4095b5'>Traps map</span></a>\n",
    "<hr>"
   ]
  },
  {
   "cell_type": "code",
   "execution_count": 1,
   "metadata": {},
   "outputs": [],
   "source": [
    "# Let's get the administrative stuff done first\n",
    "# import all the libraries and set up the plotting\n",
    "\n",
    "import pandas as pd\n",
    "import numpy as np\n",
    "from datetime import datetime,timedelta\n",
    "\n",
    "from sklearn.cluster import KMeans, k_means\n",
    "from sklearn.ensemble import BaggingClassifier, RandomForestClassifier, ExtraTreesClassifier, AdaBoostClassifier, GradientBoostingClassifier\n",
    "from sklearn.ensemble import BaggingRegressor, RandomForestRegressor, ExtraTreesRegressor, AdaBoostRegressor, GradientBoostingRegressor\n",
    "from sklearn.gaussian_process import GaussianProcessRegressor\n",
    "from sklearn.linear_model import LogisticRegression, LogisticRegressionCV\n",
    "from sklearn.linear_model import Ridge, Lasso, ElasticNet, LinearRegression, RidgeCV, LassoCV, ElasticNetCV\n",
    "from sklearn.metrics import accuracy_score, mean_squared_error, silhouette_score, roc_auc_score\n",
    "\n",
    "from sklearn.model_selection import train_test_split, cross_val_score, GridSearchCV, RandomizedSearchCV \n",
    "from sklearn.neighbors import KNeighborsRegressor, KNeighborsClassifier\n",
    "from sklearn.pipeline import Pipeline\n",
    "from sklearn.preprocessing import StandardScaler, PolynomialFeatures\n",
    "from sklearn.svm import SVC, SVR\n",
    "from sklearn.tree import DecisionTreeClassifier, DecisionTreeRegressor\n",
    "\n",
    "\n",
    "\n",
    "import matplotlib\n",
    "import matplotlib.pyplot as plt\n",
    "import seaborn as sns\n",
    "plt.style.use('seaborn')\n",
    "sns.set(style=\"white\", color_codes=True)\n",
    "colors_palette = sns.color_palette(\"GnBu_d\")\n",
    "sns.set_palette(colors_palette)\n",
    "\n",
    "# GnBu_d\n",
    "colors = ['#37535e', '#3b748a', '#4095b5', '#52aec9', '#72bfc4', '#93d0bf']"
   ]
  },
  {
   "cell_type": "markdown",
   "metadata": {},
   "source": [
    "## <span style='color:#3b748a'>Data checking functions</span>"
   ]
  },
  {
   "cell_type": "code",
   "execution_count": 2,
   "metadata": {},
   "outputs": [],
   "source": [
    "# Check which non-numeric columns are missing values and what the possible values are for each object column\n",
    "\n",
    "def check_cols(df):\n",
    "    cols = df.select_dtypes([np.object]).columns\n",
    "    for col in cols:\n",
    "        print(\"{} is {} and values are {}.\".format(col,df[col].dtype,df[col].unique()))\n",
    "        n_nan = df[col].isnull().sum()\n",
    "        if n_nan > 0:\n",
    "            print(\"{} has {} NaNs\".format(col,n_nan))\n",
    "            \n",
    "    cols = df.select_dtypes([np.int64,np.float64,np.uint64]).columns\n",
    "    for col in cols:\n",
    "        print(\"{} is {} and values are {} to {}.\".format(col,df[col].dtype,df[col].min(),df[col].max()))\n",
    "        n_nan = df[col].isnull().sum()\n",
    "        if n_nan > 0:\n",
    "            print(\"{} has {} NaNs\".format(col,n_nan))\n",
    "    return"
   ]
  },
  {
   "cell_type": "code",
   "execution_count": 3,
   "metadata": {},
   "outputs": [],
   "source": [
    "# Check which numeric columns are missing values\n",
    "\n",
    "def check_data(df):\n",
    "    s = df.shape\n",
    "    print(\"Rows: {} Cols: {}\".format(s[0],s[1]))\n",
    "\n",
    "    # Check for null values\n",
    "    null_data = df.isnull().sum()\n",
    "    null_data_count = sum(df.isnull().sum())\n",
    "    if  null_data_count > 0:\n",
    "        print(\"There are {} null data.\".format(null_data_count))\n",
    "        print(\"Columns with NaN: {}\".format(list(null_data[null_data > 0].index)))\n",
    "\n",
    "    check_cols(df)\n",
    "\n",
    "    return"
   ]
  },
  {
   "cell_type": "code",
   "execution_count": 4,
   "metadata": {},
   "outputs": [],
   "source": [
    "def read_examine_df(file):\n",
    "    df = pd.read_csv(file)\n",
    "    check_data(df)\n",
    "    return df"
   ]
  },
  {
   "cell_type": "markdown",
   "metadata": {},
   "source": [
    "### <span style='color:#3b748a'>Data cleaning functions</span>\n",
    "\n",
    "<span style='color:#4095b5'>These functions fill the NaNs with appropriate values. Given more time, we could make these funcions more robust.</span>"
   ]
  },
  {
   "cell_type": "code",
   "execution_count": 5,
   "metadata": {},
   "outputs": [],
   "source": [
    "# Change the NaNs in numeric columns to a value ?\n",
    "\n",
    "def clean_data(df, val):\n",
    "    numeric_cols = df.select_dtypes([np.int64,np.float64,np.uint64]).columns\n",
    "    df[numeric_cols] = df[numeric_cols].fillna(val)\n",
    "    return"
   ]
  },
  {
   "cell_type": "code",
   "execution_count": 6,
   "metadata": {},
   "outputs": [],
   "source": [
    "# Check values of categries and fill the NaNs with a specified value.\n",
    "\n",
    "def clean_check_col(df, col,possible_values,fill_value):\n",
    "    df[col] = df[col].fillna(fill_value)\n",
    "    values = set(df[col])\n",
    "    if not values.issubset(possible_values):\n",
    "         print(\"Problem with {}.\".format(col))                 \n",
    "    return"
   ]
  },
  {
   "cell_type": "markdown",
   "metadata": {},
   "source": [
    "<hr>\n",
    " <a name=\"step1\"></a>\n",
    " ## <span style=\"color:#37535e\">I. Define the problem</span>\n",
    " \n",
    "<span style='color:#3b748a'>Predict when and where different species of mosquitos will test positive for West Nile virus. A more accurate method of predicting outbreaks of West Nile virus in mosquitos will help the City of Chicago and CPHD more efficiently and effectively allocate resources towards preventing transmission of this potentially deadly virus.</span>"
   ]
  },
  {
   "cell_type": "markdown",
   "metadata": {},
   "source": [
    "<a name=\"step2\"></a>\n",
    " ## <span style=\"color:#37535e\">II. Obtain the data.</span>\n",
    " \n",
    "<ul>\n",
    "    <li><span style='color:#3b748a'>Training data: <span style=\"font-family:monospace\">train.csv</span></span></li>\n",
    "    <li><span style='color:#3b748a'>Test data: <span style=\"font-family:monospace\">test.csv</span></span></li>\n",
    "    <li><span style='color:#3b748a'>Spray data: <span style=\"font-family:monospace\">spray.csv</span></span></li>\n",
    "    <li><span style='color:#3b748a'>Weather data: <span style=\"font-family:monospace\">weather.csv</span></span></li>\n",
    "</ul>"
   ]
  },
  {
   "cell_type": "markdown",
   "metadata": {},
   "source": [
    "### <span style='color:#3b748a'>Training data</span>\n",
    "<ul>\n",
    "    <li><span style='color:#4095b5'>Rows: 10506</span></li\n",
    "        >\n",
    "    <li><span style='color:#4095b5'>Cols: 12</span></li>\n",
    "    <li><span style='color:#4095b5'>There is NO null data.</span></li>\n",
    "</ul>"
   ]
  },
  {
   "cell_type": "code",
   "execution_count": 7,
   "metadata": {},
   "outputs": [],
   "source": [
    "# To check nulls, dtypes, values, etc.\n",
    "# df_train = read_examine_df(\"../data/train.csv\")\n",
    "\n",
    "df_train = pd.read_csv(\"../data/train.csv\")"
   ]
  },
  {
   "cell_type": "markdown",
   "metadata": {},
   "source": [
    "### <span style='color:#3b748a'>Cleaning the training data</span>\n",
    "<ul>\n",
    "    <li><span style='color:#4095b5'>Looks like lat &amp; long have a reasonable range</span></li>\n",
    "    <li><span style='color:#4095b5'>Drop address data for now</span></li>\n",
    "    <li><span style='color:#4095b5'>Replace <span style=\"font-family:monospace\">Date</span>  with a <span style=\"font-family:monospace\">datetime</span> obj</span></li>\n",
    "    <li><span style='color:#4095b5'>Create <span style=\"font-family:monospace\">Week</span> and <span style=\"font-family:monospace\">Year</span> features</span></li>\n",
    "    <li><span style='color:#4095b5'>Merge rows with same trap/date/species; sum <span style=\"font-family:monospace\">NumMosquitos</span> and set <span style=\"font-family:monospace\">WnvPresent</span></span></li>\n",
    "</ul>"
   ]
  },
  {
   "cell_type": "code",
   "execution_count": 8,
   "metadata": {},
   "outputs": [],
   "source": [
    "# For now, drop all the address columns since lat/lon should be enough\n",
    "df_train.drop(['Address','Block','Street','AddressNumberAndStreet','AddressAccuracy'], axis=1,inplace=True)"
   ]
  },
  {
   "cell_type": "code",
   "execution_count": 9,
   "metadata": {},
   "outputs": [],
   "source": [
    "# Make Date into datetime\n",
    "df_train['Date'] = pd.to_datetime(df_train['Date'])\n",
    "\n",
    "# Add week\n",
    "df_train['Week'] = (df_train['Date'].dt.strftime('%W')).astype(int)\n",
    "df_train['Year'] = (df_train['Date'].dt.strftime('%Y')).astype(int)"
   ]
  },
  {
   "cell_type": "code",
   "execution_count": 10,
   "metadata": {},
   "outputs": [],
   "source": [
    "# Merge duplicate rows by summing NumMosquiots and WMvPresent\n",
    "df_train = df_train.groupby(['Date','Week','Species','Trap','Latitude', 'Longitude'], as_index=False).sum().reindex()\n",
    "\n",
    "# Change WnvPresent to be  0/1\n",
    "df_train['WnvPresent'] = (df_train['WnvPresent'] > 0).astype(int)"
   ]
  },
  {
   "cell_type": "code",
   "execution_count": 11,
   "metadata": {},
   "outputs": [
    {
     "data": {
      "image/png": "[encoded data removed]",
      "text/plain": [
       "<Figure size 1080x432 with 1 Axes>"
      ]
     },
     "metadata": {},
     "output_type": "display_data"
    }
   ],
   "source": [
    "df_temp = df_train.groupby(['Week','Species'], as_index=False).sum().reindex()\n",
    "\n",
    "p = sns.lmplot(data=df_temp, x = 'Week', y='NumMosquitos', hue='Species', fit_reg=False);\n",
    "p.fig.set_figheight(6)\n",
    "p.fig.set_figwidth(15)"
   ]
  },
  {
   "cell_type": "markdown",
   "metadata": {},
   "source": [
    "### <span style='color:#3b748a'>Create a \"target\" variable</span>"
   ]
  },
  {
   "cell_type": "code",
   "execution_count": 12,
   "metadata": {},
   "outputs": [],
   "source": [
    "# Create our target!\n",
    "\n",
    "y_wnv_label = 'WnvPresent'\n",
    "y_wnv = df_train[y_wnv_label]\n",
    "y_count_label = 'NumMosquitos'\n",
    "y_count = df_train[y_count_label]\n",
    "\n",
    "df_train.drop(columns=[y_wnv_label,y_count_label], inplace=True)"
   ]
  },
  {
   "cell_type": "markdown",
   "metadata": {},
   "source": [
    "### <span style='color:#3b748a'>Kaggle data</span>\n",
    "<ul>\n",
    "    <li><span style='color:#4095b5'>Rows: 116293</span></li>\n",
    "    <li><span style='color:#4095b5'>Cols: 11</span></li>\n",
    "    <li><span style='color:#4095b5'>There is NO null data.</span></li>\n",
    "</ul>\n",
    "\n",
    "<span style='color:#4095b5'>The instructions say that we are predicting all combinations of possible traps/dates/etc., but we will only be scored on the records that match with actual tests/samples.</span>"
   ]
  },
  {
   "cell_type": "code",
   "execution_count": 13,
   "metadata": {},
   "outputs": [],
   "source": [
    "# To check nulls, dtypes, values, etc.\n",
    "# df_kaggle = read_examine_df(\"../data/test.csv\")\n",
    "\n",
    "df_kaggle = pd.read_csv(\"../data/test.csv\")"
   ]
  },
  {
   "cell_type": "markdown",
   "metadata": {},
   "source": [
    "### <span style='color:#3b748a'>Cleaning the Kaggle data</span>\n",
    "<ul>\n",
    "    <li><span style='color:#4095b5'>Looks like lat &amp; long have a reasonable range</span></li>\n",
    "    <li><span style='color:#4095b5'>Drop address data for now</span></li>\n",
    "    <li><span style='color:#4095b5'>Replace <span style=\"font-family:monospace\">Date</span>  with a <span style=\"font-family:monospace\">datetime</span> obj</span></li>\n",
    "    <li><span style='color:#4095b5'>Create <span style=\"font-family:monospace\">Week</span> and <span style=\"font-family:monospace\">Year</span> features</span></li>\n",
    "    <li><span style='color:#4095b5'>There are duplicate rows. Can we assume anything about these?</span></li>\n",
    "</ul>    \n",
    "\n",
    "<ul>\n",
    "    <li><span style='color:#4095b5'>Does not have <span style=\"font-family:monospace\">NumMosquitos</span> nor <span style=\"font-family:monospace\">WnvPresent</span></span></li>\n",
    "    <li><span style='color:#4095b5'>Does have Id column - make this the index</span></li>\n",
    "</ul>"
   ]
  },
  {
   "cell_type": "code",
   "execution_count": 14,
   "metadata": {},
   "outputs": [],
   "source": [
    "# For now, drop all the address columns since lat/lon should be enough\n",
    "df_kaggle.drop(['Address','Block','Street','AddressNumberAndStreet','AddressAccuracy'], axis=1,inplace=True)\n",
    "\n",
    "# Make Date into datetime and add week\n",
    "df_kaggle['Date'] = pd.to_datetime(df_kaggle['Date'])\n",
    "df_kaggle['Week'] = (df_kaggle['Date'].dt.strftime('%W')).astype(int)\n",
    "df_kaggle['Year'] = (df_kaggle['Date'].dt.strftime('%Y')).astype(int)\n",
    "\n",
    "# Make the ID the index\n",
    "df_kaggle.set_index(\"Id\", inplace=True)"
   ]
  },
  {
   "cell_type": "code",
   "execution_count": 15,
   "metadata": {},
   "outputs": [
    {
     "name": "stdout",
     "output_type": "stream",
     "text": [
      "There are 1533 duplicate rows in the test data\n"
     ]
    }
   ],
   "source": [
    "# If there is a duplicate row, maybe that means we know there are at most 50 in trap?\n",
    "duplicates = df_kaggle[df_kaggle.duplicated()].shape[0]\n",
    "print(\"There are {} duplicate rows in the test data\".format(duplicates))"
   ]
  },
  {
   "cell_type": "code",
   "execution_count": 16,
   "metadata": {},
   "outputs": [
    {
     "data": {
      "text/html": [
       "<div>\n",
       "<style scoped>\n",
       "    .dataframe tbody tr th:only-of-type {\n",
       "        vertical-align: middle;\n",
       "    }\n",
       "\n",
       "    .dataframe tbody tr th {\n",
       "        vertical-align: top;\n",
       "    }\n",
       "\n",
       "    .dataframe thead th {\n",
       "        text-align: right;\n",
       "    }\n",
       "</style>\n",
       "<table border=\"1\" class=\"dataframe\">\n",
       "  <thead>\n",
       "    <tr style=\"text-align: right;\">\n",
       "      <th></th>\n",
       "      <th>Date</th>\n",
       "      <th>Species</th>\n",
       "      <th>Trap</th>\n",
       "      <th>Latitude</th>\n",
       "      <th>Longitude</th>\n",
       "      <th>Week</th>\n",
       "      <th>Year</th>\n",
       "    </tr>\n",
       "    <tr>\n",
       "      <th>Id</th>\n",
       "      <th></th>\n",
       "      <th></th>\n",
       "      <th></th>\n",
       "      <th></th>\n",
       "      <th></th>\n",
       "      <th></th>\n",
       "      <th></th>\n",
       "    </tr>\n",
       "  </thead>\n",
       "  <tbody>\n",
       "    <tr>\n",
       "      <th>1</th>\n",
       "      <td>2008-06-11</td>\n",
       "      <td>CULEX PIPIENS/RESTUANS</td>\n",
       "      <td>T002</td>\n",
       "      <td>41.95469</td>\n",
       "      <td>-87.800991</td>\n",
       "      <td>23</td>\n",
       "      <td>2008</td>\n",
       "    </tr>\n",
       "    <tr>\n",
       "      <th>2</th>\n",
       "      <td>2008-06-11</td>\n",
       "      <td>CULEX RESTUANS</td>\n",
       "      <td>T002</td>\n",
       "      <td>41.95469</td>\n",
       "      <td>-87.800991</td>\n",
       "      <td>23</td>\n",
       "      <td>2008</td>\n",
       "    </tr>\n",
       "    <tr>\n",
       "      <th>3</th>\n",
       "      <td>2008-06-11</td>\n",
       "      <td>CULEX PIPIENS</td>\n",
       "      <td>T002</td>\n",
       "      <td>41.95469</td>\n",
       "      <td>-87.800991</td>\n",
       "      <td>23</td>\n",
       "      <td>2008</td>\n",
       "    </tr>\n",
       "    <tr>\n",
       "      <th>4</th>\n",
       "      <td>2008-06-11</td>\n",
       "      <td>CULEX SALINARIUS</td>\n",
       "      <td>T002</td>\n",
       "      <td>41.95469</td>\n",
       "      <td>-87.800991</td>\n",
       "      <td>23</td>\n",
       "      <td>2008</td>\n",
       "    </tr>\n",
       "    <tr>\n",
       "      <th>5</th>\n",
       "      <td>2008-06-11</td>\n",
       "      <td>CULEX TERRITANS</td>\n",
       "      <td>T002</td>\n",
       "      <td>41.95469</td>\n",
       "      <td>-87.800991</td>\n",
       "      <td>23</td>\n",
       "      <td>2008</td>\n",
       "    </tr>\n",
       "  </tbody>\n",
       "</table>\n",
       "</div>"
      ],
      "text/plain": [
       "         Date                 Species  Trap  Latitude  Longitude  Week  Year\n",
       "Id                                                                          \n",
       "1  2008-06-11  CULEX PIPIENS/RESTUANS  T002  41.95469 -87.800991    23  2008\n",
       "2  2008-06-11          CULEX RESTUANS  T002  41.95469 -87.800991    23  2008\n",
       "3  2008-06-11           CULEX PIPIENS  T002  41.95469 -87.800991    23  2008\n",
       "4  2008-06-11        CULEX SALINARIUS  T002  41.95469 -87.800991    23  2008\n",
       "5  2008-06-11         CULEX TERRITANS  T002  41.95469 -87.800991    23  2008"
      ]
     },
     "execution_count": 16,
     "metadata": {},
     "output_type": "execute_result"
    }
   ],
   "source": [
    "df_kaggle.head()"
   ]
  },
  {
   "cell_type": "markdown",
   "metadata": {},
   "source": [
    "### <span style='color:#3b748a'>Spray data</span>\n",
    "<ul>\n",
    "    <li><span style='color:#4095b5'>Rows: 14835</span></li\n",
    "        >\n",
    "    <li><span style='color:#4095b5'>Cols: 4</span></li>\n",
    "    <li><span style='color:#4095b5'>There are 584 null data.</span></li>\n",
    "    <li><span style='color:#4095b5'>Columns with NaN: <span style=\"font-family:monospace\">Time</span></span></li>\n",
    "</ul>"
   ]
  },
  {
   "cell_type": "code",
   "execution_count": 17,
   "metadata": {},
   "outputs": [
    {
     "name": "stdout",
     "output_type": "stream",
     "text": [
      "Rows: 14835 Cols: 4\n",
      "There are 584 null data.\n",
      "Columns with NaN: ['Time']\n",
      "Date is object and values are ['2011-08-29' '2011-09-07' '2013-07-17' '2013-07-25' '2013-08-08'\n",
      " '2013-08-15' '2013-08-16' '2013-08-22' '2013-08-29' '2013-09-05'].\n",
      "Time is object and values are ['6:56:58 PM' '6:57:08 PM' '6:57:18 PM' ..., '8:04:01 PM' '8:04:11 PM'\n",
      " '8:04:21 PM'].\n",
      "Time has 584 NaNs\n",
      "Latitude is float64 and values are 41.713925 to 42.3959833333333.\n",
      "Longitude is float64 and values are -88.0964683333333 to -87.58672666666669.\n"
     ]
    },
    {
     "data": {
      "text/html": [
       "<div>\n",
       "<style scoped>\n",
       "    .dataframe tbody tr th:only-of-type {\n",
       "        vertical-align: middle;\n",
       "    }\n",
       "\n",
       "    .dataframe tbody tr th {\n",
       "        vertical-align: top;\n",
       "    }\n",
       "\n",
       "    .dataframe thead th {\n",
       "        text-align: right;\n",
       "    }\n",
       "</style>\n",
       "<table border=\"1\" class=\"dataframe\">\n",
       "  <thead>\n",
       "    <tr style=\"text-align: right;\">\n",
       "      <th></th>\n",
       "      <th>Date</th>\n",
       "      <th>Time</th>\n",
       "      <th>Latitude</th>\n",
       "      <th>Longitude</th>\n",
       "    </tr>\n",
       "  </thead>\n",
       "  <tbody>\n",
       "    <tr>\n",
       "      <th>0</th>\n",
       "      <td>2011-08-29</td>\n",
       "      <td>6:56:58 PM</td>\n",
       "      <td>42.391623</td>\n",
       "      <td>-88.089163</td>\n",
       "    </tr>\n",
       "    <tr>\n",
       "      <th>1</th>\n",
       "      <td>2011-08-29</td>\n",
       "      <td>6:57:08 PM</td>\n",
       "      <td>42.391348</td>\n",
       "      <td>-88.089163</td>\n",
       "    </tr>\n",
       "    <tr>\n",
       "      <th>2</th>\n",
       "      <td>2011-08-29</td>\n",
       "      <td>6:57:18 PM</td>\n",
       "      <td>42.391022</td>\n",
       "      <td>-88.089157</td>\n",
       "    </tr>\n",
       "    <tr>\n",
       "      <th>3</th>\n",
       "      <td>2011-08-29</td>\n",
       "      <td>6:57:28 PM</td>\n",
       "      <td>42.390637</td>\n",
       "      <td>-88.089158</td>\n",
       "    </tr>\n",
       "    <tr>\n",
       "      <th>4</th>\n",
       "      <td>2011-08-29</td>\n",
       "      <td>6:57:38 PM</td>\n",
       "      <td>42.390410</td>\n",
       "      <td>-88.088858</td>\n",
       "    </tr>\n",
       "  </tbody>\n",
       "</table>\n",
       "</div>"
      ],
      "text/plain": [
       "         Date        Time   Latitude  Longitude\n",
       "0  2011-08-29  6:56:58 PM  42.391623 -88.089163\n",
       "1  2011-08-29  6:57:08 PM  42.391348 -88.089163\n",
       "2  2011-08-29  6:57:18 PM  42.391022 -88.089157\n",
       "3  2011-08-29  6:57:28 PM  42.390637 -88.089158\n",
       "4  2011-08-29  6:57:38 PM  42.390410 -88.088858"
      ]
     },
     "execution_count": 17,
     "metadata": {},
     "output_type": "execute_result"
    }
   ],
   "source": [
    "df_spray = read_examine_df(\"../data/spray.csv\")\n",
    "df_spray.head()"
   ]
  },
  {
   "cell_type": "markdown",
   "metadata": {},
   "source": [
    "### <span style='color:#3b748a'>Cleaning the spray data</span>\n",
    "<ul>\n",
    "    <li><span style='color:#4095b5'>Looks like lat &amp; long have a reasonable range</span></li>\n",
    "    <li><span style='color:#4095b5'>Missing spray data</span></li>\n",
    "    <li><span style='color:#4095b5'>Drop (~450) duplicate rows: <br />2011-09-07\t7:44:32 PM\t41.98646\t-87.794225</span></li>\n",
    "    <li><span style='color:#4095b5'>Add datetime object instead of <span style=\"font-family:monospace\">Date</span> and <span style=\"font-family:monospace\">Time</span></span></li>\n",
    "</ul>\n"
   ]
  },
  {
   "cell_type": "markdown",
   "metadata": {},
   "source": [
    "<img src=\"../images/spray-map.jpg\" alt=\"Full spray map\" width=700/>\n",
    "<center><span style='color:#4095b5'>Map of all spraying except for 2011-0907</span></center>"
   ]
  },
  {
   "cell_type": "markdown",
   "metadata": {},
   "source": [
    "<img src=\"../images/spray-2011-09-07.jpg\" alt=\"Spray map for 2011-09-07\" width=700/>\n",
    "<center><span style='color:#4095b5'>Map of all spraying on 2011-0907</span></center>"
   ]
  },
  {
   "cell_type": "markdown",
   "metadata": {},
   "source": [
    "### <span style='color:#3b748a'>Missing spray time data</span>\n",
    "<ul>\n",
    "    <li><span style='color:#4095b5'>Many 'Time' values are missing but can likely be imputed</span></li>\n",
    "    <li><span style='color:#4095b5'>Spraying happens every 10 seconds. </span></li>\n",
    "    <li><span style='color:#4095b5'>As the previous rows were the duplicate data, I'm going to guess that we should END at 7:44:32.</span>\n",
    "</ul>"
   ]
  },
  {
   "cell_type": "code",
   "execution_count": 18,
   "metadata": {},
   "outputs": [],
   "source": [
    "# Get time of duplicate row\n",
    "# Make it the start for the next set of columns\n",
    "# fill the NaNs, subtracting ten seconds based on the map of the missing data\n",
    "\n",
    "# Get time of duplicate row\n",
    "series = df_spray[df_spray.duplicated() == True].index\n",
    "idx = series[-1]\n",
    "\n",
    "# Check the next row starts the Nans\n",
    "# print(\"If it is not a NaN, we have a problem... {}\".format(df_spray.loc[idx+1]['Time']))\n",
    "\n",
    "# Assume the NaNs are in a row\n",
    "null_data_count = sum(df_spray.isnull().sum())\n",
    "# print(\"If it is not a NaN, we have a problem... {}\".format(df_spray.iloc[idx+null_data_count]['Time']))\n",
    "# print(\"If it IS a NaN, we have a problem... {}\".format(df_spray.iloc[idx+null_data_count+1]['Time']))\n",
    "\n",
    "# Make it the start for the next row\n",
    "start_time = pd.to_datetime(df_spray.iloc[idx]['Time'])\n",
    "times = [(start_time + timedelta(seconds=-10*i)).time().strftime('%H:%M:%S')\n",
    "         for i in range(null_data_count)]\n",
    "\n",
    "# Replace the missing times\n",
    "df_spray.loc[df_spray['Time'].isnull(), 'Time'] = times\n",
    "\n",
    "# Check that there are no longer any nulls\n",
    "null_data_count = sum(df_spray.isnull().sum())\n",
    "if  null_data_count > 0:\n",
    "    print(\"There are {} null data.\".format(null_data_count))"
   ]
  },
  {
   "cell_type": "code",
   "execution_count": 19,
   "metadata": {},
   "outputs": [],
   "source": [
    "# Drop duplicate rows\n",
    "df_spray.drop_duplicates(keep='last', inplace=True)"
   ]
  },
  {
   "cell_type": "code",
   "execution_count": 20,
   "metadata": {},
   "outputs": [
    {
     "data": {
      "text/html": [
       "<div>\n",
       "<style scoped>\n",
       "    .dataframe tbody tr th:only-of-type {\n",
       "        vertical-align: middle;\n",
       "    }\n",
       "\n",
       "    .dataframe tbody tr th {\n",
       "        vertical-align: top;\n",
       "    }\n",
       "\n",
       "    .dataframe thead th {\n",
       "        text-align: right;\n",
       "    }\n",
       "</style>\n",
       "<table border=\"1\" class=\"dataframe\">\n",
       "  <thead>\n",
       "    <tr style=\"text-align: right;\">\n",
       "      <th></th>\n",
       "      <th>Date</th>\n",
       "      <th>Time</th>\n",
       "      <th>Latitude</th>\n",
       "      <th>Longitude</th>\n",
       "      <th>DateTime</th>\n",
       "    </tr>\n",
       "  </thead>\n",
       "  <tbody>\n",
       "    <tr>\n",
       "      <th>0</th>\n",
       "      <td>2011-08-29</td>\n",
       "      <td>6:56:58 PM</td>\n",
       "      <td>42.391623</td>\n",
       "      <td>-88.089163</td>\n",
       "      <td>2011-08-29 18:56:58</td>\n",
       "    </tr>\n",
       "    <tr>\n",
       "      <th>1</th>\n",
       "      <td>2011-08-29</td>\n",
       "      <td>6:57:08 PM</td>\n",
       "      <td>42.391348</td>\n",
       "      <td>-88.089163</td>\n",
       "      <td>2011-08-29 18:57:08</td>\n",
       "    </tr>\n",
       "    <tr>\n",
       "      <th>2</th>\n",
       "      <td>2011-08-29</td>\n",
       "      <td>6:57:18 PM</td>\n",
       "      <td>42.391022</td>\n",
       "      <td>-88.089157</td>\n",
       "      <td>2011-08-29 18:57:18</td>\n",
       "    </tr>\n",
       "    <tr>\n",
       "      <th>3</th>\n",
       "      <td>2011-08-29</td>\n",
       "      <td>6:57:28 PM</td>\n",
       "      <td>42.390637</td>\n",
       "      <td>-88.089158</td>\n",
       "      <td>2011-08-29 18:57:28</td>\n",
       "    </tr>\n",
       "    <tr>\n",
       "      <th>4</th>\n",
       "      <td>2011-08-29</td>\n",
       "      <td>6:57:38 PM</td>\n",
       "      <td>42.390410</td>\n",
       "      <td>-88.088858</td>\n",
       "      <td>2011-08-29 18:57:38</td>\n",
       "    </tr>\n",
       "  </tbody>\n",
       "</table>\n",
       "</div>"
      ],
      "text/plain": [
       "         Date        Time   Latitude  Longitude            DateTime\n",
       "0  2011-08-29  6:56:58 PM  42.391623 -88.089163 2011-08-29 18:56:58\n",
       "1  2011-08-29  6:57:08 PM  42.391348 -88.089163 2011-08-29 18:57:08\n",
       "2  2011-08-29  6:57:18 PM  42.391022 -88.089157 2011-08-29 18:57:18\n",
       "3  2011-08-29  6:57:28 PM  42.390637 -88.089158 2011-08-29 18:57:28\n",
       "4  2011-08-29  6:57:38 PM  42.390410 -88.088858 2011-08-29 18:57:38"
      ]
     },
     "execution_count": 20,
     "metadata": {},
     "output_type": "execute_result"
    }
   ],
   "source": [
    "# Turn the Date/Time into a datetime object\n",
    "df_spray['DateTime'] = pd.to_datetime(df_spray['Date'] + \" \" + df_spray['Time'])\n",
    "\n",
    "# df_spray.drop(['Date','Time'], axis=1, inplace=True)\n",
    "df_spray.head()"
   ]
  },
  {
   "cell_type": "markdown",
   "metadata": {},
   "source": [
    "<span style='color:#f67088'><b>TO DO :</b> </span>\n",
    "<ul>\n",
    "    <li><span style='color:#f67088'>Heat map of sprays / frequency over time?</span></li>\n",
    "</ul>\n"
   ]
  },
  {
   "cell_type": "markdown",
   "metadata": {},
   "source": [
    "### <span style='color:#3b748a'>Weather data</span>\n",
    "<ul>\n",
    "    <li><span style='color:#4095b5'>Rows: 2944</span></li>\n",
    "    <li><span style='color:#4095b5'>Cols: 0</span></li>\n",
    "    <li><span style='color:#4095b5'>There is NO null data.</span></li>\n",
    "</ul>"
   ]
  },
  {
   "cell_type": "code",
   "execution_count": 21,
   "metadata": {},
   "outputs": [
    {
     "name": "stdout",
     "output_type": "stream",
     "text": [
      "Rows: 2944 Cols: 22\n",
      "Date is object and values are ['2007-05-01' '2007-05-02' '2007-05-03' ..., '2014-10-29' '2014-10-30'\n",
      " '2014-10-31'].\n",
      "Tavg is object and values are ['67' '68' '51' '52' '56' '58' 'M' '60' '59' '65' '70' '69' '71' '61' '55'\n",
      " '57' '73' '72' '53' '62' '63' '74' '75' '78' '76' '77' '66' '80' '64' '81'\n",
      " '82' '79' '85' '84' '83' '50' '49' '46' '48' '45' '54' '47' '44' '40' '41'\n",
      " '38' '39' '42' '37' '43' '86' '87' '89' '92' '88' '91' '93' '94' '90' '36'].\n",
      "Depart is object and values are ['14' 'M' '-3' ' 2' ' 4' ' 5' '10' '12' '13' '-2' '15' '11' '-4' '-6' ' 8'\n",
      " '-5' ' 1' ' 9' ' 6' '-9' '-8' ' 3' ' 0' '-1' '-7' ' 7' '-14' '18' '16'\n",
      " '22' '21' '20' '-10' '-16' '17' '-12' '-11' '-15' '-17' '19' '-13' '23'].\n",
      "WetBulb is object and values are ['56' '57' '47' '48' '50' '49' '46' '54' '53' '62' '63' '60' '61' '51' '59'\n",
      " '58' '43' '44' '45' '65' '66' '67' '64' '52' '55' '69' '68' '70' '72' '71'\n",
      " '73' '74' '76' '42' '39' '40' '41' '35' '33' '34' 'M' '75' '36' '32' '38'\n",
      " '78' '77' '37'].\n",
      "Heat is object and values are ['0' '14' '13' '9' '7' 'M' '5' '6' '4' '10' '8' '12' '3' '2' '1' '15' '16'\n",
      " '19' '17' '20' '11' '18' '21' '25' '24' '27' '26' '23' '28' '22' '29'].\n",
      "Cool is object and values are [' 2' ' 3' ' 0' 'M' ' 5' ' 4' ' 6' ' 8' ' 7' ' 9' '10' '13' '11' '12' ' 1'\n",
      " '15' '16' '17' '14' '20' '19' '18' '21' '22' '24' '27' '23' '26' '28' '29'\n",
      " '25'].\n",
      "Sunrise is object and values are ['0448' '-' '0447' '0446' '0444' '0443' '0442' '0441' '0439' '0438' '0437'\n",
      " '0436' '0435' '0434' '0433' '0432' '0431' '0430' '0429' '0428' '0427'\n",
      " '0426' '0425' '0424' '0423' '0422' '0421' '0420' '0419' '0418' '0417'\n",
      " '0416' '0440' '0445' '0449' '0450' '0451' '0452' '0453' '0454' '0455'\n",
      " '0456' '0457' '0458' '0459' '0500' '0501' '0502' '0503' '0504' '0505'\n",
      " '0506' '0508' '0509' '0510' '0511' '0512' '0513' '0514' '0515' '0516'\n",
      " '0517' '0518' '0519' '0520' '0521' '0522' '0523' '0524' '0525' '0526'\n",
      " '0527' '0528' '0529' '0530' '0531' '0532' '0533' '0535' '0536' '0537'\n",
      " '0538' '0539' '0540' '0541' '0542' '0543' '0544' '0545' '0546' '0547'\n",
      " '0548' '0549' '0550' '0552' '0553' '0554' '0555' '0556' '0557' '0558'\n",
      " '0559' '0600' '0602' '0603' '0604' '0605' '0606' '0607' '0608' '0610'\n",
      " '0611' '0612' '0613' '0614' '0616' '0617' '0618' '0619' '0620' '0622'\n",
      " '0623'].\n",
      "Sunset is object and values are ['1849' '-' '1850' '1851' '1852' '1853' '1855' '1856' '1857' '1858' '1859'\n",
      " '1860' '1901' '1902' '1903' '1904' '1905' '1906' '1907' '1908' '1909'\n",
      " '1910' '1911' '1912' '1913' '1914' '1915' '1916' '1917' '1918' '1919'\n",
      " '1920' '1921' '1922' '1923' '1924' '1925' '1926' '1927' '1928' '1929'\n",
      " '1930' '1931' '1900' '1854' '1848' '1846' '1845' '1843' '1842' '1840'\n",
      " '1839' '1837' '1835' '1834' '1832' '1831' '1829' '1827' '1826' '1824'\n",
      " '1822' '1821' '1819' '1817' '1815' '1814' '1812' '1810' '1809' '1807'\n",
      " '1805' '1803' '1760' '1758' '1756' '1755' '1753' '1751' '1749' '1748'\n",
      " '1746' '1744' '1742' '1741' '1739' '1737' '1735' '1734' '1732' '1730'\n",
      " '1729' '1727' '1725' '1724' '1722' '1720' '1719' '1717' '1715' '1714'\n",
      " '1712' '1711' '1709' '1707' '1706' '1704' '1703' '1701' '1660' '1658'\n",
      " '1657' '1656' '1654' '1653' '1651' '1650' '1649' '1647'].\n",
      "CodeSum is object and values are [' ' 'BR' 'BR HZ' 'HZ' 'RA' 'RA BR' 'TSRA RA BR' 'RA VCTS' 'TSRA RA'\n",
      " 'RA HZ' 'TSRA RA BR HZ' 'TSRA BR HZ' 'RA BR HZ VCTS' 'TSRA RA HZ'\n",
      " 'TSRA BR HZ VCTS' 'TSRA' 'TSRA BR HZ FU' 'TSRA RA HZ FU' 'BR HZ FU'\n",
      " 'TSRA RA VCTS' 'HZ VCTS' 'TSRA HZ' 'VCTS' 'RA BR VCTS' 'TSRA RA BR VCTS'\n",
      " 'TS TSRA RA BR HZ VCTS' 'DZ BR' 'TS TSRA RA BR HZ' 'TS TSRA BR HZ'\n",
      " 'RA BR HZ' 'TSRA RA DZ BR HZ' 'TS TSRA RA BR' 'TS RA BR' 'TS TSRA RA'\n",
      " 'TS TSRA RA BR VCTS' 'TS TSRA BR' 'TS RA' 'RA BCFG BR' 'TSRA BR'\n",
      " 'RA DZ FG+ BCFG BR' 'RA FG+ MIFG BR' 'RA DZ' 'RA DZ BR' 'TS TSRA RA HZ'\n",
      " 'TSRA RA FG+ FG BR' 'TSRA DZ FG+ FG BR HZ' 'TS BR' 'RA BR SQ' 'TS TSRA'\n",
      " 'TSRA RA BR HZ VCTS' 'BR VCTS' 'TS' 'FG+ BR HZ' 'RA SN' 'TSRA RA DZ BR'\n",
      " 'DZ BR HZ' 'RA BR FU' 'TS BR HZ' 'DZ' 'FG+ BR' 'FG+ FG BR' 'FG+ MIFG BR'\n",
      " 'TSRA RA FG BR' 'TSRA FG+ BR' 'RA DZ BR HZ' 'RA DZ SN' 'FG+ FG BR HZ'\n",
      " 'TS TSRA RA FG BR' 'BR HZ VCFG' 'TS RA FG+ FG BR' 'TSRA RA FG+ BR'\n",
      " 'RA DZ FG+ FG BR' 'TS TSRA RA VCTS' 'FU' 'TS TSRA VCFG' 'TS TSRA HZ'\n",
      " 'TS TSRA GR RA BR' 'RA FG BR' 'HZ FU' 'RA BR HZ FU' 'MIFG BCFG BR'\n",
      " 'FG+ BCFG BR' 'TSRA RA FG+ FG BR HZ' 'FG+' 'TSRA BR SQ' 'TSRA DZ BR HZ'\n",
      " 'RA BR HZ VCFG' 'RA FG+ BR' 'FG BR HZ' 'TS HZ' 'TS TSRA RA FG BR HZ'\n",
      " 'RA DZ FG+ BR' 'RA DZ FG+ BR HZ' 'TSRA FG+ BR HZ' 'RA BR VCFG'\n",
      " 'TS RA BR HZ' 'BCFG BR' 'RA SN BR'].\n",
      "Depth is object and values are ['0' 'M'].\n",
      "Water1 is object and values are ['M'].\n",
      "SnowFall is object and values are ['0.0' 'M' '  T' '0.1'].\n",
      "PrecipTotal is object and values are ['0.00' '  T' '0.13' '0.02' '0.38' '0.60' '0.14' '0.07' '0.11' '0.09'\n",
      " '1.01' '0.28' '0.04' '0.08' '0.01' '0.53' '0.19' '0.21' '0.32' '0.39'\n",
      " '0.31' '0.42' '0.27' '0.16' '0.58' '0.93' '0.05' '0.34' '0.15' '0.35' 'M'\n",
      " '0.40' '0.66' '0.30' '0.24' '0.43' '1.55' '0.92' '0.89' '0.17' '0.03'\n",
      " '1.43' '0.97' '0.26' '1.31' '0.06' '0.46' '0.29' '0.23' '0.41' '0.45'\n",
      " '0.83' '1.33' '0.91' '0.48' '0.37' '0.88' '2.35' '1.96' '0.20' '0.25'\n",
      " '0.18' '0.67' '0.36' '0.33' '1.28' '0.74' '0.76' '0.71' '0.95' '1.46'\n",
      " '0.12' '0.52' '0.64' '0.22' '1.24' '0.72' '0.73' '0.65' '1.61' '1.22'\n",
      " '0.50' '1.05' '2.43' '0.59' '2.90' '2.68' '1.23' '0.62' '6.64' '3.07'\n",
      " '1.44' '1.75' '0.82' '0.80' '0.86' '0.63' '0.55' '1.03' '0.70' '1.73'\n",
      " '1.38' '0.44' '1.14' '1.07' '3.97' '0.87' '0.78' '1.12' '0.68' '0.10'\n",
      " '0.61' '0.54' '1.19' '0.75' '0.84' '1.29' '0.81' '1.15' '1.49' '1.57'\n",
      " '1.02' '1.30' '0.51' '0.85' '0.79' '0.77' '2.79' '3.15' '3.64' '4.73'\n",
      " '1.60' '0.57' '2.24' '1.90' '1.06' '1.88' '0.69' '2.17' '6.86' '0.49'\n",
      " '1.11' '1.21' '0.90' '1.34' '0.47' '0.56' '3.66' '1.09' '1.25' '1.35'\n",
      " '2.20' '1.48' '0.96' '1.16' '1.04' '2.03' '2.09' '1.26' '2.60' '2.06'\n",
      " '3.31' '2.76' '1.82' '0.98' '1.58' '3.17' '1.18'].\n",
      "StnPressure is object and values are ['29.10' '29.18' '29.38' '29.44' '29.39' '29.46' '29.31' '29.36' '29.40'\n",
      " '29.57' '29.62' '29.29' '29.21' '29.28' '29.20' '29.26' '29.33' '29.49'\n",
      " '29.54' '29.55' '29.23' '29.13' '29.19' '29.53' '29.60' '29.34' '29.41'\n",
      " '29.47' '29.51' '29.42' '29.43' '29.25' '29.03' '28.82' '28.87' '28.88'\n",
      " '29.16' '29.07' '28.84' '28.91' '29.24' 'M' '29.30' '29.12' '29.45'\n",
      " '29.56' '29.32' '29.05' '29.11' '29.06' '29.22' '29.08' '29.14' '29.37'\n",
      " '29.35' '29.15' '29.17' '29.48' '29.52' '29.27' '29.50' '28.59' '28.67'\n",
      " '28.75' '29.02' '29.79' '29.86' '29.63' '29.70' '28.95' '29.01' '28.79'\n",
      " '28.85' '28.97' '28.89' '28.94' '28.93' '28.98' '28.96' '29.00' '29.66'\n",
      " '29.09' '28.90' '29.04' '29.59' '29.65' '29.58' '29.61' '29.64' '29.71'\n",
      " '29.67' '28.80' '28.73' '29.68' '28.74' '28.55' '28.63' '28.92' '28.99'\n",
      " '28.81' '28.71' '28.69' '28.77' '28.83'].\n",
      "SeaLevel is object and values are ['29.82' '30.09' '30.08' '30.12' '30.05' '30.04' '30.10' '30.29' '30.28'\n",
      " '30.03' '30.02' '29.94' '29.93' '29.92' '29.91' '30.20' '30.19' '30.24'\n",
      " '29.97' '29.98' '29.84' '29.83' '30.27' '30.25' '30.26' '30.11' '30.06'\n",
      " '30.23' '30.15' '30.14' '30.00' '29.99' '29.90' '29.77' '29.76' '29.56'\n",
      " '29.54' '29.52' '29.51' '29.79' '29.78' '29.81' '29.55' '29.85' '30.07'\n",
      " '30.16' 'M' '29.96' '29.95' '30.13' '30.21' '30.22' '29.88' '30.01'\n",
      " '29.80' '29.89' '29.74' '29.87' '29.86' '30.18' '30.17' '29.34' '29.44'\n",
      " '29.45' '29.71' '29.72' '30.52' '30.53' '30.40' '30.41' '29.67' '29.53'\n",
      " '29.69' '29.61' '29.64' '29.63' '29.66' '29.70' '30.34' '30.33' '29.62'\n",
      " '29.60' '29.75' '29.68' '29.73' '30.31' '30.30' '30.32' '30.37' '30.39'\n",
      " '29.59' '29.65' '30.35' '30.36' '29.48' '30.38' '29.50' '29.25' '29.23'\n",
      " '29.46' '29.43' '29.47'].\n",
      "AvgSpeed is object and values are ['9.2' '9.6' '13.4' '11.9' '13.2' '10.8' '10.4' '12.0' '11.5' '15.0' '14.5'\n",
      " '10.5' '9.9' '5.8' '5.4' '6.2' '5.9' '4.1' '3.9' '12.9' '12.8' '13.0'\n",
      " '8.1' '7.6' '17.3' '14.6' '12.3' '12.2' '11.8' '11.3' '7.5' '5.5' '11.4'\n",
      " '10.7' '9.7' '8.2' '7.8' '10.2' '10.6' '11.2' '15.2' '8.8' '7.2' '9.5'\n",
      " '5.3' '5.2' '6.5' '7.4' '10.1' '6.4' '6.7' '23.1' '20.7' '13.8' '12.4'\n",
      " '5.0' '4.7' '5.6' '6.9' '8.4' '10.0' '8.6' 'M' '6.8' '4.9' '6.1' '6.3'\n",
      " '15.1' '12.6' '7.7' '8.7' '9.0' '8.0' '6.0' '7.1' '8.5' '12.5' '13.3'\n",
      " '8.3' '7.3' '13.1' '12.7' '10.9' '11.1' '13.9' '6.6' '14.4' '9.1' '3.3'\n",
      " '3.5' '4.0' '7.0' '9.4' '7.9' '5.7' '4.3' '4.6' '3.7' '11.7' '4.4' '12.1'\n",
      " '13.5' '13.7' '11.0' '9.8' '8.9' '10.3' '15.5' '18.9' '17.2' '16.7' '18.0'\n",
      " '18.2' '16.8' '14.1' '14.7' '4.2' '9.3' '14.3' '17.7' '17.8' '15.9' '19.3'\n",
      " '17.4' '3.8' '4.8' '14.0' '21.5' '19.5' '16.3' '5.1' '3.6' '3.2' '4.5'\n",
      " '2.9' '3.1' '2.7' '18.4' '16.4' '14.8' '11.6' '13.6' '2.4' '2.6' '3.4'\n",
      " '3.0' '2.1' '20.2' '14.9' '16.2' '15.4' '17.9' '14.2' '15.3' '15.7' '16.1'\n",
      " '18.8' '17.1' '16.6' '26.3' '21.4' '23.2' '22.1' '15.6' '16.9' '2.0' '2.3'\n",
      " '1.7' '19.9' '17.6' '18.5' '18.1' '16.0' '15.8' '2.8' '1.9' '22.9' '22.6'].\n",
      "Station is int64 and values are 1 to 2.\n",
      "Tmax is int64 and values are 41 to 104.\n",
      "Tmin is int64 and values are 29 to 83.\n",
      "DewPoint is int64 and values are 22 to 75.\n",
      "ResultSpeed is float64 and values are 0.1 to 24.1.\n",
      "ResultDir is int64 and values are 1 to 36.\n"
     ]
    },
    {
     "data": {
      "text/html": [
       "<div>\n",
       "<style scoped>\n",
       "    .dataframe tbody tr th:only-of-type {\n",
       "        vertical-align: middle;\n",
       "    }\n",
       "\n",
       "    .dataframe tbody tr th {\n",
       "        vertical-align: top;\n",
       "    }\n",
       "\n",
       "    .dataframe thead th {\n",
       "        text-align: right;\n",
       "    }\n",
       "</style>\n",
       "<table border=\"1\" class=\"dataframe\">\n",
       "  <thead>\n",
       "    <tr style=\"text-align: right;\">\n",
       "      <th></th>\n",
       "      <th>Station</th>\n",
       "      <th>Date</th>\n",
       "      <th>Tmax</th>\n",
       "      <th>Tmin</th>\n",
       "      <th>Tavg</th>\n",
       "      <th>Depart</th>\n",
       "      <th>DewPoint</th>\n",
       "      <th>WetBulb</th>\n",
       "      <th>Heat</th>\n",
       "      <th>Cool</th>\n",
       "      <th>...</th>\n",
       "      <th>CodeSum</th>\n",
       "      <th>Depth</th>\n",
       "      <th>Water1</th>\n",
       "      <th>SnowFall</th>\n",
       "      <th>PrecipTotal</th>\n",
       "      <th>StnPressure</th>\n",
       "      <th>SeaLevel</th>\n",
       "      <th>ResultSpeed</th>\n",
       "      <th>ResultDir</th>\n",
       "      <th>AvgSpeed</th>\n",
       "    </tr>\n",
       "  </thead>\n",
       "  <tbody>\n",
       "    <tr>\n",
       "      <th>0</th>\n",
       "      <td>1</td>\n",
       "      <td>2007-05-01</td>\n",
       "      <td>83</td>\n",
       "      <td>50</td>\n",
       "      <td>67</td>\n",
       "      <td>14</td>\n",
       "      <td>51</td>\n",
       "      <td>56</td>\n",
       "      <td>0</td>\n",
       "      <td>2</td>\n",
       "      <td>...</td>\n",
       "      <td></td>\n",
       "      <td>0</td>\n",
       "      <td>M</td>\n",
       "      <td>0.0</td>\n",
       "      <td>0.00</td>\n",
       "      <td>29.10</td>\n",
       "      <td>29.82</td>\n",
       "      <td>1.7</td>\n",
       "      <td>27</td>\n",
       "      <td>9.2</td>\n",
       "    </tr>\n",
       "    <tr>\n",
       "      <th>1</th>\n",
       "      <td>2</td>\n",
       "      <td>2007-05-01</td>\n",
       "      <td>84</td>\n",
       "      <td>52</td>\n",
       "      <td>68</td>\n",
       "      <td>M</td>\n",
       "      <td>51</td>\n",
       "      <td>57</td>\n",
       "      <td>0</td>\n",
       "      <td>3</td>\n",
       "      <td>...</td>\n",
       "      <td></td>\n",
       "      <td>M</td>\n",
       "      <td>M</td>\n",
       "      <td>M</td>\n",
       "      <td>0.00</td>\n",
       "      <td>29.18</td>\n",
       "      <td>29.82</td>\n",
       "      <td>2.7</td>\n",
       "      <td>25</td>\n",
       "      <td>9.6</td>\n",
       "    </tr>\n",
       "    <tr>\n",
       "      <th>2</th>\n",
       "      <td>1</td>\n",
       "      <td>2007-05-02</td>\n",
       "      <td>59</td>\n",
       "      <td>42</td>\n",
       "      <td>51</td>\n",
       "      <td>-3</td>\n",
       "      <td>42</td>\n",
       "      <td>47</td>\n",
       "      <td>14</td>\n",
       "      <td>0</td>\n",
       "      <td>...</td>\n",
       "      <td>BR</td>\n",
       "      <td>0</td>\n",
       "      <td>M</td>\n",
       "      <td>0.0</td>\n",
       "      <td>0.00</td>\n",
       "      <td>29.38</td>\n",
       "      <td>30.09</td>\n",
       "      <td>13.0</td>\n",
       "      <td>4</td>\n",
       "      <td>13.4</td>\n",
       "    </tr>\n",
       "    <tr>\n",
       "      <th>3</th>\n",
       "      <td>2</td>\n",
       "      <td>2007-05-02</td>\n",
       "      <td>60</td>\n",
       "      <td>43</td>\n",
       "      <td>52</td>\n",
       "      <td>M</td>\n",
       "      <td>42</td>\n",
       "      <td>47</td>\n",
       "      <td>13</td>\n",
       "      <td>0</td>\n",
       "      <td>...</td>\n",
       "      <td>BR HZ</td>\n",
       "      <td>M</td>\n",
       "      <td>M</td>\n",
       "      <td>M</td>\n",
       "      <td>0.00</td>\n",
       "      <td>29.44</td>\n",
       "      <td>30.08</td>\n",
       "      <td>13.3</td>\n",
       "      <td>2</td>\n",
       "      <td>13.4</td>\n",
       "    </tr>\n",
       "    <tr>\n",
       "      <th>4</th>\n",
       "      <td>1</td>\n",
       "      <td>2007-05-03</td>\n",
       "      <td>66</td>\n",
       "      <td>46</td>\n",
       "      <td>56</td>\n",
       "      <td>2</td>\n",
       "      <td>40</td>\n",
       "      <td>48</td>\n",
       "      <td>9</td>\n",
       "      <td>0</td>\n",
       "      <td>...</td>\n",
       "      <td></td>\n",
       "      <td>0</td>\n",
       "      <td>M</td>\n",
       "      <td>0.0</td>\n",
       "      <td>0.00</td>\n",
       "      <td>29.39</td>\n",
       "      <td>30.12</td>\n",
       "      <td>11.7</td>\n",
       "      <td>7</td>\n",
       "      <td>11.9</td>\n",
       "    </tr>\n",
       "  </tbody>\n",
       "</table>\n",
       "<p>5 rows × 22 columns</p>\n",
       "</div>"
      ],
      "text/plain": [
       "   Station        Date  Tmax  Tmin Tavg Depart  DewPoint WetBulb Heat Cool  \\\n",
       "0        1  2007-05-01    83    50   67     14        51      56    0    2   \n",
       "1        2  2007-05-01    84    52   68      M        51      57    0    3   \n",
       "2        1  2007-05-02    59    42   51     -3        42      47   14    0   \n",
       "3        2  2007-05-02    60    43   52      M        42      47   13    0   \n",
       "4        1  2007-05-03    66    46   56      2        40      48    9    0   \n",
       "\n",
       "     ...    CodeSum Depth Water1 SnowFall PrecipTotal StnPressure SeaLevel  \\\n",
       "0    ...                0      M      0.0        0.00       29.10    29.82   \n",
       "1    ...                M      M        M        0.00       29.18    29.82   \n",
       "2    ...         BR     0      M      0.0        0.00       29.38    30.09   \n",
       "3    ...      BR HZ     M      M        M        0.00       29.44    30.08   \n",
       "4    ...                0      M      0.0        0.00       29.39    30.12   \n",
       "\n",
       "  ResultSpeed ResultDir  AvgSpeed  \n",
       "0         1.7        27       9.2  \n",
       "1         2.7        25       9.6  \n",
       "2        13.0         4      13.4  \n",
       "3        13.3         2      13.4  \n",
       "4        11.7         7      11.9  \n",
       "\n",
       "[5 rows x 22 columns]"
      ]
     },
     "execution_count": 21,
     "metadata": {},
     "output_type": "execute_result"
    }
   ],
   "source": [
    "df_weather = read_examine_df(\"../data/weather.csv\")\n",
    "df_weather.head()"
   ]
  },
  {
   "cell_type": "markdown",
   "metadata": {},
   "source": [
    "### <span style='color:#3b748a'>Cleaning the Kaggle data</span>\n",
    "<ul>\n",
    "    <li><span style='color:#4095b5'>Looks like lat &amp; long have a reasonable range</span></li>\n",
    "    <li><span style='color:#4095b5'>Drop address data for now</span></li>\n",
    "    <li><span style='color:#4095b5'>Add datetime object instead of Date and Time</span></li>\n",
    "    <li><span style='color:#4095b5'>Does not have NumMosquitos nor WnvPresent</span></li>\n",
    "    <li><span style='color:#4095b5'>Does have ID column</span></li>\n",
    "</ul>\n",
    "\n",
    "* Why are there 'M', 'T', and '-' values?\n",
    "* missing values labeled 'M' in Heat, Cool, Depth, Water1, SnowFall, SeaLevel, \n",
    "* Can we make some of the object columns into numeric ones?\n",
    "* Change dates to integers from base date.\n",
    "\n",
    "* convert station to long / lat?  \n",
    "* Station 1: CHICAGO O\\'HARE INTERNATIONAL AIRPORT Lat: 41.995 Lon: -87.933 Elev: 662 ft. above sea level\n",
    "* Station 2: CHICAGO MIDWAY INTL ARPT Lat: 41.786 Lon: -87.752 Elev: 612 ft. above sea level\n",
    "\n",
    "* should we find the elevation of the various long/lat and engineer a new feature?\n",
    "\n",
    "* CodeSum will need to be split and analyzed / feature engineered\n",
    "\n",
    "* df_weather['Depth'].value_counts()\n",
    "* Can drop this column -- either 0 or missing because \n",
    "* weather observations only occurred in mosquito months (ie, not in winter)\n"
   ]
  },
  {
   "cell_type": "markdown",
   "metadata": {},
   "source": [
    "\n",
    "Found this online for heating degree day calcualtion example:\n",
    "Anyway, consider a single day, let's say July 1st, when the outside air temperature was 16C throughout the entire day.  A constant temperature throughout an entire day is rather unlikely, I know, but degree days would be a lot easier to understand if the outside air temperature stayed the same...  So, throughout the entire day on July 1st, the outside air temperature (16C) was consistently 1 degree below the base temperature of the building (17C), and we can work out the heating degree days on that day like so:\n",
    "\n",
    "1 degree * 1 day = 1 heating degree day on July 1st\n",
    "\n",
    "If, on July 2nd, the outside temperature was 2 degrees below the base temperature, we'd have:\n",
    "\n",
    "2 degrees * 1 day = 2 heating degree days on July 2nd\n",
    "\n",
    "Let's look at July 3rd - this was a hotter day, and the outside air temperature was 17C, the same as the base temperature (i.e. 0 degrees below the base temperature).  This gives:\n",
    "\n",
    "0 degrees * 1 day = 0 heating degree days on July 3nd\n",
    "\n",
    "On July 4th it was warmer again: 19C.  Again, the number of degrees below the base temperature was zero, giving:\n",
    "\n",
    "0 degrees * 1 day = 0 heating degree days on July 4th\n"
   ]
  },
  {
   "cell_type": "code",
   "execution_count": 22,
   "metadata": {},
   "outputs": [],
   "source": [
    "df_weather['Date'] = pd.to_datetime(df_weather['Date'])"
   ]
  },
  {
   "cell_type": "code",
   "execution_count": 23,
   "metadata": {},
   "outputs": [],
   "source": [
    "# df_weather[weather['Tavg'] == 'M']"
   ]
  },
  {
   "cell_type": "code",
   "execution_count": null,
   "metadata": {},
   "outputs": [],
   "source": []
  },
  {
   "cell_type": "markdown",
   "metadata": {},
   "source": [
    "<hr>\n",
    "<a name=\"step3\"></a>\n",
    "## <span style='color:#37535e'>Exploratory data analysis (EDA)</span>\n",
    " * <span style=\"color:#3b748a\">How do we model traps NOT in training data? (Cluster?)</span>\n",
    " * <span style=\"color:#3b748a\">We need to engineer features based on spray and weather to add to df_train and df_kaggle</span>\n",
    " * <span style='color:#3b748a'>How many \"categorical\" features remain?</span>\n",
    " * <span style=\"color:#3b748a\">Make dummies for all categorical data</span>\n",
    " * <span style=\"color:#3b748a\">Which features should we drop?</span>\n",
    " * <span style=\"color:#3b748a\">Are there any interesting linear relationships?</span>\n",
    " \n",
    " \n",
    " ### <span style='color:#3b748a'>Function to make dummies</span>\n",
    " "
   ]
  },
  {
   "cell_type": "code",
   "execution_count": 24,
   "metadata": {},
   "outputs": [],
   "source": [
    "# Let's make dummies for the categorical data\n",
    "def make_dummies(train, test, cols):\n",
    "\n",
    "    train = train[X_cols].copy()\n",
    "    test = test[X_cols].copy()\n",
    "    \n",
    "    train = pd.get_dummies(train)\n",
    "    test = pd.get_dummies(test)\n",
    "\n",
    "    # Get dummies could leave us with mismatched columns\n",
    "    # Make sure we have mathcing columns in the train and kaggle DataFrames\n",
    "\n",
    "    cols_train = train.columns\n",
    "    cols_test = test.columns\n",
    "\n",
    "    for c in cols_train:\n",
    "        if c not in cols_test:\n",
    "            test[c] = 0\n",
    "\n",
    "    for c in cols_test:\n",
    "        if c not in cols_train:\n",
    "            train[c] = 0\n",
    "\n",
    "    columns = sorted(train.columns)\n",
    "    train = train[columns]\n",
    "    test = test[columns]\n",
    "\n",
    "    if train.shape[1] != test.shape[1]:\n",
    "        print(\"Train and Test don't have same # columns: {} {}\".format(train.shape[1], test.shape[1]))\n",
    "\n",
    "    # Having made dummies, we now have lots and lots of columns\n",
    "    print(\"There are {} columns and {} categorial columns.\"\n",
    "          .format(train.shape[1],\n",
    "                  train.select_dtypes([np.object]).shape[1]))\n",
    "    \n",
    "    return [train, test]"
   ]
  },
  {
   "cell_type": "markdown",
   "metadata": {},
   "source": [
    " ### <span style='color:#3b748a'>New features</span>\n",
    " \n",
    "<ul>\n",
    "    <li><span style='color:#4095b5'>Since there are traps in the test set but not in the train set, we need to make some inferences. We chose to start by clustering the traps.</span>\n",
    "</ul>"
   ]
  },
  {
   "cell_type": "markdown",
   "metadata": {},
   "source": [
    "### <span style='color:#3b748a'>Cluster the traps</span>\n",
    "<img src=\"../images/trap-map.jpg\" alt=\"traps\" alt=\"Trap locations\" width=400/>\n",
    "<center><span style='color:#4095b5'>Map of traps and West Nile</span></center>"
   ]
  },
  {
   "cell_type": "code",
   "execution_count": 25,
   "metadata": {},
   "outputs": [],
   "source": [
    "# Combine train and test traps\n",
    "traps = df_train[['Latitude', 'Longitude']].copy()\n",
    "train_rows = traps.shape[0]\n",
    "traps = traps.append(df_kaggle[['Latitude', 'Longitude']])"
   ]
  },
  {
   "cell_type": "code",
   "execution_count": 26,
   "metadata": {},
   "outputs": [],
   "source": [
    "# Call k-means to cluster the traps\n",
    "kmeans = KMeans(n_clusters=50, random_state=1929)\n",
    "model = kmeans.fit(traps)\n",
    "centroids = pd.DataFrame(model.cluster_centers_, columns = ['x1', 'x2'])"
   ]
  },
  {
   "cell_type": "code",
   "execution_count": 27,
   "metadata": {},
   "outputs": [
    {
     "data": {
      "image/png": "[encoded data removed]",
      "text/plain": [
       "<Figure size 720x576 with 1 Axes>"
      ]
     },
     "metadata": {},
     "output_type": "display_data"
    }
   ],
   "source": [
    "# Plot the traps and centroids\n",
    "\n",
    "ax = traps.plot(    \n",
    "    kind=\"scatter\", \n",
    "    y='Latitude', x='Longitude',\n",
    "    figsize=(10,8),\n",
    "    c = colors[3]\n",
    ")\n",
    "\n",
    "centroids.plot(\n",
    "    kind=\"scatter\", \n",
    "    y=\"x1\", x=\"x2\", \n",
    "    marker=\"*\", s=550,\n",
    "    color = colors[1], \n",
    "    ax=ax\n",
    ");"
   ]
  },
  {
   "cell_type": "code",
   "execution_count": 33,
   "metadata": {},
   "outputs": [],
   "source": [
    "# Add the cluster information to each row\n",
    "traps['Cluster'] = kmeans.labels_\n",
    "df_train['Cluster'] = (traps['Cluster'][0:train_rows]).astype(object)\n",
    "df_kaggle['Cluster'] = (traps['Cluster'][train_rows:]).astype(object)"
   ]
  },
  {
   "cell_type": "markdown",
   "metadata": {},
   "source": [
    "<hr>\n",
    "<a name=\"step4\"></a>\n",
    "## <span style='color:#37535e'>Model the data</span>\n",
    " * <span style='color:#3b748a'>**Model testing**: What models score well?</span>\n",
    " \n",
    " <span style='color:#3b748a'>For each record in the test set, you should predict a real-valued probability that WNV is present.</span>\n",
    " \n"
   ]
  },
  {
   "cell_type": "code",
   "execution_count": 34,
   "metadata": {},
   "outputs": [],
   "source": [
    "def run_pipline(items, use_params, X_train, X_test, y_train, y_test):\n",
    "\n",
    "    # Add a pipe, add a param !\n",
    "    pipe_items = {\n",
    "        'ss' : StandardScaler(),\n",
    "        'pf' : PolynomialFeatures(),\n",
    "\n",
    "        'lr' : LinearRegression(),\n",
    "        'rd' : Ridge(),\n",
    "        'la' : Lasso(),\n",
    "# .     'ecv' : ElasticNet() # n_alphas=100, l1_ratio=[.1, .5, .7, .9, .95, .99, 1], cv=10))\n",
    "        'gr' : GaussianProcessRegressor(),\n",
    "        'lgr' : LogisticRegression(),\n",
    "        'rf' : RandomForestRegressor(),\n",
    "        'gb' : GradientBoostingRegressor(),\n",
    "        'ab' : AdaBoostRegressor(),\n",
    "        'svm' : SVR(),\n",
    "        'knn' : KNeighborsRegressor(),\n",
    "        'rfc' : RandomForestClassifier(),\n",
    "        'gbc' : GradientBoostingClassifier(),\n",
    "        'abc' : AdaBoostClassifier(),\n",
    "        'svc' : SVC(),\n",
    "        'knnc' : KNeighborsClassifier()\n",
    "\n",
    "    }\n",
    "\n",
    "    # Include at least one param for each pipe item\n",
    "    param_items = {\n",
    "        'ss' : {\n",
    "            'ss__with_mean' : [False]\n",
    "        },\n",
    "        'pf' : {\n",
    "            'pf__degree' : [2]\n",
    "        },\n",
    "        'lr' : {\n",
    "            'lr__n_jobs' : [1]\n",
    "        },\n",
    "        'rd' : {\n",
    "             'rd__alpha' : [1.0]\n",
    "        },\n",
    "        'la' : {\n",
    "             'la__alpha' : [1.0], \n",
    "             'la__max_iter' : [100000]\n",
    "        },\n",
    "        'gr' : {\n",
    "            'gr__alpha' : [1, 0.1]\n",
    "        },\n",
    "        'lgr' : {\n",
    "            'lgr__C' : [1, .05, .025],\n",
    "            'lgr__penalty' : ['l1','l2']\n",
    "        },\n",
    "        'rf' : {\n",
    "            'rf__n_estimators' : [4, 6, 8]\n",
    "        },\n",
    "        'gb' : {\n",
    "            'gb__n_estimators' : [140, 150, 160, 170, 180]\n",
    "        },\n",
    "        'ab' : {\n",
    "            'ab__n_estimators' : [75, 50, 125]\n",
    "        },\n",
    "        'svm' : {\n",
    "            'svm__kernel' : ['linear','poly']\n",
    "        },\n",
    "        'knn' : {\n",
    "            'knn__n_neighbors' : [15, 20,25]\n",
    "        },\n",
    "        'rfc' : {\n",
    "            'rfc__n_estimators' : [8, 10, 15]\n",
    "        },\n",
    "        'gbc' : {\n",
    "            'gbc__n_estimators' : [50, 60, 80]\n",
    "        },\n",
    "        'abc' : {\n",
    "            'abc__n_estimators' : [50, 75, 100]\n",
    "        },\n",
    "        'svc' : {\n",
    "            'svc__kernel' : ['linear','poly']\n",
    "        },\n",
    "        'knnc' : {\n",
    "            'knnc__n_neighbors' : [25,35,45, 55]\n",
    "        }\n",
    "\n",
    "    }\n",
    "\n",
    "    # Create the parameters for GridSearch\n",
    "    params = dict()\n",
    "    if use_params:\n",
    "        for i in items:\n",
    "            for p in param_items[i]:\n",
    "                params[p] = param_items[i][p]\n",
    "\n",
    "    # Create the pipeline\n",
    "    pipe_list = [(i,pipe_items[i]) for i in items]\n",
    "    print(\"Using:\")\n",
    "    for p in pipe_list:\n",
    "        print(\"\\t\" + str(p[1]).split('(')[0])\n",
    "    pipe = Pipeline(pipe_list)\n",
    "\n",
    "    # Grid search\n",
    "    gs = GridSearchCV(pipe, param_grid=params, verbose=1)\n",
    "    gs.fit(X_train, y_train)\n",
    "\n",
    "    # Print the results\n",
    "    train_params = gs.best_params_\n",
    "    train_score = gs.best_score_\n",
    "    y_test_hat = gs.predict(X_test)\n",
    "    test_score = gs.score(X_test, y_test)\n",
    "\n",
    "    for k in train_params:\n",
    "        print(\"{}: {}\".format(k,train_params[k]))\n",
    "\n",
    "    print(\"Train score: {} Test score {}\".format(train_score, test_score))\n",
    "    print(\"\")\n",
    "\n",
    "    return train_score, test_score, y_test_hat, train_params"
   ]
  },
  {
   "cell_type": "code",
   "execution_count": 35,
   "metadata": {},
   "outputs": [
    {
     "name": "stdout",
     "output_type": "stream",
     "text": [
      "The columns are ['Week', 'Species', 'Latitude', 'Longitude', 'Year']\n",
      "There are 12 columns and 0 categorial columns.\n"
     ]
    }
   ],
   "source": [
    "cluster = False\n",
    "\n",
    "# Let's start with a few features\n",
    "X_cols = list(df_train.columns)\n",
    "X_cols.remove('Date')\n",
    "X_cols.remove('Trap')\n",
    "\n",
    "if cluster:\n",
    "    X_cols.remove('Latitude')\n",
    "    X_cols.remove('Longitude')\n",
    "else:\n",
    "    X_cols.remove('Cluster')\n",
    "\n",
    "print(\"The columns are {}\".format(X_cols))\n",
    "[X_cols_train, X_cols_kaggle] = make_dummies(df_train, df_kaggle, X_cols)\n",
    "\n",
    "# Test/train split of \"full training\" data\n",
    "X_train, X_test, y_train, y_test = train_test_split(X_cols_train, y_count, random_state=42)"
   ]
  },
  {
   "cell_type": "code",
   "execution_count": 36,
   "metadata": {},
   "outputs": [
    {
     "name": "stdout",
     "output_type": "stream",
     "text": [
      "Using:\n",
      "\tStandardScaler\n",
      "\tLinearRegression\n",
      "Fitting 3 folds for each of 1 candidates, totalling 3 fits\n",
      "lr__n_jobs: 1\n",
      "ss__with_mean: False\n",
      "Train score: 0.9151263589289705 Test score 0.911804654173159\n",
      "\n",
      "Using:\n",
      "\tStandardScaler\n",
      "\tRidge\n",
      "Fitting 3 folds for each of 1 candidates, totalling 3 fits\n",
      "rd__alpha: 1.0\n",
      "ss__with_mean: False\n",
      "Train score: 0.9151318322424574 Test score 0.9118102276592018\n",
      "\n",
      "Using:\n",
      "\tStandardScaler\n",
      "\tLasso\n",
      "Fitting 3 folds for each of 1 candidates, totalling 3 fits\n",
      "la__alpha: 1.0\n",
      "la__max_iter: 100000\n",
      "ss__with_mean: False\n",
      "Train score: 0.9143468804094845 Test score 0.9107884146194141\n",
      "\n",
      "Using:\n",
      "\tStandardScaler\n",
      "\tRandomForestRegressor\n",
      "Fitting 3 folds for each of 3 candidates, totalling 9 fits\n"
     ]
    },
    {
     "name": "stderr",
     "output_type": "stream",
     "text": [
      "[Parallel(n_jobs=1)]: Done   3 out of   3 | elapsed:    0.0s finished\n",
      "[Parallel(n_jobs=1)]: Done   3 out of   3 | elapsed:    0.0s finished\n",
      "[Parallel(n_jobs=1)]: Done   3 out of   3 | elapsed:    0.0s finished\n",
      "[Parallel(n_jobs=1)]: Done   9 out of   9 | elapsed:    0.9s finished\n"
     ]
    },
    {
     "name": "stdout",
     "output_type": "stream",
     "text": [
      "rf__n_estimators: 6\n",
      "ss__with_mean: False\n",
      "Train score: 0.9279606839260702 Test score 0.9575844153763745\n",
      "\n",
      "Using:\n",
      "\tStandardScaler\n",
      "\tGradientBoostingRegressor\n",
      "Fitting 3 folds for each of 5 candidates, totalling 15 fits\n"
     ]
    },
    {
     "name": "stderr",
     "output_type": "stream",
     "text": [
      "[Parallel(n_jobs=1)]: Done  15 out of  15 | elapsed:    3.9s finished\n"
     ]
    },
    {
     "name": "stdout",
     "output_type": "stream",
     "text": [
      "gb__n_estimators: 170\n",
      "ss__with_mean: False\n",
      "Train score: 0.9366759838878633 Test score 0.955395083584277\n",
      "\n",
      "Using:\n",
      "\tStandardScaler\n",
      "\tAdaBoostRegressor\n",
      "Fitting 3 folds for each of 3 candidates, totalling 9 fits\n"
     ]
    },
    {
     "name": "stderr",
     "output_type": "stream",
     "text": [
      "[Parallel(n_jobs=1)]: Done   9 out of   9 | elapsed:    1.3s finished\n"
     ]
    },
    {
     "name": "stdout",
     "output_type": "stream",
     "text": [
      "ab__n_estimators: 75\n",
      "ss__with_mean: False\n",
      "Train score: 0.9089421725406854 Test score 0.9128279499144814\n",
      "\n",
      "Using:\n",
      "\tStandardScaler\n",
      "\tKNeighborsRegressor\n",
      "Fitting 3 folds for each of 3 candidates, totalling 9 fits\n"
     ]
    },
    {
     "name": "stderr",
     "output_type": "stream",
     "text": [
      "[Parallel(n_jobs=1)]: Done   9 out of   9 | elapsed:    6.1s finished\n"
     ]
    },
    {
     "name": "stdout",
     "output_type": "stream",
     "text": [
      "knn__n_neighbors: 15\n",
      "ss__with_mean: False\n",
      "Train score: 0.7718224898339924 Test score 0.8657519895668881\n",
      "\n"
     ]
    }
   ],
   "source": [
    "use_params = True\n",
    "models = ['lr','rd','la','rf','gb','ab','knn'] # 'svm']\n",
    "# other = ['pf','ss']\n",
    "\n",
    "# After some initial tests, these seem like the best to pursue further\n",
    "# models = ['gb']\n",
    "\n",
    "model_solns = {}\n",
    "for m in models:\n",
    "    pipe_items = ['ss', m]\n",
    "    [train_score, test_score, y_test_hat, best_params] = run_pipline(pipe_items, use_params, \n",
    "                                                            X_train, X_test, \n",
    "                                                            y_train, y_test)\n",
    "    model_solns[idx] = {'model': m, \n",
    "                        'train_score': train_score, 'test_score': test_score, \n",
    "                        'best_params': best_params, 'y_test_hat' : y_test_hat}"
   ]
  },
  {
   "cell_type": "code",
   "execution_count": 37,
   "metadata": {},
   "outputs": [
    {
     "name": "stdout",
     "output_type": "stream",
     "text": [
      "Fitting 3 folds for each of 4 candidates, totalling 12 fits\n"
     ]
    },
    {
     "name": "stderr",
     "output_type": "stream",
     "text": [
      "[Parallel(n_jobs=1)]: Done  12 out of  12 | elapsed:    3.2s finished\n"
     ]
    },
    {
     "name": "stdout",
     "output_type": "stream",
     "text": [
      "With clustering: False\n",
      "Train score: 0.9797645507089601 Test score: 0.9555862386716861\n"
     ]
    }
   ],
   "source": [
    "pipe = Pipeline([\n",
    "    ('ss', StandardScaler()),\n",
    "    ('gb', GradientBoostingRegressor())\n",
    "])\n",
    "params_grid_cv = {\n",
    "    'ss__with_mean' : [False],\n",
    "    'gb__n_estimators' : [140, 150, 160, 170]\n",
    "}\n",
    " \n",
    "gs = GridSearchCV(pipe, param_grid=params_grid_cv, verbose=1)\n",
    "gs.fit(X_train, y_train)\n",
    "\n",
    "# Predict the sales price of the Kaggle data\n",
    "y_hat = gs.predict(X_test)\n",
    "\n",
    "print(\"With clustering: {}\".format(cluster))\n",
    "print(\"Train score: {} Test score: {}\".format(gs.score(X_train,y_train),gs.score(X_test,y_test)))\n",
    "\n",
    "# The columns are ['Week', 'Species', 'Year', 'Cluster']\n",
    "# There are 60 columns and 0 categorial columns.\n",
    "# With clustering: True\n",
    "# Train score: 0.9447351243189465 Test score: -502393273474.5868\n",
    "\n",
    "# The columns are ['Date', 'Week', 'Species', 'Trap', 'Latitude', 'Longitude', 'Year', 'Cluster']\n",
    "# There are 12 columns and 0 categorial columns.\n",
    "# With clustering: False\n",
    "# Train score: 0.9797645507089601 Test score: 0.9556176304304769"
   ]
  },
  {
   "cell_type": "code",
   "execution_count": 38,
   "metadata": {},
   "outputs": [],
   "source": [
    "# Now predict how many mosquitoes will be in each of the kaggle tests given this\n",
    "df_kaggle[y_count_label] = gs.predict(X_cols_kaggle)\n",
    "df_train[y_count_label] = y_count"
   ]
  },
  {
   "cell_type": "code",
   "execution_count": 39,
   "metadata": {},
   "outputs": [],
   "source": [
    "# Score actually goes up without this fix\n",
    "# OOOPS - has to be non-negative\n",
    "# df_kaggle[df_kaggle[y_count_label] < 0] = 0"
   ]
  },
  {
   "cell_type": "code",
   "execution_count": 40,
   "metadata": {},
   "outputs": [
    {
     "name": "stdout",
     "output_type": "stream",
     "text": [
      "The columns are ['Week', 'Species', 'Latitude', 'Longitude', 'Year', 'NumMosquitos']\n",
      "There are 13 columns and 0 categorial columns.\n"
     ]
    }
   ],
   "source": [
    "cluster = False\n",
    "\n",
    "# Let's start with a few features\n",
    "X_cols = list(df_train.columns)\n",
    "X_cols.remove('Date')\n",
    "X_cols.remove('Trap')\n",
    "\n",
    "if cluster:\n",
    "    X_cols.remove('Latitude')\n",
    "    X_cols.remove('Longitude')\n",
    "else:\n",
    "    X_cols.remove('Cluster')\n",
    "\n",
    "print(\"The columns are {}\".format(X_cols))\n",
    "[X_cols_train, X_cols_kaggle] = make_dummies(df_train, df_kaggle, X_cols)\n",
    "\n",
    "# Test/train split of \"full training\" data\n",
    "X_train, X_test, y_train, y_test = train_test_split(X_cols_train, y_wnv, random_state=42)"
   ]
  },
  {
   "cell_type": "code",
   "execution_count": null,
   "metadata": {},
   "outputs": [
    {
     "name": "stdout",
     "output_type": "stream",
     "text": [
      "Using:\n",
      "\tStandardScaler\n",
      "\tLogisticRegression\n",
      "Fitting 3 folds for each of 6 candidates, totalling 18 fits\n"
     ]
    }
   ],
   "source": [
    "# Decide what to put into the pipline, grid searh, and save the \"best\" for each grid search\n",
    "use_params = True\n",
    "models = ['lgr','rfc','gbc','abc','knnc']\n",
    "# other = ['pf','ss']\n",
    "\n",
    "# After some initial tests, these seem like the best to pursue further\n",
    "# models = ['lgr']\n",
    "\n",
    "model_solns = {}\n",
    "for m in models:\n",
    "    pipe_items = ['ss', m]\n",
    "    [train_score, test_score, y_test_hat, best_params] = run_pipline(pipe_items, use_params, \n",
    "                                                            X_train, X_test, \n",
    "                                                            y_train, y_test)\n",
    "    model_solns[idx] = {'model': m, \n",
    "                        'train_score': train_score, 'test_score': test_score, \n",
    "                        'best_params': best_params, 'y_test_hat' : y_test_hat}\n"
   ]
  },
  {
   "cell_type": "markdown",
   "metadata": {},
   "source": [
    "<hr>\n",
    "<a name=\"step5\"></a>\n",
    "## <span style='color:#37535e'>Evaluate the model</span>\n",
    "\n"
   ]
  },
  {
   "cell_type": "code",
   "execution_count": 39,
   "metadata": {},
   "outputs": [
    {
     "name": "stdout",
     "output_type": "stream",
     "text": [
      "Fitting 3 folds for each of 6 candidates, totalling 18 fits\n"
     ]
    },
    {
     "name": "stderr",
     "output_type": "stream",
     "text": [
      "[Parallel(n_jobs=1)]: Done  18 out of  18 | elapsed:    9.8s finished\n"
     ]
    },
    {
     "name": "stdout",
     "output_type": "stream",
     "text": [
      "With clustering: False\n",
      "Train score: 0.947136563876652 Test score: 0.9476168003775366\n",
      "ROC AUC score: 0.7565462151600186\n"
     ]
    }
   ],
   "source": [
    "pipe = Pipeline([\n",
    "    ('ss', StandardScaler()),\n",
    "    ('lgr', LogisticRegression())\n",
    "])\n",
    "params_grid_cv = {\n",
    "    'ss__with_mean' : [False],\n",
    "    'lgr__C' : [1, .05, .025],\n",
    "    'lgr__penalty' : ['l1','l2']\n",
    "}\n",
    "\n",
    "gs = GridSearchCV(pipe, param_grid=params_grid_cv, verbose=1)\n",
    "gs.fit(X_train, y_train)\n",
    "\n",
    "# Predict the sales price of the Kaggle data\n",
    "y_test_hat = gs.predict(X_test)\n",
    "y_test_proba = gs.predict_proba(X_test)\n",
    "df_test_proba = pd.DataFrame(y_test_proba)\n",
    "y_test_proba = df_test_proba[1]\n",
    "\n",
    "print(\"With clustering: {}\".format(cluster))\n",
    "print(\"Train score: {} Test score: {}\".format(gs.score(X_train,y_train),gs.score(X_test,y_test)))\n",
    "print(\"ROC AUC score: {}\".format(roc_auc_score(y_test, y_test_proba)))\n",
    "\n",
    "# With clustering: False\n",
    "# Train score: 0.947136563876652 Test score: 0.9476168003775366\n",
    "# ROC AUC score: 0.7565462151600186"
   ]
  },
  {
   "cell_type": "code",
   "execution_count": 41,
   "metadata": {},
   "outputs": [],
   "source": [
    "y_kaggle_proba = gs.predict_proba(X_cols_kaggle)\n",
    "y_kaggle = list(y_kaggle_proba[:,1])"
   ]
  },
  {
   "cell_type": "markdown",
   "metadata": {},
   "source": [
    "<hr>\n",
    "<a name=\"step6\"></a>\n",
    "## <span style='color:#37535e'>Answer the question</span>\n",
    "###  <span style='color:#3b748a'>Output the results to upload to Kaggle.</span>"
   ]
  },
  {
   "cell_type": "code",
   "execution_count": 42,
   "metadata": {},
   "outputs": [],
   "source": [
    "# Create dataframe for Kaggle submission\n",
    "df_soln = pd.DataFrame(df_kaggle.index)\n",
    "df_soln['WnvPresent'] = y_kaggle\n",
    "df_soln.set_index(['Id'], inplace=True)"
   ]
  },
  {
   "cell_type": "code",
   "execution_count": 43,
   "metadata": {},
   "outputs": [],
   "source": [
    "# Write predicted Kaggle solution out to a file\n",
    "now = str(datetime.now())\n",
    "f'predictions_{now}'\n",
    "df_soln.to_csv(f'../data/model_preds_{now}.csv')"
   ]
  },
  {
   "cell_type": "code",
   "execution_count": null,
   "metadata": {},
   "outputs": [],
   "source": []
  },
  {
   "cell_type": "code",
   "execution_count": null,
   "metadata": {},
   "outputs": [],
   "source": []
  },
  {
   "cell_type": "code",
   "execution_count": null,
   "metadata": {},
   "outputs": [],
   "source": []
  },
  {
   "cell_type": "markdown",
   "metadata": {},
   "source": [
    "<hr>\n",
    "<a name=\"step7\"></a>\n",
    "## <span style='color:#37535e'>For reference</span>"
   ]
  },
  {
   "cell_type": "code",
   "execution_count": null,
   "metadata": {},
   "outputs": [],
   "source": [
    "# Linear Regression can't handle datetime\n",
    "# X_cols_train['Date'] = X_cols_train['Date'].map(datetime.toordinal)\n",
    "# X_cols_kaggle['Date'] = X_cols_kaggle['Date'].map(datetime.toordinal)"
   ]
  },
  {
   "cell_type": "code",
   "execution_count": null,
   "metadata": {},
   "outputs": [],
   "source": [
    "# These are only used for creating the map and not part of the notebook flow\n",
    "\n",
    "# Used to plot traps\n",
    "df_traps = df_kaggle[['Trap','Latitude','Longitude']]\n",
    "df_traps.drop_duplicates(inplace=True)\n",
    "df_traps.shape\n",
    "df_traps.to_csv(f'../data/traps_kaggle.csv')\n",
    "\n",
    "# Get the traps and export to map\n",
    "df_traps = df_train[['Trap','Latitude','Longitude']]\n",
    "df_traps.drop_duplicates(inplace=True)\n",
    "df_traps.shape\n",
    "df_traps.to_csv(f'../data/traps_train.csv')\n"
   ]
  },
  {
   "cell_type": "code",
   "execution_count": null,
   "metadata": {},
   "outputs": [],
   "source": [
    "# Only three species have West Nile\n",
    "# Export DataFrame to map\n",
    "df_wnv = df_train[df_train['WnvPresent'] == 1]\n",
    "print(\"Species with West Nile virus: {}.\".format(set(df_wnv['Species'])))\n",
    "df_wnv.to_csv(f'../data/wnv.csv')"
   ]
  },
  {
   "cell_type": "code",
   "execution_count": null,
   "metadata": {},
   "outputs": [],
   "source": [
    "# These are only used for creating the map and not part of the notebook flow\n",
    "\n",
    "# ['2011-08-29' '2011-09-07' '2013-07-17' '2013-07-25' '2013-08-08'\n",
    "#  '2013-08-15' '2013-08-16' '2013-08-22' '2013-08-29' '2013-09-05']\n",
    "\n",
    "df_1 = df_spray[df_spray['Date'] == '2011-08-29']\n",
    "df_1['DateTime'] = pd.to_datetime(df_1['Date'] + \" \" + df_1['Time'])\n",
    "df_1.to_csv(f'../data/spray-2011-08-29.csv')\n",
    "\n",
    "df_3 = df_spray[df_spray['Date'] == '2013-07-17']\n",
    "df_3['DateTime'] = pd.to_datetime(df_3['Date'] + \" \" + df_3['Time'])\n",
    "df_3.to_csv(f'../data/spray-2013-07-17.csv')\n",
    "\n",
    "df_4 = df_spray[df_spray['Date'] == '2013-07-25']\n",
    "df_4['DateTime'] = pd.to_datetime(df_4['Date'] + \" \" + df_4['Time'])\n",
    "df_4.to_csv(f'../data/spray-2013-07-25.csv')\n",
    "\n",
    "df_5 = df_spray[df_spray['Date'] == '2013-08-08']\n",
    "df_5['DateTime'] = pd.to_datetime(df_5['Date'] + \" \" + df_5['Time'])\n",
    "df_5.to_csv(f'../data/spray-2013-08-08.csv')\n",
    "\n",
    "df_6 = df_spray[df_spray['Date'] == '2013-08-15']\n",
    "df_6['DateTime'] = pd.to_datetime(df_6['Date'] + \" \" + df_6['Time'])\n",
    "df_6.to_csv(f'../data/spray-2013-08-15.csv')\n",
    "\n",
    "df_7 = df_spray[df_spray['Date'] == '2013-08-16']\n",
    "df_7['DateTime'] = pd.to_datetime(df_7['Date'] + \" \" + df_7['Time'])\n",
    "df_7.to_csv(f'../data/spray-2013-08-16.csv')\n",
    "\n",
    "df_8 = df_spray[df_spray['Date'] == '2013-08-22']\n",
    "df_8['DateTime'] = pd.to_datetime(df_8['Date'] + \" \" + df_8['Time'])\n",
    "df_8.to_csv(f'../data/spray-2013-08-22.csv')\n",
    "\n",
    "df_8 = df_spray[df_spray['Date'] == '2013-08-29']\n",
    "df_8['DateTime'] = pd.to_datetime(df_8['Date'] + \" \" + df_8['Time'])\n",
    "df_8.to_csv(f'../data/spray-2013-08-29.csv')\n",
    "\n",
    "df_8 = df_spray[df_spray['Date'] == '2013-09-05']\n",
    "df_8['DateTime'] = pd.to_datetime(df_8['Date'] + \" \" + df_8['Time'])\n",
    "df_8.to_csv(f'../data/spray-2013-09-05.csv')\n",
    "\n",
    "df_spray_before = read_examine_df(\"../data/spray 2011-09-07-before-1.csv\")\n",
    "df_spray_before['DateTime'] = pd.to_datetime(df_spray_before['Date'] + \" \" + df_spray_before['Time'])\n",
    "df_spray_before.to_csv(f'../data/spray-2011-09-07-before-1-d.csv')\n",
    "\n",
    "df_spray_before = read_examine_df(\"../data/spray 2011-09-07-before-2.csv\")\n",
    "df_spray_before['DateTime'] = pd.to_datetime(df_spray_before['Date'] + \" \" + df_spray_before['Time'])\n",
    "df_spray_before.to_csv(f'../data/spray-2011-09-07-before-2-d.csv')\n",
    "\n",
    "df_spray_before = read_examine_df(\"../data/spray 2011-09-07-after.csv\")\n",
    "df_spray_before['DateTime'] = pd.to_datetime(df_spray_before['Date'] + \" \" + df_spray_before['Time'])\n",
    "df_spray_before.to_csv(f'../data/spray-2011-09-07-after-d.csv')\n",
    "\n",
    "df_spray_before = read_examine_df(\"../data/spray 2011-09-07-NA.csv\")\n",
    "df_spray_before['DateTime'] = pd.to_datetime(df_spray_before['Date'] + \" \" + df_spray_before['Time'])\n",
    "df_spray_before.to_csv(f'../data/spray-2011-09-07-NA.csv')"
   ]
  }
 ],
 "metadata": {
  "kernelspec": {
   "display_name": "Python 3",
   "language": "python",
   "name": "python3"
  },
  "language_info": {
   "codemirror_mode": {
    "name": "ipython",
    "version": 3
   },
   "file_extension": ".py",
   "mimetype": "text/x-python",
   "name": "python",
   "nbconvert_exporter": "python",
   "pygments_lexer": "ipython3",
   "version": "3.6.5"
  }
 },
 "nbformat": 4,
 "nbformat_minor": 2
}

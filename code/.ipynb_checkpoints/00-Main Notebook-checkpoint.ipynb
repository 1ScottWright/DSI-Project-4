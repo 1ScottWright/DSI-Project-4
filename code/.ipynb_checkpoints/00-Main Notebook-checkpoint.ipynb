{
 "cells": [
  {
   "cell_type": "markdown",
   "metadata": {},
   "source": [
    "<img src=\"../images/mosquito.jpg\" width=\"1000\" />"
   ]
  },
  {
   "cell_type": "markdown",
   "metadata": {},
   "source": [
    "# <span style=\"color:#37535e\">Healthy Chicago: West Nile Virus Prediction</span>\n",
    "<span style=\"color:#3b748a\">Given weather, location, testing, and spraying data, this competition asks you to predict when and where different species of mosquitos will test positive for West Nile virus.</span>\n",
    "\n",
    "<a href=\"https://www.kaggle.com/c/predict-west-nile-virus\">https://www.kaggle.com/c/predict-west-nile-virus</a>"
   ]
  },
  {
   "cell_type": "markdown",
   "metadata": {},
   "source": [
    "## <span style='color:#3b748a'>Table of contents</span>\n",
    "* <a href=\"#step1\"><span style='color:#4095b5'>Define the problem.</span></a>\n",
    "* <a href=\"#step2\"><span style='color:#4095b5'>Obtain the data.</span></a>\n",
    "* <a href=\"#step3\"><span style='color:#4095b5'>Explore the data.</span></a>\n",
    "* <a href=\"#step4\"><span style='color:#4095b5'>Model the data.</span></a>\n",
    "* <a href=\"#step5\"><span style='color:#4095b5'>Evaluate the model.</span></a>\n",
    "* <a href=\"#step6\"><span style='color:#4095b5'>Answer the problem.</span></a>\n",
    "\n",
    "## <span style='color:#3b748a'>Links</span>\n",
    "* <a href=\"\"><span style='color:#4095b5'>Slide presentation</span></a>\n",
    "* <a href=\"https://github.com/gbkgwyneth/GA-DSI-project-04\"><span style='color:#4095b5'>On GitHub</span></a>\n",
    "* <a href=\"https://drive.google.com/open?id=1q-Tp-zzgZEtVuaDiUyzpCS9frsOv1DTB&usp=sharing\"><span style='color:#4095b5'>Spray map</span></a>\n",
    "* <a href=\"https://drive.google.com/open?id=1YyD5x8lXDe_t8fzrf6DpMOYlsMF8wGzl&usp=sharing\"><span style='color:#4095b5'>Spray 2011-0907 map</span></a>\n",
    "* <a href=\"https://drive.google.com/open?id=1QwftvBJBFt-72KeTvWCDfw-W0drR5nJ3&usp=sharing\"><span style='color:#4095b5'>Traps map</span></a>\n",
    "<hr>"
   ]
  },
  {
   "cell_type": "code",
   "execution_count": 1,
   "metadata": {},
   "outputs": [],
   "source": [
    "# Let's get the administrative stuff done first\n",
    "# import all the libraries and set up the plotting\n",
    "\n",
    "import pandas as pd\n",
    "import numpy as np\n",
    "from datetime import datetime,timedelta\n",
    "\n",
    "import statsmodels.api as sm\n",
    "\n",
    "from sklearn.cluster import KMeans, k_means\n",
    "from sklearn.ensemble import BaggingClassifier, RandomForestClassifier, ExtraTreesClassifier, AdaBoostClassifier, GradientBoostingClassifier\n",
    "from sklearn.ensemble import BaggingRegressor, RandomForestRegressor, ExtraTreesRegressor, AdaBoostRegressor, GradientBoostingRegressor\n",
    "from sklearn.gaussian_process import GaussianProcessRegressor\n",
    "from sklearn.linear_model import LogisticRegression, LogisticRegressionCV\n",
    "from sklearn.linear_model import Ridge, Lasso, ElasticNet, LinearRegression, RidgeCV, LassoCV, ElasticNetCV\n",
    "from sklearn.metrics import accuracy_score, mean_squared_error, silhouette_score, roc_auc_score\n",
    "\n",
    "from sklearn.model_selection import train_test_split, cross_val_score, GridSearchCV, RandomizedSearchCV \n",
    "from sklearn.neighbors import KNeighborsRegressor, KNeighborsClassifier\n",
    "from sklearn.pipeline import Pipeline\n",
    "from sklearn.preprocessing import StandardScaler, PolynomialFeatures\n",
    "from sklearn.svm import SVC, SVR\n",
    "from sklearn.tree import DecisionTreeClassifier, DecisionTreeRegressor\n",
    "\n",
    "\n",
    "import matplotlib\n",
    "import matplotlib.pyplot as plt\n",
    "import seaborn as sns\n",
    "plt.style.use('seaborn')\n",
    "sns.set(style=\"white\", color_codes=True)\n",
    "colors_palette = sns.color_palette(\"GnBu_d\")\n",
    "sns.set_palette(colors_palette)\n",
    "\n",
    "# GnBu_d\n",
    "colors = ['#37535e', '#3b748a', '#4095b5', '#52aec9', '#72bfc4', '#93d0bf']"
   ]
  },
  {
   "cell_type": "markdown",
   "metadata": {},
   "source": [
    "## <span style='color:#3b748a'>Data checking functions</span>"
   ]
  },
  {
   "cell_type": "code",
   "execution_count": 2,
   "metadata": {},
   "outputs": [],
   "source": [
    "# Check which non-numeric columns are missing values and what the possible values are for each object column\n",
    "\n",
    "def check_cols(df):\n",
    "    cols = df.select_dtypes([np.object]).columns\n",
    "    for col in cols:\n",
    "        print(\"{} is {} and values are {}.\".format(col,df[col].dtype,df[col].unique()))\n",
    "        n_nan = df[col].isnull().sum()\n",
    "        if n_nan > 0:\n",
    "            print(\"{} has {} NaNs.\".format(col,n_nan))\n",
    "            \n",
    "    cols = df.select_dtypes([np.int64,np.float64,np.uint64]).columns\n",
    "    for col in cols:\n",
    "        print(\"{} is {} and values are {} to {}.\".format(col,df[col].dtype,df[col].min(),df[col].max()))\n",
    "        n_nan = df[col].isnull().sum()\n",
    "        if n_nan > 0:\n",
    "            print(\"{} has {} NaNs.\".format(col,n_nan))\n",
    "    return"
   ]
  },
  {
   "cell_type": "code",
   "execution_count": 3,
   "metadata": {},
   "outputs": [],
   "source": [
    "# Check which numeric columns are missing values\n",
    "\n",
    "def check_data(df):\n",
    "    s = df.shape\n",
    "    print(\"Rows: {} Cols: {}\".format(s[0],s[1]))\n",
    "\n",
    "    # Check for null values\n",
    "    null_data = df.isnull().sum()\n",
    "    null_data_count = sum(df.isnull().sum())\n",
    "    if  null_data_count > 0:\n",
    "        print(\"There are {} null data.\".format(null_data_count))\n",
    "        print(\"Columns with NaN: {}\".format(list(null_data[null_data > 0].index)))\n",
    "\n",
    "    duplicates = df[df.duplicated()].shape[0]\n",
    "    print(\"There are {} duplicate rows in the test data.\".format(duplicates))\n",
    "\n",
    "    check_cols(df)\n",
    "\n",
    "    return"
   ]
  },
  {
   "cell_type": "code",
   "execution_count": 4,
   "metadata": {},
   "outputs": [],
   "source": [
    "def read_examine_df(file):\n",
    "    df = pd.read_csv(file)\n",
    "    check_data(df)\n",
    "    return df"
   ]
  },
  {
   "cell_type": "markdown",
   "metadata": {},
   "source": [
    "### <span style='color:#3b748a'>Data cleaning functions</span>\n",
    "\n",
    "<span style='color:#4095b5'>These functions fill the NaNs with appropriate values. Given more time, we could make these funcions more robust.</span>"
   ]
  },
  {
   "cell_type": "code",
   "execution_count": 5,
   "metadata": {},
   "outputs": [],
   "source": [
    "# Change the NaNs in numeric columns to a value ?\n",
    "\n",
    "def clean_data(df, val):\n",
    "    numeric_cols = df.select_dtypes([np.int64,np.float64,np.uint64]).columns\n",
    "    df[numeric_cols] = df[numeric_cols].fillna(val)\n",
    "    return"
   ]
  },
  {
   "cell_type": "code",
   "execution_count": 6,
   "metadata": {},
   "outputs": [],
   "source": [
    "# Check values of categries and fill the NaNs with a specified value.\n",
    "\n",
    "def clean_check_col(df, col,possible_values,fill_value):\n",
    "    df[col] = df[col].fillna(fill_value)\n",
    "    values = set(df[col])\n",
    "    if not values.issubset(possible_values):\n",
    "         print(\"Problem with {}.\".format(col))                 \n",
    "    return"
   ]
  },
  {
   "cell_type": "markdown",
   "metadata": {},
   "source": [
    "<hr>\n",
    " <a name=\"step1\"></a>\n",
    " ## <span style=\"color:#37535e\">I. Define the problem</span>\n",
    " \n",
    "<span style='color:#3b748a'>Predict when and where different species of mosquitos will test positive for West Nile virus. A more accurate method of predicting outbreaks of West Nile virus in mosquitos will help the City of Chicago and CPHD more efficiently and effectively allocate resources towards preventing transmission of this potentially deadly virus.</span>\n",
    "\n",
    "<span style='color:#3b748a'>For each record in the test set, you should predict a real-valued probability that WNV is present.</span>"
   ]
  },
  {
   "cell_type": "markdown",
   "metadata": {},
   "source": [
    "<a name=\"step2\"></a>\n",
    " ## <span style=\"color:#37535e\">II. Obtain the data.</span>\n",
    " \n",
    "<ul>\n",
    "    <li><span style='color:#3b748a'>Training data: <span style=\"font-family:monospace\">train.csv</span></span></li>\n",
    "    <li><span style='color:#3b748a'>Test data: <span style=\"font-family:monospace\">test.csv</span></span></li>\n",
    "    <li><span style='color:#3b748a'>Spray data: <span style=\"font-family:monospace\">spray.csv</span></span></li>\n",
    "    <li><span style='color:#3b748a'>Weather data: <span style=\"font-family:monospace\">weather.csv</span></span></li>\n",
    "</ul>"
   ]
  },
  {
   "cell_type": "markdown",
   "metadata": {},
   "source": [
    "### <span style='color:#3b748a'>Training data</span>\n",
    "<ul>\n",
    "    <li><span style='color:#4095b5'>Rows: 10506</span></li\n",
    "        >\n",
    "    <li><span style='color:#4095b5'>Cols: 12</span></li>\n",
    "    <li><span style='color:#4095b5'>There is NO null data.</span></li>\n",
    "</ul>"
   ]
  },
  {
   "cell_type": "code",
   "execution_count": 7,
   "metadata": {},
   "outputs": [],
   "source": [
    "do_check_data = False"
   ]
  },
  {
   "cell_type": "code",
   "execution_count": 8,
   "metadata": {},
   "outputs": [],
   "source": [
    "if do_check_data:\n",
    "    df_train = read_examine_df(\"../data/train.csv\")\n",
    "else:\n",
    "    df_train = pd.read_csv(\"../data/train.csv\")"
   ]
  },
  {
   "cell_type": "markdown",
   "metadata": {},
   "source": [
    "### <span style='color:#3b748a'>Cleaning the training data</span>\n",
    "<ul>\n",
    "    <li><span style='color:#4095b5'>Latitude and longitude have reasonable ranges.</span></li>\n",
    "    <li><span style='color:#4095b5'>Drop all other address data for now.</span></li>\n",
    "    <li><span style='color:#4095b5'>Replace <span style=\"font-family:monospace\">Date</span>  with a <span style=\"font-family:monospace\">datetime</span> object.</span></li>\n",
    "    <li><span style='color:#4095b5'>Create <span style=\"font-family:monospace\">Week</span> and <span style=\"font-family:monospace\">Special</span> features.</span></li>\n",
    "    <li><span style='color:#4095b5'>Merge rows with same trap/date/species; sum <span style=\"font-family:monospace\">NumMosquitos</span> and set <span style=\"font-family:monospace\">WnvPresent</span> to 0 or 1 acordingly. This may cause us to lose some information. Scott is digging deeper.</span></li>\n",
    "</ul>"
   ]
  },
  {
   "cell_type": "code",
   "execution_count": 9,
   "metadata": {},
   "outputs": [],
   "source": [
    "# For now, drop all the address columns since lat/lon should be enough\n",
    "df_train.drop(['Address','Block','Street','AddressNumberAndStreet','AddressAccuracy'], axis=1,inplace=True)"
   ]
  },
  {
   "cell_type": "code",
   "execution_count": 10,
   "metadata": {},
   "outputs": [],
   "source": [
    "# Make Date into datetime\n",
    "df_train['Date'] = pd.to_datetime(df_train['Date'])\n",
    "\n",
    "# Add week and \"special column\"\n",
    "df_train['Week'] = (df_train['Date'].dt.strftime('%W')).astype(int)\n",
    "df_train['Special'] = (df_train['Date'].dt.strftime('%Y')).astype(int)\n",
    "df_train['Year'] = (df_train['Date'].dt.strftime('%Y')).astype(int)"
   ]
  },
  {
   "cell_type": "code",
   "execution_count": 11,
   "metadata": {},
   "outputs": [],
   "source": [
    "# Merge duplicate rows by summing NumMosquiots and WMvPresent\n",
    "# TO DO: Summing over Years HELPS the model?? - we call this 'Special'\n",
    "# df_train = df_train.groupby(['Date','Week','Year','Species','Trap','Latitude', 'Longitude'], as_index=False).sum().reindex()\n",
    "\n",
    "# Change WnvPresent to be  0/1\n",
    "df_train['WnvPresent'] = (df_train['WnvPresent'] > 0).astype(int)"
   ]
  },
  {
   "cell_type": "code",
   "execution_count": 12,
   "metadata": {},
   "outputs": [
    {
     "data": {
      "image/png": "[encoded data removed]",
      "text/plain": [
       "<Figure size 1080x432 with 1 Axes>"
      ]
     },
     "metadata": {},
     "output_type": "display_data"
    }
   ],
   "source": [
    "# This is the TOTAL mosquitos in a given week summed over all years.\n",
    "df_temp = df_train.groupby(['Week','Species'], as_index=False).sum().reindex()\n",
    "\n",
    "fg = sns.lmplot(data=df_temp, x = 'Week', y='NumMosquitos', hue='Species', fit_reg=False);\n",
    "fg.fig.set_figheight(6)\n",
    "fg.fig.set_figwidth(15)\n",
    "fg.fig.suptitle(\"Total for each species per week over all years\");"
   ]
  },
  {
   "cell_type": "code",
   "execution_count": 13,
   "metadata": {},
   "outputs": [],
   "source": [
    "# Speies with West Nile Virus\n",
    "species_wnv = set((df_train[df_train['WnvPresent'] > 0])['Species'])"
   ]
  },
  {
   "cell_type": "markdown",
   "metadata": {},
   "source": [
    "### <span style='color:#3b748a'>Create \"target\" variables</span>\n",
    "\n",
    "<span style='color:#4095b5'>There are TWO targets in this problem:</span>\n",
    "\n",
    "<ul>\n",
    "    <li><span style='color:#4095b5'>First, we have to predict HOW MANY mosquitoes of each species will be in a trap on a given date.</span></li>\n",
    "    <li><span style='color:#4095b5'>Then we have to predict the probablity that there will be West Nile virus present based on those counts.</span></li>\n",
    "</ul>"
   ]
  },
  {
   "cell_type": "code",
   "execution_count": 14,
   "metadata": {},
   "outputs": [],
   "source": [
    "# Create our targets then drop those columns\n",
    "\n",
    "y_count_label = 'NumMosquitos'\n",
    "y_count = df_train[y_count_label]\n",
    "\n",
    "y_wnv_label = 'WnvPresent'\n",
    "y_wnv = df_train[y_wnv_label]\n",
    "\n",
    "df_train.drop(columns=[y_wnv_label,y_count_label], inplace=True)"
   ]
  },
  {
   "cell_type": "markdown",
   "metadata": {},
   "source": [
    "### <span style='color:#3b748a'>Kaggle data</span>\n",
    "<ul>\n",
    "    <li><span style='color:#4095b5'>Rows: 116293</span></li>\n",
    "    <li><span style='color:#4095b5'>Cols: 11</span></li>\n",
    "    <li><span style='color:#4095b5'>There is NO null data.</span></li>\n",
    "</ul>\n",
    "\n",
    "<span style='color:#4095b5'>The instructions say that we are predicting all combinations of possible traps/dates/etc., but we will only be scored on the records that match with actual tests/samples.</span>"
   ]
  },
  {
   "cell_type": "code",
   "execution_count": 15,
   "metadata": {},
   "outputs": [],
   "source": [
    "if do_check_data:\n",
    "    df_kaggle = read_examine_df(\"../data/test.csv\")\n",
    "else:\n",
    "    df_kaggle = pd.read_csv(\"../data/test.csv\")"
   ]
  },
  {
   "cell_type": "markdown",
   "metadata": {},
   "source": [
    "### <span style='color:#3b748a'>Cleaning the Kaggle data</span>\n",
    "<ul>\n",
    "    <li><span style='color:#4095b5'>Latitude and longitude have reasonable ranges.</span></li>\n",
    "    <li><span style='color:#4095b5'>Drop all other address data for now.</span></li>\n",
    "    <li><span style='color:#4095b5'>Replace <span style=\"font-family:monospace\">Date</span>  with a <span style=\"font-family:monospace\">datetime</span> object.</span></li>\n",
    "    <li><span style='color:#4095b5'>Create <span style=\"font-family:monospace\">Week</span> and <span style=\"font-family:monospace\">Special</span> features.</span></li>\n",
    "    <li><span style='color:#4095b5'>There are duplicate rows. Can we assume anything about these? We merged rows like this in training, but we need to make predictions here.</span></li>\n",
    "</ul>    \n",
    "\n",
    "<ul>\n",
    "    <li><span style='color:#4095b5'>Does not have <span style=\"font-family:monospace\">NumMosquitos</span> nor <span style=\"font-family:monospace\">WnvPresent</span></span></li>\n",
    "    <li><span style='color:#4095b5'>Does have Id column - make this the index</span></li>\n",
    "</ul>"
   ]
  },
  {
   "cell_type": "code",
   "execution_count": 16,
   "metadata": {},
   "outputs": [],
   "source": [
    "# For now, drop all the address columns since lat/lon should be enough\n",
    "df_kaggle.drop(['Address','Block','Street','AddressNumberAndStreet','AddressAccuracy'], axis=1,inplace=True)\n",
    "\n",
    "# Make Date into datetime\n",
    "df_kaggle['Date'] = pd.to_datetime(df_kaggle['Date'])\n",
    "\n",
    "# Add week and 'Special' feature\n",
    "df_kaggle['Week'] = (df_kaggle['Date'].dt.strftime('%W')).astype(int)\n",
    "df_kaggle['Special'] = (df_kaggle['Date'].dt.strftime('%Y')).astype(int)\n",
    "df_kaggle['Year'] = (df_kaggle['Date'].dt.strftime('%Y')).astype(int)"
   ]
  },
  {
   "cell_type": "code",
   "execution_count": 17,
   "metadata": {},
   "outputs": [
    {
     "name": "stdout",
     "output_type": "stream",
     "text": [
      "There are 0 duplicate rows in the test data\n"
     ]
    }
   ],
   "source": [
    "# If there is a duplicate row, maybe that means we know there are more than 50 in trap?\n",
    "duplicates = df_kaggle[df_kaggle.duplicated()].shape[0]\n",
    "print(\"There are {} duplicate rows in the test data\".format(duplicates))"
   ]
  },
  {
   "cell_type": "code",
   "execution_count": 18,
   "metadata": {},
   "outputs": [
    {
     "data": {
      "text/html": [
       "<div>\n",
       "<style scoped>\n",
       "    .dataframe tbody tr th:only-of-type {\n",
       "        vertical-align: middle;\n",
       "    }\n",
       "\n",
       "    .dataframe tbody tr th {\n",
       "        vertical-align: top;\n",
       "    }\n",
       "\n",
       "    .dataframe thead th {\n",
       "        text-align: right;\n",
       "    }\n",
       "</style>\n",
       "<table border=\"1\" class=\"dataframe\">\n",
       "  <thead>\n",
       "    <tr style=\"text-align: right;\">\n",
       "      <th></th>\n",
       "      <th>Id</th>\n",
       "      <th>Date</th>\n",
       "      <th>Species</th>\n",
       "      <th>Trap</th>\n",
       "      <th>Latitude</th>\n",
       "      <th>Longitude</th>\n",
       "      <th>Week</th>\n",
       "      <th>Special</th>\n",
       "      <th>Year</th>\n",
       "    </tr>\n",
       "  </thead>\n",
       "  <tbody>\n",
       "    <tr>\n",
       "      <th>0</th>\n",
       "      <td>1</td>\n",
       "      <td>2008-06-11</td>\n",
       "      <td>CULEX PIPIENS/RESTUANS</td>\n",
       "      <td>T002</td>\n",
       "      <td>41.95469</td>\n",
       "      <td>-87.800991</td>\n",
       "      <td>23</td>\n",
       "      <td>2008</td>\n",
       "      <td>2008</td>\n",
       "    </tr>\n",
       "    <tr>\n",
       "      <th>1</th>\n",
       "      <td>2</td>\n",
       "      <td>2008-06-11</td>\n",
       "      <td>CULEX RESTUANS</td>\n",
       "      <td>T002</td>\n",
       "      <td>41.95469</td>\n",
       "      <td>-87.800991</td>\n",
       "      <td>23</td>\n",
       "      <td>2008</td>\n",
       "      <td>2008</td>\n",
       "    </tr>\n",
       "    <tr>\n",
       "      <th>2</th>\n",
       "      <td>3</td>\n",
       "      <td>2008-06-11</td>\n",
       "      <td>CULEX PIPIENS</td>\n",
       "      <td>T002</td>\n",
       "      <td>41.95469</td>\n",
       "      <td>-87.800991</td>\n",
       "      <td>23</td>\n",
       "      <td>2008</td>\n",
       "      <td>2008</td>\n",
       "    </tr>\n",
       "    <tr>\n",
       "      <th>3</th>\n",
       "      <td>4</td>\n",
       "      <td>2008-06-11</td>\n",
       "      <td>CULEX SALINARIUS</td>\n",
       "      <td>T002</td>\n",
       "      <td>41.95469</td>\n",
       "      <td>-87.800991</td>\n",
       "      <td>23</td>\n",
       "      <td>2008</td>\n",
       "      <td>2008</td>\n",
       "    </tr>\n",
       "    <tr>\n",
       "      <th>4</th>\n",
       "      <td>5</td>\n",
       "      <td>2008-06-11</td>\n",
       "      <td>CULEX TERRITANS</td>\n",
       "      <td>T002</td>\n",
       "      <td>41.95469</td>\n",
       "      <td>-87.800991</td>\n",
       "      <td>23</td>\n",
       "      <td>2008</td>\n",
       "      <td>2008</td>\n",
       "    </tr>\n",
       "  </tbody>\n",
       "</table>\n",
       "</div>"
      ],
      "text/plain": [
       "   Id       Date                 Species  Trap  Latitude  Longitude  Week  \\\n",
       "0   1 2008-06-11  CULEX PIPIENS/RESTUANS  T002  41.95469 -87.800991    23   \n",
       "1   2 2008-06-11          CULEX RESTUANS  T002  41.95469 -87.800991    23   \n",
       "2   3 2008-06-11           CULEX PIPIENS  T002  41.95469 -87.800991    23   \n",
       "3   4 2008-06-11        CULEX SALINARIUS  T002  41.95469 -87.800991    23   \n",
       "4   5 2008-06-11         CULEX TERRITANS  T002  41.95469 -87.800991    23   \n",
       "\n",
       "   Special  Year  \n",
       "0     2008  2008  \n",
       "1     2008  2008  \n",
       "2     2008  2008  \n",
       "3     2008  2008  \n",
       "4     2008  2008  "
      ]
     },
     "execution_count": 18,
     "metadata": {},
     "output_type": "execute_result"
    }
   ],
   "source": [
    "df_kaggle.head()"
   ]
  },
  {
   "cell_type": "markdown",
   "metadata": {},
   "source": [
    "### <span style='color:#3b748a'>Cleaning the trap data</span>\n",
    "\n",
    "<span style='color:#4095b5'>While working to feature engineer the spraying data, I noticed that there are two traps that each have two different lat/long listed. Rename these traps, and rename them in the Kaggle data as well.</span>"
   ]
  },
  {
   "cell_type": "code",
   "execution_count": 19,
   "metadata": {},
   "outputs": [
    {
     "name": "stdout",
     "output_type": "stream",
     "text": [
      "There are 138 traps in the test data.\n",
      "There are 2 bad traps in the training data. Now cleaning.\n",
      "There are 151 traps in the test data.\n"
     ]
    }
   ],
   "source": [
    "# Break apart duplicate traps !\n",
    "df_traps_train = df_train[['Trap', 'Latitude','Longitude']].copy()\n",
    "df_traps_train.drop_duplicates(inplace=True)\n",
    "df_traps_train.reset_index(inplace=True)\n",
    "print(\"There are {} traps in the test data.\".format(df_traps_train.shape[0]))\n",
    "\n",
    "# Here are the traps with duplicates\n",
    "df_trap_duplicate = df_traps_train.loc[df_traps_train.duplicated('Trap')][['Trap','Latitude','Longitude']].copy()\n",
    "if df_trap_duplicate.shape[0] > 0:\n",
    "    print(\"There are {} bad traps in the training data. Now cleaning.\".format(df_trap_duplicate.shape[0]))\n",
    "    \n",
    "# For each one, update the Train and Kaggle data too...\n",
    "for i in df_trap_duplicate.index:\n",
    "    trap = df_trap_duplicate.loc[i, \"Trap\"]\n",
    "    lat = df_trap_duplicate.loc[i, \"Latitude\"]\n",
    "    long = df_trap_duplicate.loc[i, \"Longitude\"]\n",
    "    new_trap = trap + \"GAS\"\n",
    "    df_train.loc[(df_train['Trap'] == trap) \n",
    "                 & (df_train['Latitude'] == lat) \n",
    "                 & (df_train['Longitude'] == long),'Trap'] = new_trap\n",
    "    df_kaggle.loc[(df_kaggle['Trap'] == trap) \n",
    "                 & (df_kaggle['Latitude'] == lat) \n",
    "                 & (df_kaggle['Longitude'] == long),'Trap'] = new_trap\n",
    "\n",
    "# Repeat with Kaggle data?\n",
    "df_traps_kaggle = df_kaggle[['Trap', 'Latitude','Longitude']].copy()\n",
    "df_traps_kaggle.drop_duplicates(inplace=True)\n",
    "df_traps_kaggle.reset_index(inplace=True)\n",
    "print(\"There are {} traps in the test data.\".format(df_traps_kaggle.shape[0]))\n",
    "\n",
    "# Here are the traps with duplicates\n",
    "df_trap_duplicate = df_traps_kaggle.loc[df_traps_kaggle.duplicated('Trap')][['Trap','Latitude','Longitude']].copy()\n",
    "if df_trap_duplicate.shape[0] > 0:\n",
    "    print(\"There are {} bad traps in the Kaggle test data. Error: More cleaning needed.\".format(df_trap_duplicate.shape[0]))"
   ]
  },
  {
   "cell_type": "markdown",
   "metadata": {},
   "source": [
    "### <span style='color:#3b748a'>Spray data</span>\n",
    "<ul>\n",
    "    <li><span style='color:#4095b5'>Rows: 14835</span></li\n",
    "        >\n",
    "    <li><span style='color:#4095b5'>Cols: 4</span></li>\n",
    "    <li><span style='color:#4095b5'>There are 584 null data.</span></li>\n",
    "    <li><span style='color:#4095b5'>There are 541 duplicate rows.</span></li>\n",
    "    <li><span style='color:#4095b5'>Columns with NaN: <span style=\"font-family:monospace\">Time</span></span></li>\n",
    "</ul>"
   ]
  },
  {
   "cell_type": "code",
   "execution_count": 20,
   "metadata": {},
   "outputs": [
    {
     "data": {
      "text/html": [
       "<div>\n",
       "<style scoped>\n",
       "    .dataframe tbody tr th:only-of-type {\n",
       "        vertical-align: middle;\n",
       "    }\n",
       "\n",
       "    .dataframe tbody tr th {\n",
       "        vertical-align: top;\n",
       "    }\n",
       "\n",
       "    .dataframe thead th {\n",
       "        text-align: right;\n",
       "    }\n",
       "</style>\n",
       "<table border=\"1\" class=\"dataframe\">\n",
       "  <thead>\n",
       "    <tr style=\"text-align: right;\">\n",
       "      <th></th>\n",
       "      <th>Date</th>\n",
       "      <th>Time</th>\n",
       "      <th>Latitude</th>\n",
       "      <th>Longitude</th>\n",
       "    </tr>\n",
       "  </thead>\n",
       "  <tbody>\n",
       "    <tr>\n",
       "      <th>0</th>\n",
       "      <td>2011-08-29</td>\n",
       "      <td>6:56:58 PM</td>\n",
       "      <td>42.391623</td>\n",
       "      <td>-88.089163</td>\n",
       "    </tr>\n",
       "    <tr>\n",
       "      <th>1</th>\n",
       "      <td>2011-08-29</td>\n",
       "      <td>6:57:08 PM</td>\n",
       "      <td>42.391348</td>\n",
       "      <td>-88.089163</td>\n",
       "    </tr>\n",
       "    <tr>\n",
       "      <th>2</th>\n",
       "      <td>2011-08-29</td>\n",
       "      <td>6:57:18 PM</td>\n",
       "      <td>42.391022</td>\n",
       "      <td>-88.089157</td>\n",
       "    </tr>\n",
       "    <tr>\n",
       "      <th>3</th>\n",
       "      <td>2011-08-29</td>\n",
       "      <td>6:57:28 PM</td>\n",
       "      <td>42.390637</td>\n",
       "      <td>-88.089158</td>\n",
       "    </tr>\n",
       "    <tr>\n",
       "      <th>4</th>\n",
       "      <td>2011-08-29</td>\n",
       "      <td>6:57:38 PM</td>\n",
       "      <td>42.390410</td>\n",
       "      <td>-88.088858</td>\n",
       "    </tr>\n",
       "  </tbody>\n",
       "</table>\n",
       "</div>"
      ],
      "text/plain": [
       "         Date        Time   Latitude  Longitude\n",
       "0  2011-08-29  6:56:58 PM  42.391623 -88.089163\n",
       "1  2011-08-29  6:57:08 PM  42.391348 -88.089163\n",
       "2  2011-08-29  6:57:18 PM  42.391022 -88.089157\n",
       "3  2011-08-29  6:57:28 PM  42.390637 -88.089158\n",
       "4  2011-08-29  6:57:38 PM  42.390410 -88.088858"
      ]
     },
     "execution_count": 20,
     "metadata": {},
     "output_type": "execute_result"
    }
   ],
   "source": [
    "if do_check_data:\n",
    "    df_spray = read_examine_df(\"../data/spray.csv\")\n",
    "else: \n",
    "    df_spray = pd.read_csv(\"../data/spray.csv\")\n",
    "df_spray.head()"
   ]
  },
  {
   "cell_type": "markdown",
   "metadata": {},
   "source": [
    "### <span style='color:#3b748a'>Cleaning the spray data</span>\n",
    "<ul>\n",
    "    <li><span style='color:#4095b5'>Latitude and longitude have reasonable ranges.</span></li>\n",
    "    <li><span style='color:#4095b5'>Missing <span style=\"font-family:monospace\">Time</span> data on date 2011-09-07</span></li>\n",
    "    <li><span style='color:#4095b5'>Drop (~450) duplicate rows: <br />2011-09-07\t7:44:32 PM\t41.98646\t-87.794225</span></li>\n",
    "    <li><span style='color:#4095b5'>Add datetime object instead of <span style=\"font-family:monospace\">Date</span> and <span style=\"font-family:monospace\">Time</span></span></li>\n",
    "</ul>\n",
    "\n",
    "#### <span style='color:#4095b5'>Spraying maps</span>\n",
    "<ul>\n",
    "    <li><span style='color:#52aec9'>All the spraying data, execpt for the date with bad data</span>\n",
    "    <li><span style='color:#52aec9'>Spray map for 2011-09-07</span>\n",
    "</ul>"
   ]
  },
  {
   "cell_type": "markdown",
   "metadata": {},
   "source": [
    "<center><span style='color:#4095b5'>Map of all spraying except for 2011-0907</span></center>\n",
    "<img src=\"../images/spray-map.jpg\" alt=\"Full spray map\" width=700/>\n"
   ]
  },
  {
   "cell_type": "markdown",
   "metadata": {},
   "source": [
    "<center><span style='color:#4095b5'>Map of all spraying on 2011-0907</span></center>\n",
    "<img src=\"../images/spray-2011-09-07.jpg\" alt=\"Spray map for 2011-09-07\" width=700/>\n"
   ]
  },
  {
   "cell_type": "markdown",
   "metadata": {},
   "source": [
    "### <span style='color:#3b748a'>Missing spray time data</span>\n",
    "<ul>\n",
    "    <li><span style='color:#4095b5'>Many <span style=\"font-family:monospace\">Time</span> values are missing but can likely be imputed.</span></li>\n",
    "    <li><span style='color:#4095b5'>Spraying generally happens every 10 seconds. </span></li>\n",
    "    <li><span style='color:#4095b5'>As the previous rows were the duplicate data, I'm going to guess that we should connect with 7:44:32.</span>\n",
    "    <li><span style='color:#4095b5'>Based the spray time on the endpoints.</span>\n",
    "    <li><span style='color:#4095b5'>Probably good enough to have the time within a small window of time.</span>\n",
    "        \n",
    "</ul>"
   ]
  },
  {
   "cell_type": "code",
   "execution_count": 21,
   "metadata": {},
   "outputs": [],
   "source": [
    "# This spray time imputation is probably overkill.\n",
    "\n",
    "# Get time of duplicate row\n",
    "# Make it the start for the next set of columns\n",
    "# fill the NaNs, *subtracting* ten seconds based on the map of the missing data\n",
    "\n",
    "# Get time of duplicate row\n",
    "series = df_spray[df_spray.duplicated() == True].index\n",
    "idx = series[-1]\n",
    "\n",
    "# Check the next row starts the Nans\n",
    "# print(\"If it is not a NaN, we have a problem... {}\".format(df_spray.loc[idx+1]['Time']))\n",
    "\n",
    "# Assume the NaNs are in a row\n",
    "null_data_count = sum(df_spray.isnull().sum())\n",
    "# print(\"If it is not a NaN, we have a problem... {}\".format(df_spray.iloc[idx+null_data_count]['Time']))\n",
    "# print(\"If it IS a NaN, we have a problem... {}\".format(df_spray.iloc[idx+null_data_count+1]['Time']))\n",
    "\n",
    "# Make it the start for the next row\n",
    "start_time = pd.to_datetime(df_spray.iloc[idx]['Time'])\n",
    "times = [(start_time + timedelta(seconds=-10*i)).time().strftime('%H:%M:%S')\n",
    "         for i in range(null_data_count)]\n",
    "\n",
    "# Replace the missing times\n",
    "df_spray.loc[df_spray['Time'].isnull(), 'Time'] = times\n",
    "\n",
    "# Check that there are no longer any nulls\n",
    "null_data_count = sum(df_spray.isnull().sum())\n",
    "if  null_data_count > 0:\n",
    "    print(\"There are {} null data.\".format(null_data_count))"
   ]
  },
  {
   "cell_type": "code",
   "execution_count": 22,
   "metadata": {},
   "outputs": [],
   "source": [
    "# Drop duplicate rows\n",
    "df_spray.drop_duplicates(keep='last', inplace=True)"
   ]
  },
  {
   "cell_type": "markdown",
   "metadata": {},
   "source": [
    "### <span style='color:#3b748a'>Other spray cleaning</span>"
   ]
  },
  {
   "cell_type": "code",
   "execution_count": 23,
   "metadata": {},
   "outputs": [
    {
     "data": {
      "text/html": [
       "<div>\n",
       "<style scoped>\n",
       "    .dataframe tbody tr th:only-of-type {\n",
       "        vertical-align: middle;\n",
       "    }\n",
       "\n",
       "    .dataframe tbody tr th {\n",
       "        vertical-align: top;\n",
       "    }\n",
       "\n",
       "    .dataframe thead th {\n",
       "        text-align: right;\n",
       "    }\n",
       "</style>\n",
       "<table border=\"1\" class=\"dataframe\">\n",
       "  <thead>\n",
       "    <tr style=\"text-align: right;\">\n",
       "      <th></th>\n",
       "      <th>Date</th>\n",
       "      <th>Time</th>\n",
       "      <th>Latitude</th>\n",
       "      <th>Longitude</th>\n",
       "      <th>DateTime</th>\n",
       "    </tr>\n",
       "  </thead>\n",
       "  <tbody>\n",
       "    <tr>\n",
       "      <th>0</th>\n",
       "      <td>2011-08-29</td>\n",
       "      <td>6:56:58 PM</td>\n",
       "      <td>42.391623</td>\n",
       "      <td>-88.089163</td>\n",
       "      <td>2011-08-29 18:56:58</td>\n",
       "    </tr>\n",
       "    <tr>\n",
       "      <th>1</th>\n",
       "      <td>2011-08-29</td>\n",
       "      <td>6:57:08 PM</td>\n",
       "      <td>42.391348</td>\n",
       "      <td>-88.089163</td>\n",
       "      <td>2011-08-29 18:57:08</td>\n",
       "    </tr>\n",
       "    <tr>\n",
       "      <th>2</th>\n",
       "      <td>2011-08-29</td>\n",
       "      <td>6:57:18 PM</td>\n",
       "      <td>42.391022</td>\n",
       "      <td>-88.089157</td>\n",
       "      <td>2011-08-29 18:57:18</td>\n",
       "    </tr>\n",
       "    <tr>\n",
       "      <th>3</th>\n",
       "      <td>2011-08-29</td>\n",
       "      <td>6:57:28 PM</td>\n",
       "      <td>42.390637</td>\n",
       "      <td>-88.089158</td>\n",
       "      <td>2011-08-29 18:57:28</td>\n",
       "    </tr>\n",
       "    <tr>\n",
       "      <th>4</th>\n",
       "      <td>2011-08-29</td>\n",
       "      <td>6:57:38 PM</td>\n",
       "      <td>42.390410</td>\n",
       "      <td>-88.088858</td>\n",
       "      <td>2011-08-29 18:57:38</td>\n",
       "    </tr>\n",
       "  </tbody>\n",
       "</table>\n",
       "</div>"
      ],
      "text/plain": [
       "        Date        Time   Latitude  Longitude            DateTime\n",
       "0 2011-08-29  6:56:58 PM  42.391623 -88.089163 2011-08-29 18:56:58\n",
       "1 2011-08-29  6:57:08 PM  42.391348 -88.089163 2011-08-29 18:57:08\n",
       "2 2011-08-29  6:57:18 PM  42.391022 -88.089157 2011-08-29 18:57:18\n",
       "3 2011-08-29  6:57:28 PM  42.390637 -88.089158 2011-08-29 18:57:28\n",
       "4 2011-08-29  6:57:38 PM  42.390410 -88.088858 2011-08-29 18:57:38"
      ]
     },
     "execution_count": 23,
     "metadata": {},
     "output_type": "execute_result"
    }
   ],
   "source": [
    "# Turn the Date/Time into a datetime object\n",
    "df_spray['DateTime'] = pd.to_datetime(df_spray['Date'] + \" \" + df_spray['Time'])\n",
    "\n",
    "# Make Date into datetime\n",
    "df_spray['Date'] = pd.to_datetime(df_spray['Date'])\n",
    "\n",
    "# df_spray.drop(['Date','Time'], axis=1, inplace=True)\n",
    "df_spray.head()"
   ]
  },
  {
   "cell_type": "markdown",
   "metadata": {},
   "source": [
    "### <span style='color:#3b748a'>Weather data</span>\n",
    "<ul>\n",
    "    <li><span style='color:#4095b5'>Rows: 2944</span></li>\n",
    "    <li><span style='color:#4095b5'>Cols: 0</span></li>\n",
    "    <li><span style='color:#4095b5'>There is NO null data.</span></li>\n",
    "</ul>"
   ]
  },
  {
   "cell_type": "code",
   "execution_count": 24,
   "metadata": {
    "scrolled": true
   },
   "outputs": [],
   "source": [
    "if do_check_data:\n",
    "    df_weather = read_examine_df(\"../data/weather.csv\")\n",
    "else:\n",
    "    df_weather = pd.read_csv(\"../data/weather.csv\")"
   ]
  },
  {
   "cell_type": "markdown",
   "metadata": {},
   "source": [
    "### <span style='color:#3b748a'>Cleaning the weather data</span>\n",
    "<ul>\n",
    "    <li><span style='color:#4095b5'>Keep only a subset of the columns for now: <span style=\"font-family:monospace\">Date</span>, <span style=\"font-family:monospace\">WetBulb</span>, <span style=\"font-family:monospace\">Sunrise</span>, <span style=\"font-family:monospace\">Sunset</span>, <span style=\"font-family:monospace\">PrecipTotal</span>.</span></li>\n",
    "    <li><span style='color:#4095b5'>For the places where <span style=\"font-family:monospace\">WetBulb</span> is 'M', use the value from the other station.</span></li>\n",
    "    <li><span style='color:#4095b5'>Get rid of Station 2, then drop <span style=\"font-family:monospace\">Station</span> column since all are Station 1.</span></li>\n",
    "    <li><span style='color:#4095b5'>Replace <span style=\"font-family:monospace\">Trace</span> with 0.</span></li>\n",
    "    <li><span style='color:#4095b5'>Change type of <span style=\"font-family:monospace\">WetBulb</span> and <span style=\"font-family:monospace\">PrecipTotal</span>.</span></li>\n",
    "    <li><span style='color:#4095b5'>Change <span style=\"font-family:monospace\">Sunrise</span> and <span style=\"font-family:monospace\">Sunset</span> to a datetime object - clean the 1860(?) sunset.</span></li>\n",
    "    <li><span style='color:#4095b5'>Change <span style=\"font-family:monospace\">Date</span> to datetime and add <span style=\"font-family:monospace\">Week</span> and <span style=\"font-family:monospace\">Year</span>.</span></li>\n",
    "</ul>\n",
    "\n",
    "<span style=\"font-family:monospace\">"
   ]
  },
  {
   "cell_type": "code",
   "execution_count": 25,
   "metadata": {},
   "outputs": [
    {
     "data": {
      "text/html": [
       "<div>\n",
       "<style scoped>\n",
       "    .dataframe tbody tr th:only-of-type {\n",
       "        vertical-align: middle;\n",
       "    }\n",
       "\n",
       "    .dataframe tbody tr th {\n",
       "        vertical-align: top;\n",
       "    }\n",
       "\n",
       "    .dataframe thead th {\n",
       "        text-align: right;\n",
       "    }\n",
       "</style>\n",
       "<table border=\"1\" class=\"dataframe\">\n",
       "  <thead>\n",
       "    <tr style=\"text-align: right;\">\n",
       "      <th></th>\n",
       "      <th>index</th>\n",
       "      <th>Date</th>\n",
       "      <th>WetBulb</th>\n",
       "      <th>Sunrise</th>\n",
       "      <th>Sunset</th>\n",
       "      <th>PrecipTotal</th>\n",
       "      <th>Week</th>\n",
       "      <th>Year</th>\n",
       "    </tr>\n",
       "  </thead>\n",
       "  <tbody>\n",
       "    <tr>\n",
       "      <th>0</th>\n",
       "      <td>0</td>\n",
       "      <td>2007-05-01</td>\n",
       "      <td>56</td>\n",
       "      <td>2007-05-01 04:48:00</td>\n",
       "      <td>2007-05-01 18:49:00</td>\n",
       "      <td>0.0</td>\n",
       "      <td>18</td>\n",
       "      <td>2007</td>\n",
       "    </tr>\n",
       "    <tr>\n",
       "      <th>1</th>\n",
       "      <td>2</td>\n",
       "      <td>2007-05-02</td>\n",
       "      <td>47</td>\n",
       "      <td>2007-05-02 04:47:00</td>\n",
       "      <td>2007-05-02 18:50:00</td>\n",
       "      <td>0.0</td>\n",
       "      <td>18</td>\n",
       "      <td>2007</td>\n",
       "    </tr>\n",
       "    <tr>\n",
       "      <th>2</th>\n",
       "      <td>4</td>\n",
       "      <td>2007-05-03</td>\n",
       "      <td>48</td>\n",
       "      <td>2007-05-03 04:46:00</td>\n",
       "      <td>2007-05-03 18:51:00</td>\n",
       "      <td>0.0</td>\n",
       "      <td>18</td>\n",
       "      <td>2007</td>\n",
       "    </tr>\n",
       "    <tr>\n",
       "      <th>3</th>\n",
       "      <td>6</td>\n",
       "      <td>2007-05-04</td>\n",
       "      <td>50</td>\n",
       "      <td>2007-05-04 04:44:00</td>\n",
       "      <td>2007-05-04 18:52:00</td>\n",
       "      <td>0.0</td>\n",
       "      <td>18</td>\n",
       "      <td>2007</td>\n",
       "    </tr>\n",
       "    <tr>\n",
       "      <th>4</th>\n",
       "      <td>8</td>\n",
       "      <td>2007-05-05</td>\n",
       "      <td>49</td>\n",
       "      <td>2007-05-05 04:43:00</td>\n",
       "      <td>2007-05-05 18:53:00</td>\n",
       "      <td>0.0</td>\n",
       "      <td>18</td>\n",
       "      <td>2007</td>\n",
       "    </tr>\n",
       "  </tbody>\n",
       "</table>\n",
       "</div>"
      ],
      "text/plain": [
       "   index       Date  WetBulb             Sunrise              Sunset  \\\n",
       "0      0 2007-05-01       56 2007-05-01 04:48:00 2007-05-01 18:49:00   \n",
       "1      2 2007-05-02       47 2007-05-02 04:47:00 2007-05-02 18:50:00   \n",
       "2      4 2007-05-03       48 2007-05-03 04:46:00 2007-05-03 18:51:00   \n",
       "3      6 2007-05-04       50 2007-05-04 04:44:00 2007-05-04 18:52:00   \n",
       "4      8 2007-05-05       49 2007-05-05 04:43:00 2007-05-05 18:53:00   \n",
       "\n",
       "   PrecipTotal  Week  Year  \n",
       "0          0.0    18  2007  \n",
       "1          0.0    18  2007  \n",
       "2          0.0    18  2007  \n",
       "3          0.0    18  2007  \n",
       "4          0.0    18  2007  "
      ]
     },
     "execution_count": 25,
     "metadata": {},
     "output_type": "execute_result"
    }
   ],
   "source": [
    "# Keep only these\n",
    "cols_keep = ['Station', 'Date', 'WetBulb', 'Sunrise', 'Sunset', 'PrecipTotal']\n",
    "df_weather = df_weather[cols_keep].copy()\n",
    "\n",
    "# Clean the data\n",
    "# Replace 'M' with other station's WetBulb\n",
    "# This is very messy\n",
    "missing = df_weather[df_weather['WetBulb'] == 'M'].index\n",
    "for i in missing:\n",
    "    df_weather.loc[i,'WetBulb'] = df_weather.loc[i+1,'WetBulb']\n",
    "if len(df_weather[df_weather['WetBulb'] == 'M'].index) > 0:\n",
    "    print(\"More Wetbulb cleaning to do!!!\")\n",
    "\n",
    "# Get rid of Station 2, then drop Station column since all are Station 1\n",
    "df_weather = df_weather[df_weather['Station'] == 1].copy()\n",
    "df_weather.reset_index(inplace=True)\n",
    "df_weather.drop(columns='Station', inplace=True)\n",
    "\n",
    "# Replace \"Trace\" with 0\n",
    "df_weather['PrecipTotal'].replace(to_replace='  T',value = '0.0', inplace=True)\n",
    "\n",
    "# Change type\n",
    "df_weather['WetBulb'] = df_weather['WetBulb'].astype(int)\n",
    "df_weather['PrecipTotal'] = df_weather['PrecipTotal'].astype(float)\n",
    "\n",
    "# Really? Could do more generalized cleaning for these, but not enough time\n",
    "df_weather['Sunset'].replace(to_replace='1860',value = '1900', inplace=True)\n",
    "df_weather['Sunset'].replace(to_replace='1760',value = '1900', inplace=True)\n",
    "df_weather['Sunset'].replace(to_replace='1660',value = '1900', inplace=True)\n",
    "\n",
    "# Change Sunrise and Sunset to a datetime object\n",
    "sunrise = df_weather['Date'] + \" \" + df_weather[\"Sunrise\"]\n",
    "df_weather['Sunrise'] = pd.to_datetime(sunrise, format=\"%Y-%m-%d %H%M\")\n",
    "sunset = df_weather['Date'] + \" \" + df_weather[\"Sunset\"]\n",
    "df_weather['Sunset'] = pd.to_datetime(sunset, format=\"%Y-%m-%d %H%M\")\n",
    "\n",
    "# Change Date to datetime and add Week and Year\n",
    "df_weather['Date'] = pd.to_datetime(df_weather['Date'])\n",
    "df_weather['Week'] = (df_weather['Date'].dt.strftime('%W')).astype(int)\n",
    "df_weather['Year'] = (df_weather['Date'].dt.strftime('%Y')).astype(int)\n",
    "\n",
    "df_weather.head()"
   ]
  },
  {
   "cell_type": "markdown",
   "metadata": {},
   "source": [
    "<hr>\n",
    "<a name=\"step3\"></a>\n",
    "## <span style='color:#37535e'>Exploratory data analysis (EDA)</span>\n",
    " * <span style=\"color:#3b748a\">How do we model traps NOT in training data? (Cluster?)</span>\n",
    " * <span style=\"color:#3b748a\">We need to engineer features based on spray and weather to add to df_train and df_kaggle</span>\n",
    " * <span style='color:#3b748a'>How many \"categorical\" features remain?</span>\n",
    " * <span style=\"color:#3b748a\">Make dummies for all categorical data</span>\n",
    " * <span style=\"color:#3b748a\">Which features should we drop?</span>\n",
    " * <span style=\"color:#3b748a\">Are there any interesting linear relationships?</span>\n",
    " \n",
    " \n",
    "### <span style='color:#3b748a'>Spray data</span>\n",
    "<ul>\n",
    "    <li><span style='color:#4095b5'>How long has it been since we have sprayed?</span></li>\n",
    "    <li><span style='color:#4095b5'>Add a column to train/kaggle data for \"Days since sprayed\"?</span></li>\n",
    "    <li><span style='color:#4095b5'>Are there any mosquitos in traps \"near\" where we spray those dates?</span></li>\n",
    "</ul>\n",
    "\n",
    "#### <span style='color:#4095b5'>Create a dataframe for traps.</span>"
   ]
  },
  {
   "cell_type": "code",
   "execution_count": 26,
   "metadata": {},
   "outputs": [
    {
     "name": "stdout",
     "output_type": "stream",
     "text": [
      "There are 151 traps.\n"
     ]
    }
   ],
   "source": [
    "# What are all the traps?\n",
    "df_traps_train = df_train[['Trap', 'Latitude','Longitude']].copy()\n",
    "df_traps_train.drop_duplicates(inplace=True)\n",
    "\n",
    "df_traps_kaggle = df_kaggle[['Trap', 'Latitude','Longitude']].copy()\n",
    "df_traps_kaggle.drop_duplicates(inplace=True)\n",
    "\n",
    "# Merge the dataframes and set the index to be the traps\n",
    "df_traps = pd.concat([df_traps_train,df_traps_kaggle])\n",
    "df_traps.drop_duplicates(inplace=True)\n",
    "df_traps.set_index(['Trap'], inplace=True)\n",
    "\n",
    "print(\"There are {} traps.\".format(df_traps.shape[0]))"
   ]
  },
  {
   "cell_type": "markdown",
   "metadata": {},
   "source": [
    "#### <span style='color:#4095b5'>Determine dates that area near each trap was sprayed.</span>"
   ]
  },
  {
   "cell_type": "code",
   "execution_count": 27,
   "metadata": {
    "scrolled": true
   },
   "outputs": [],
   "source": [
    "epsilon = .01\n",
    "\n",
    "# Create a set of spray dates for each trap based on lat/log with epsilon\n",
    "traps = list(set(df_traps.index))\n",
    "traps.sort()\n",
    "\n",
    "spray_dates = []\n",
    "for t in traps:\n",
    "    # This area near trap could be sprayed from this \"radius\"\n",
    "    # Needs much improvement\n",
    "    min_lat = df_traps.loc[t,'Latitude'] - epsilon\n",
    "    max_lat = df_traps.loc[t,'Latitude'] + epsilon\n",
    "    min_lon = df_traps.loc[t,'Longitude'] - epsilon\n",
    "    max_lon = df_traps.loc[t,'Longitude'] + epsilon\n",
    "\n",
    "    df_temp = df_spray[df_spray['Latitude'] < max_lat]\n",
    "    df_temp = df_temp[df_temp['Latitude'] > min_lat]\n",
    "    df_temp = df_temp[df_temp['Longitude'] < max_lon]\n",
    "    df_temp = df_temp[df_temp['Longitude'] > min_lon]\n",
    "\n",
    "    spray_dates.append(set(df_temp['Date']))\n",
    "\n",
    "df_traps['SprayDates'] = spray_dates"
   ]
  },
  {
   "cell_type": "markdown",
   "metadata": {},
   "source": [
    "#### <span style='color:#4095b5'>Add a column to training and Kaggle dataframes for \"Days since sprayed\".</span>"
   ]
  },
  {
   "cell_type": "code",
   "execution_count": 28,
   "metadata": {},
   "outputs": [],
   "source": [
    "do_since_sprayed = False\n",
    "if do_since_sprayed:    \n",
    "    df_train[\"SinceSprayed\"] = 999\n",
    "\n",
    "    for i in range(df_train.shape[0]):\n",
    "        trap = df_train.loc[i,\"Trap\"]\n",
    "        date = df_train.loc[i,\"Date\"]  \n",
    "        spray_dates = [d for d in df_traps.loc[trap,\"SprayDates\"] if d < date]\n",
    "        if spray_dates:\n",
    "            elapsed = (date - max(spray_dates)).days\n",
    "            df_train.loc[i,\"SinceSprayed\"] = elapsed\n",
    "\n",
    "    df_kaggle[\"SinceSprayed\"] = 999\n",
    "\n",
    "    for i in range(df_kaggle.shape[0]):\n",
    "        trap = df_kaggle.loc[i,\"Trap\"]\n",
    "        date = df_kaggle.loc[i,\"Date\"]  \n",
    "        spray_dates = [d for d in df_traps.loc[trap,\"SprayDates\"] if d < date]\n",
    "        if spray_dates:\n",
    "            elapsed = (date - max(spray_dates)).days\n",
    "            df_kaggle.loc[i,\"SinceSprayed\"] = elapsed\n",
    "            \n",
    "    print(\"Minimum days since trap in training set sprayed: {}.\".format(min(df_train['SinceSprayed'])))\n",
    "    print(\"Minimum days since trap in Kaggle set sprayed: {}.\".format(min(df_kaggle['SinceSprayed'])))\n",
    "\n",
    "    # I may just use a flag to not create this column, but for now, I will drop it from training and Kaggle.\n",
    "    df_train.drop(columns=['SinceSprayed'], inplace=True)\n",
    "    df_kaggle.drop(columns=['SinceSprayed'], inplace=True)"
   ]
  },
  {
   "cell_type": "markdown",
   "metadata": {},
   "source": [
    "<span style='color:#3b748a'>We spray on ten days. For each one,what are the areas that we spray that date? Which traps are near there?</spray>\n",
    "\n",
    "<ul>\n",
    "    <li><span style='color:#4095b5'>2011-08-29 : Nothing good</span></li>\n",
    "    <li><span style='color:#4095b5'>2011-09-07 : 1 set</span></li>\n",
    "    <li><span style='color:#4095b5'>2013-07-17 : 3 sets, 2 good</span></li>\n",
    "    <li><span style='color:#4095b5'>2013-07-25 : 1 set</span></li>\n",
    "    <li><span style='color:#4095b5'>2013-08-08 : 1 set</span></li>\n",
    "    <li><span style='color:#4095b5'>2013-08-15 : 2 sets</span></li>\n",
    "    <li><span style='color:#4095b5'>2013-08-16 : 2 sets, 1 good</span></li>\n",
    "    <li><span style='color:#4095b5'>2013-08-22 : 2 sets</span></li>\n",
    "    <li><span style='color:#4095b5'>2013-08-29 : 2 sets</span></li>\n",
    "    <li><span style='color:#4095b5'>2013-09-05 : 2 sets</span></li>\n",
    "</ul>"
   ]
  },
  {
   "cell_type": "code",
   "execution_count": 29,
   "metadata": {},
   "outputs": [
    {
     "name": "stdout",
     "output_type": "stream",
     "text": [
      "There are 95 spray locations on 2011-08-29 00:00:00.\n",
      "There are 1573 spray locations on 2011-09-07 00:00:00.\n",
      "There are 2202 spray locations on 2013-07-17 00:00:00.\n",
      "There are 1607 spray locations on 2013-07-25 00:00:00.\n",
      "There are 1195 spray locations on 2013-08-08 00:00:00.\n",
      "There are 2668 spray locations on 2013-08-15 00:00:00.\n",
      "There are 141 spray locations on 2013-08-16 00:00:00.\n",
      "There are 1587 spray locations on 2013-08-22 00:00:00.\n",
      "There are 2302 spray locations on 2013-08-29 00:00:00.\n",
      "There are 924 spray locations on 2013-09-05 00:00:00.\n"
     ]
    }
   ],
   "source": [
    "# Which days do we spray?\n",
    "spray_dates = list(set(df_spray['Date']))\n",
    "spray_dates.sort()\n",
    "\n",
    "epsilon = .01\n",
    "spray = dict()\n",
    "for d in spray_dates:\n",
    "    df_temp = df_spray[df_spray['Date'] == d]\n",
    "    print(\"There are {} spray locations on {}.\".format(df_temp.shape[0], d))\n",
    "    \n",
    "    # For dates that have dispersed spraying, this is a terrible metric!\n",
    "    df_loc = df_spray[df_spray['Date'] == d]\n",
    "    min_lat = min(df_loc['Latitude'])\n",
    "    max_lat = max(df_loc['Latitude'])\n",
    "    min_lon = min(df_loc['Longitude'])\n",
    "    max_lon = max(df_loc['Longitude'])\n",
    "    \n",
    "    df_temp = df_traps[df_traps['Latitude'] < max_lat + epsilon]\n",
    "    df_temp = df_temp[df_temp['Latitude'] > min_lat - epsilon]\n",
    "    df_temp = df_temp[df_temp['Longitude'] < max_lon + epsilon]\n",
    "    df_temp = df_temp[df_temp['Longitude'] > min_lon - epsilon]\n",
    "    \n",
    "    traps = list(set(df_temp.index))\n",
    "    if len(traps) > 0:\n",
    "        spray[d] = traps\n"
   ]
  },
  {
   "cell_type": "code",
   "execution_count": 30,
   "metadata": {},
   "outputs": [
    {
     "data": {
      "image/png": "[encoded data removed]",
      "text/plain": [
       "<Figure size 432x288 with 1 Axes>"
      ]
     },
     "metadata": {},
     "output_type": "display_data"
    },
    {
     "data": {
      "image/png": "[encoded data removed]",
      "text/plain": [
       "<Figure size 432x288 with 1 Axes>"
      ]
     },
     "metadata": {},
     "output_type": "display_data"
    },
    {
     "data": {
      "image/png": "[encoded data removed]",
      "text/plain": [
       "<Figure size 432x288 with 1 Axes>"
      ]
     },
     "metadata": {},
     "output_type": "display_data"
    },
    {
     "data": {
      "image/png": "[encoded data removed]",
      "text/plain": [
       "<Figure size 432x288 with 1 Axes>"
      ]
     },
     "metadata": {},
     "output_type": "display_data"
    },
    {
     "data": {
      "image/png": "[encoded data removed]",
      "text/plain": [
       "<Figure size 432x288 with 1 Axes>"
      ]
     },
     "metadata": {},
     "output_type": "display_data"
    },
    {
     "data": {
      "image/png": "[encoded data removed]",
      "text/plain": [
       "<Figure size 432x288 with 1 Axes>"
      ]
     },
     "metadata": {},
     "output_type": "display_data"
    },
    {
     "data": {
      "image/png": "[encoded data removed]",
      "text/plain": [
       "<Figure size 432x288 with 1 Axes>"
      ]
     },
     "metadata": {},
     "output_type": "display_data"
    },
    {
     "data": {
      "image/png": "[encoded data removed]",
      "text/plain": [
       "<Figure size 432x288 with 1 Axes>"
      ]
     },
     "metadata": {},
     "output_type": "display_data"
    },
    {
     "data": {
      "image/png": "[encoded data removed]",
      "text/plain": [
       "<Figure size 432x288 with 1 Axes>"
      ]
     },
     "metadata": {},
     "output_type": "display_data"
    }
   ],
   "source": [
    "# Drop columns to create a DataFrame from the full training set\n",
    "df_train_small = df_train.copy()\n",
    "df_train_small[y_count_label] = y_count\n",
    "df_train_small[y_wnv_label] = y_wnv\n",
    "df_train_small.drop(columns=['Special','Latitude','Longitude','Week'], inplace=True)\n",
    "\n",
    "\n",
    "for date,traps in spray.items():\n",
    "    min_date = date - timedelta(days=100)\n",
    "    max_date = date + timedelta(days=100)\n",
    "    df_train_area = df_train_small[df_train_small[\"Trap\"].isin(traps)].copy()\n",
    "    df_train_area.drop(columns='Trap',inplace=True)\n",
    "    df_train_area = df_train_area[df_train_area['Date'] >= min_date].copy()\n",
    "    df_train_area = df_train_area[df_train_area['Date'] <= max_date].copy()\n",
    "    df_train_area = df_train_area.groupby(['Date'], as_index=False).sum().reindex()\n",
    "    df_train_area['WnvPresent'] = (df_train_area['WnvPresent'] > 0).astype(int)\n",
    "    dates = list(df_train_area.loc[(df_train_area['WnvPresent'] > 0),\"Date\"])\n",
    "    \n",
    "    plt.figure()\n",
    "    plt.plot(figsize=(10, 20))\n",
    "    ax = plt.gca()\n",
    "    ax.set_title(str(date))\n",
    "    df_train_area.plot(x='Date', y='NumMosquitos', c=colors[0], marker='o', label = \"Number of mosquitos\", ax=ax);\n",
    "    ax.axvline(x=date, c='r', label=\"Spray date\")\n",
    "    label = True\n",
    "    for w in dates:\n",
    "        if label:\n",
    "            ax.axvline(x=w, c=colors[5], linestyle=\"dashed\", label=\"WNV Present\")\n",
    "            label = False\n",
    "        ax.axvline(x=w, c=colors[5], linestyle=\"dashed\")\n",
    "    ax.set_xlabel('')    \n",
    "    ax.set_ylabel('')\n",
    "    ax.legend(); \n"
   ]
  },
  {
   "cell_type": "markdown",
   "metadata": {},
   "source": [
    " ### <span style='color:#3b748a'>Function to make dummies</span>"
   ]
  },
  {
   "cell_type": "code",
   "execution_count": 31,
   "metadata": {},
   "outputs": [],
   "source": [
    "# Let's make dummies for the categorical data\n",
    "def make_dummies(train, test, cols):\n",
    "\n",
    "    train = train[X_cols].copy()\n",
    "    test = test[X_cols].copy()\n",
    "    \n",
    "    train = pd.get_dummies(train)\n",
    "    test = pd.get_dummies(test)\n",
    "\n",
    "    # Get dummies could leave us with mismatched columns\n",
    "    # Make sure we have mathcing columns in the train and kaggle DataFrames\n",
    "\n",
    "    cols_train = train.columns\n",
    "    cols_test = test.columns\n",
    "\n",
    "    for c in cols_train:\n",
    "        if c not in cols_test:\n",
    "            test[c] = 0\n",
    "\n",
    "    for c in cols_test:\n",
    "        if c not in cols_train:\n",
    "            train[c] = 0\n",
    "\n",
    "    columns = sorted(train.columns)\n",
    "    train = train[columns]\n",
    "    test = test[columns]\n",
    "\n",
    "    if train.shape[1] != test.shape[1]:\n",
    "        print(\"Train and Test don't have same # columns: {} {}\".format(train.shape[1], test.shape[1]))\n",
    "\n",
    "    # Having made dummies, we now have lots and lots of columns\n",
    "    print(\"There are {} columns and {} categorial columns.\"\n",
    "          .format(train.shape[1],\n",
    "                  train.select_dtypes([np.object]).shape[1]))\n",
    "    \n",
    "    return [train, test]"
   ]
  },
  {
   "cell_type": "markdown",
   "metadata": {},
   "source": [
    " ### <span style='color:#3b748a'>New features</span>\n",
    " \n",
    "<ol>\n",
    "    <li><span style='color:#4095b5'>Since there are traps in the test set but not in the train set, we need to make some inferences. We chose to start by clustering the traps.</span>\n",
    "    <li><span style='color:#4095b5'>Let's add a column of \"Days since emptied\" to indicate how lon it has been since th trap was emptied.</span>\n",
    "</ol>"
   ]
  },
  {
   "cell_type": "markdown",
   "metadata": {},
   "source": [
    "### <span style='color:#3b748a'>Cluster the traps</span>\n",
    "<ul>\n",
    "    <li><span style='color:#4095b5'>Traps in train (orange).</span>\n",
    "    <li><span style='color:#4095b5'>Traps in train with West Nile present (blue).</span>\n",
    "    <li><span style='color:#4095b5'>Traps in Kaggle test (purple).</span>\n",
    "</ul>\n",
    "<img src=\"../images/trap-map.jpg\" alt=\"traps\" alt=\"Trap locations\" width=400/>\n",
    "<center><span style='color:#4095b5'>Map of traps and West Nile</span></center>"
   ]
  },
  {
   "cell_type": "code",
   "execution_count": 32,
   "metadata": {},
   "outputs": [],
   "source": [
    "do_clusters = False\n",
    "\n",
    "if do_clusters:\n",
    "    # Combine train and test traps\n",
    "    traps = df_train[['Latitude', 'Longitude']].copy()\n",
    "    train_rows = traps.shape[0]\n",
    "    traps = traps.append(df_kaggle[['Latitude', 'Longitude']])\n",
    "\n",
    "    # Call k-means to cluster the traps\n",
    "    kmeans = KMeans(n_clusters=50, random_state=1929)\n",
    "    model = kmeans.fit(traps)\n",
    "    centroids = pd.DataFrame(model.cluster_centers_, columns = ['x1', 'x2'])\n",
    "\n",
    "    # Plot the traps and centroids\n",
    "\n",
    "    ax = traps.plot(    \n",
    "        kind=\"scatter\", \n",
    "        y='Latitude', x='Longitude',\n",
    "        figsize=(10,8),\n",
    "        c = colors[3]\n",
    "    )\n",
    "\n",
    "    centroids.plot(\n",
    "        kind=\"scatter\", \n",
    "        y=\"x1\", x=\"x2\", \n",
    "        marker=\"*\", s=550,\n",
    "        color = colors[1], \n",
    "        ax=ax\n",
    "    );\n",
    "\n",
    "    # Add the cluster information to each row\n",
    "    traps['Cluster'] = kmeans.labels_\n",
    "    df_train['Cluster'] = (traps['Cluster'][0:train_rows]).astype(object)\n",
    "    df_kaggle['Cluster'] = (traps['Cluster'][train_rows:]).astype(object)"
   ]
  },
  {
   "cell_type": "markdown",
   "metadata": {},
   "source": [
    "<img src=\"../images/clusters.jpg\" alt=\"clusters\" alt=\"Clusters\" width=500/>\n",
    "<center><span style='color:#4095b5'>Clusters calculated with KMeans</span></center>"
   ]
  },
  {
   "cell_type": "markdown",
   "metadata": {},
   "source": [
    "### <span style='color:#3b748a'>Days since last emptied</span>\n",
    "\n",
    "<ul>\n",
    "    <li><span style='color:#4095b5'>Since there are traps in the test set but not in the train set, we need to make some inferences. We chose to start by clustering the traps.</span></li>\n",
    "    <li><span style='color:#4095b5'>Set the maximum \"Since emptied\" to be 365.</span></li>\n",
    "    <li><span style='color:#4095b5'>There must be a better way to slice the DataFrames....</span></li>\n",
    "    <li><span style='color:#4095b5'>Doesn't seem to help right now, but keeping it in case we create something else that makes it so this helps.</span></li>\n",
    "        \n",
    "</ul>"
   ]
  },
  {
   "cell_type": "code",
   "execution_count": 33,
   "metadata": {},
   "outputs": [],
   "source": [
    "# For each trap, calculate days since it was emptied\n",
    "# There must be a more elegant way to do this using slicing, but I couldn't figure it out quickly.\n",
    "\n",
    "do_days_since_empty = False\n",
    "if do_days_since_empty:\n",
    "    df_traps = pd.DataFrame(list(set(df_train['Trap']) | set(df_kaggle['Trap'])), columns=['Trap'])\n",
    "    df_traps\n",
    "\n",
    "    traps = list(df_traps['Trap'])\n",
    "    dates = []\n",
    "    for t in traps:\n",
    "        dates_train = set(df_train.loc[df_train['Trap'] == t, 'Date'])\n",
    "        dates_kaggle = set(df_kaggle.loc[df_kaggle['Trap'] == t, 'Date'])\n",
    "        dates.append(dates_train | dates_kaggle)\n",
    "\n",
    "    df_traps['Dates'] = dates\n",
    "    df_traps.set_index(['Trap'], inplace=True)\n",
    "\n",
    "    # Now for each train and kaggle record, add a column of last day checked\n",
    "    emptied = []\n",
    "    for i in range(df_train.shape[0]):\n",
    "        trap = df_train.loc[i,\"Trap\"]\n",
    "        date = df_train.loc[i,\"Date\"]   \n",
    "        dates = [i for i in set(df_traps.loc[trap][\"Dates\"]) if i < date]\n",
    "        if len(dates) > 0:\n",
    "            emptied_i = min((date - max(dates)).days,365)\n",
    "        else:\n",
    "            emptied_i = 365\n",
    "        emptied.append(emptied_i)\n",
    "\n",
    "    df_train[\"Emptied\"] = emptied\n",
    "\n",
    "    emptied = []\n",
    "    for i in range(df_kaggle.shape[0]):\n",
    "        trap = df_kaggle.loc[i,\"Trap\"]\n",
    "        date = df_kaggle.loc[i,\"Date\"]   \n",
    "        dates = [i for i in set(df_traps.loc[trap][\"Dates\"]) if i < date]\n",
    "        if len(dates) > 0:\n",
    "            emptied_i = min((date - max(dates)).days,365)\n",
    "        else:\n",
    "            emptied_i = 365\n",
    "        emptied.append(emptied_i)\n",
    "\n",
    "    df_kaggle[\"Emptied\"] = emptied\n"
   ]
  },
  {
   "cell_type": "markdown",
   "metadata": {},
   "source": [
    "<hr>\n",
    "<a name=\"step4\"></a>\n",
    "## <span style='color:#37535e'>Model the data</span>\n",
    " <span style='color:#3b748a'>For each record in the test set, you should predict a real-valued probability that WNV is present.</span>\n",
    "\n",
    "<ul>\n",
    "    <li><span style='color:#4095b5'>First, we have to predict HOW MANY mosquitoes of each species will be in a trap on a given date.</span></li>\n",
    "    <li><span style='color:#4095b5'>Then we have to predict the probablity that there will be West Nile virus present based on those counts.</span></li>\n",
    "</ul> \n",
    " \n",
    "<span style='color:#3b748a'>For each step we tried a Grid Search on a Pipeline.</span>\n",
    "\n",
    "### <span style='color:#3b748a'>The MASSIVE Pipeline</span>\n",
    "<ul>\n",
    "    <li><span style='color:#4095b5'>The Pipeline function takes a set of features and a model and runs grid search over their parameters on the train/test data for the specified model.</span></li>\n",
    "    <li><span style='color:#4095b5'>Adjustment of the parameter ranges is not automated at this time. Each time it runs, we check to see if a parameter bound has been hit and adjust the value ranges.</span></li>\n",
    "    <li><span style='color:#4095b5'>The function returns information about the best model, but not the model itself. Perhaps to be included in the future.</span></li>\n",
    "</ul>"
   ]
  },
  {
   "cell_type": "code",
   "execution_count": 34,
   "metadata": {},
   "outputs": [],
   "source": [
    "def run_pipline(items, X_train, X_test, y_train, y_test):\n",
    "\n",
    "    # Add a pipe, add a param !\n",
    "    pipe_items = {\n",
    "        'ss' : StandardScaler(),\n",
    "        'pf' : PolynomialFeatures(),\n",
    "\n",
    "        'lr' : LinearRegression(),\n",
    "        'rd' : Ridge(),\n",
    "        'la' : Lasso(),\n",
    "        'en' : ElasticNet(), \n",
    "        'gr' : GaussianProcessRegressor(),\n",
    "        'rf' : RandomForestRegressor(),\n",
    "        'gb' : GradientBoostingRegressor(),\n",
    "        'ab' : AdaBoostRegressor(),\n",
    "        'svm' : SVR(),\n",
    "        'knn' : KNeighborsRegressor(),\n",
    "        \n",
    "        'lgr' : LogisticRegression(),\n",
    "        'rfc' : RandomForestClassifier(),\n",
    "        'gbc' : GradientBoostingClassifier(),\n",
    "        'abc' : AdaBoostClassifier(),\n",
    "        'svc' : SVC(),\n",
    "        'knnc' : KNeighborsClassifier()\n",
    "\n",
    "    }\n",
    "\n",
    "    # Include at least one param for each pipe item\n",
    "    param_items = {\n",
    "        'ss' : {\n",
    "            'ss__with_mean' : [False]\n",
    "        },\n",
    "        'pf' : {\n",
    "            'pf__degree' : [2]\n",
    "        },\n",
    "        'lr' : {\n",
    "            'lr__n_jobs' : [1]\n",
    "        },\n",
    "        'rd' : {\n",
    "             'rd__alpha' : [55.0, 60.0, 65.0]\n",
    "        },\n",
    "        'la' : {\n",
    "             'la__alpha' : [0.005, 0.0075, 0.01], \n",
    "             'la__max_iter' : [100000]\n",
    "        },\n",
    "        'en' : {\n",
    "             'en__alpha' : [0.01, 0.02, 0.4], \n",
    "             'en__l1_ratio' : [.8, 1, 1.2]\n",
    "        },\n",
    "        'gr' : {\n",
    "            'gr__alpha' : [1, 0.1]\n",
    "        },\n",
    "        'rf' : {\n",
    "            'rf__n_estimators' : [7, 8, 9]\n",
    "        },\n",
    "        'gb' : {\n",
    "            'gb__n_estimators' : [325, 330, 335]\n",
    "        },\n",
    "        'ab' : {\n",
    "            'ab__n_estimators' : [65, 70, 75]\n",
    "        },\n",
    "        'svm' : {\n",
    "            'svm__kernel' : ['linear','poly']\n",
    "        },\n",
    "        'knn' : {\n",
    "            'knn__n_neighbors' : [3, 4, 5, 6]\n",
    "        },\n",
    "        'lgr' : {\n",
    "            'lgr__C' : [.04, .05, .06],\n",
    "            'lgr__penalty' : ['l1','l2']\n",
    "        },\n",
    "        'rfc' : {\n",
    "            'rfc__n_estimators' : [7, 8, 9, 10]\n",
    "        },\n",
    "        'gbc' : {\n",
    "            'gbc__n_estimators' : [35, 40, 45]\n",
    "        },\n",
    "        'abc' : {\n",
    "            'abc__n_estimators' : [80, 90, 100]\n",
    "        },\n",
    "        'svc' : {\n",
    "            'svc__kernel' : ['linear','poly']\n",
    "        },\n",
    "        'knnc' : {\n",
    "            'knnc__n_neighbors' : [35, 40, 45, 50]\n",
    "        }\n",
    "\n",
    "    }\n",
    "\n",
    "    # Create the parameters for GridSearch\n",
    "    params = dict()\n",
    "    for i in items:\n",
    "        for p in param_items[i]:\n",
    "            params[p] = param_items[i][p]\n",
    "\n",
    "    # Create the pipeline\n",
    "    pipe_list = [(i,pipe_items[i]) for i in items]\n",
    "    print(\"Using:\")\n",
    "    for p in pipe_list:\n",
    "        print(\"\\t\" + str(p[1]).split('(')[0])\n",
    "    pipe = Pipeline(pipe_list)\n",
    "\n",
    "    # Grid search\n",
    "    gs = GridSearchCV(pipe, param_grid=params, verbose=1)\n",
    "    gs.fit(X_train, y_train)\n",
    "\n",
    "    # Print the results\n",
    "    train_params = gs.best_params_\n",
    "    train_score = gs.best_score_\n",
    "    y_test_hat = gs.predict(X_test)\n",
    "    test_score = gs.score(X_test, y_test)\n",
    "\n",
    "    for k in train_params:\n",
    "        print(\"{}: {}\".format(k,train_params[k]))\n",
    "\n",
    "    print(\"Train score: {} Test score {}\".format(train_score, test_score))\n",
    "    print(\"\")\n",
    "\n",
    "    return train_score, test_score, y_test_hat, train_params"
   ]
  },
  {
   "cell_type": "markdown",
   "metadata": {},
   "source": [
    "### <span style='color:#3b748a'>Prepare for REGRESSION to predict <span style=\"font-family:monospace\">NumMosquitos</span></span>\n",
    "<ul>\n",
    "    <li><span style='color:#4095b5'>Use a subest of columns: The columns are <span style=\"font-family:monospace\">['Week', 'Species', 'Latitude', 'Longitude', 'Special']</span></span></li>\n",
    "    <li><span style='color:#4095b5'>Make dummies on the columns (only <span style=\"font-family:monospace\">'Species'</span> at the moment).</span></li>\n",
    "    <li><span style='color:#4095b5'>Do a train/test split on the training data.</span></li>\n",
    "</ul>"
   ]
  },
  {
   "cell_type": "code",
   "execution_count": 35,
   "metadata": {},
   "outputs": [
    {
     "name": "stdout",
     "output_type": "stream",
     "text": [
      "The columns are ['Species', 'Latitude', 'Longitude', 'Week', 'Special']\n",
      "There are 12 columns and 0 categorial columns.\n"
     ]
    }
   ],
   "source": [
    "# Let's start with a few features\n",
    "X_cols = list(df_train.columns)\n",
    "X_cols.remove('Date')\n",
    "X_cols.remove('Year')\n",
    "X_cols.remove('Trap')\n",
    "\n",
    "if do_clusters:\n",
    "    X_cols.remove('Latitude')\n",
    "    X_cols.remove('Longitude')\n",
    "    \n",
    "print(\"The columns are {}\".format(X_cols))\n",
    "[X_cols_train, X_cols_kaggle] = make_dummies(df_train, df_kaggle, X_cols)\n",
    "\n",
    "# Test/train split of \"full training\" data\n",
    "X_train, X_test, y_train, y_test = train_test_split(X_cols_train, y_count, random_state=42)"
   ]
  },
  {
   "cell_type": "markdown",
   "metadata": {},
   "source": [
    "### <span style='color:#3b748a'>Call the pipeline to use REGRESSION to predict <span style=\"font-family:monospace\">NumMosquitos</span></span>\n",
    "<ul>\n",
    "    <li><span style='color:#4095b5'>Choose a regression model.</span></span></li>\n",
    "    <li><span style='color:#4095b5'>Use <span style=\"font-family:monospace\">StandardScaler</span>.</span></li>\n",
    "    <li><span style='color:#4095b5'>Update params values based on grid search and repeat (not automated).</span>       <li><span style='color:#4095b5'>Fudge the predicted data -- <span style=\"font-family:monospace\">NumMosquitos</span> is non-negative and if duplicate rows in Kaggle test data, all but last row should have 50 mosquitos.</span></li>\n",
    "</ul>"
   ]
  },
  {
   "cell_type": "code",
   "execution_count": 36,
   "metadata": {},
   "outputs": [
    {
     "name": "stdout",
     "output_type": "stream",
     "text": [
      "Using:\n",
      "\tStandardScaler\n",
      "\tLinearRegression\n",
      "Fitting 3 folds for each of 1 candidates, totalling 3 fits\n",
      "lr__n_jobs: 1\n",
      "ss__with_mean: False\n",
      "Train score: 0.10041239181185832 Test score 0.09292821993832945\n",
      "\n",
      "Using:\n",
      "\tStandardScaler\n",
      "\tRidge\n",
      "Fitting 3 folds for each of 3 candidates, totalling 9 fits\n"
     ]
    },
    {
     "name": "stderr",
     "output_type": "stream",
     "text": [
      "[Parallel(n_jobs=1)]: Done   3 out of   3 | elapsed:    0.1s finished\n",
      "[Parallel(n_jobs=1)]: Done   9 out of   9 | elapsed:    0.1s finished\n"
     ]
    },
    {
     "name": "stdout",
     "output_type": "stream",
     "text": [
      "rd__alpha: 55.0\n",
      "ss__with_mean: False\n",
      "Train score: 0.10039286865671132 Test score 0.0931086170418538\n",
      "\n",
      "Using:\n",
      "\tStandardScaler\n",
      "\tLasso\n",
      "Fitting 3 folds for each of 3 candidates, totalling 9 fits\n"
     ]
    },
    {
     "name": "stderr",
     "output_type": "stream",
     "text": [
      "[Parallel(n_jobs=1)]: Done   9 out of   9 | elapsed:    0.8s finished\n"
     ]
    },
    {
     "name": "stdout",
     "output_type": "stream",
     "text": [
      "la__alpha: 0.01\n",
      "la__max_iter: 100000\n",
      "ss__with_mean: False\n",
      "Train score: 0.10042153796804273 Test score 0.09301013144284376\n",
      "\n",
      "Using:\n",
      "\tStandardScaler\n",
      "\tElasticNet\n",
      "Fitting 3 folds for each of 9 candidates, totalling 27 fits\n"
     ]
    },
    {
     "name": "stderr",
     "output_type": "stream",
     "text": [
      "[Parallel(n_jobs=1)]: Done  27 out of  27 | elapsed:    1.1s finished\n"
     ]
    },
    {
     "name": "stdout",
     "output_type": "stream",
     "text": [
      "en__alpha: 0.02\n",
      "en__l1_ratio: 1.2\n",
      "ss__with_mean: False\n",
      "Train score: 0.10045469779241911 Test score 0.09298251413498915\n",
      "\n",
      "Using:\n",
      "\tStandardScaler\n",
      "\tRandomForestRegressor\n",
      "Fitting 3 folds for each of 3 candidates, totalling 9 fits\n"
     ]
    },
    {
     "name": "stderr",
     "output_type": "stream",
     "text": [
      "[Parallel(n_jobs=1)]: Done   9 out of   9 | elapsed:    1.4s finished\n"
     ]
    },
    {
     "name": "stdout",
     "output_type": "stream",
     "text": [
      "rf__n_estimators: 9\n",
      "ss__with_mean: False\n",
      "Train score: 0.5200257626415639 Test score 0.5870466165529606\n",
      "\n",
      "Using:\n",
      "\tStandardScaler\n",
      "\tGradientBoostingRegressor\n",
      "Fitting 3 folds for each of 3 candidates, totalling 9 fits\n"
     ]
    },
    {
     "name": "stderr",
     "output_type": "stream",
     "text": [
      "[Parallel(n_jobs=1)]: Done   9 out of   9 | elapsed:    7.3s finished\n"
     ]
    },
    {
     "name": "stdout",
     "output_type": "stream",
     "text": [
      "gb__n_estimators: 335\n",
      "ss__with_mean: False\n",
      "Train score: 0.541780741153454 Test score 0.5677847042206758\n",
      "\n",
      "Using:\n",
      "\tStandardScaler\n",
      "\tAdaBoostRegressor\n",
      "Fitting 3 folds for each of 3 candidates, totalling 9 fits\n"
     ]
    },
    {
     "name": "stderr",
     "output_type": "stream",
     "text": [
      "[Parallel(n_jobs=1)]: Done   9 out of   9 | elapsed:    0.9s finished\n"
     ]
    },
    {
     "name": "stdout",
     "output_type": "stream",
     "text": [
      "ab__n_estimators: 70\n",
      "ss__with_mean: False\n",
      "Train score: 0.29572615699681737 Test score 0.2792799333342947\n",
      "\n",
      "Using:\n",
      "\tStandardScaler\n",
      "\tKNeighborsRegressor\n",
      "Fitting 3 folds for each of 4 candidates, totalling 12 fits\n"
     ]
    },
    {
     "name": "stderr",
     "output_type": "stream",
     "text": [
      "[Parallel(n_jobs=1)]: Done  12 out of  12 | elapsed:   12.1s finished\n"
     ]
    },
    {
     "name": "stdout",
     "output_type": "stream",
     "text": [
      "knn__n_neighbors: 6\n",
      "ss__with_mean: False\n",
      "Train score: 0.4617698873756782 Test score 0.5300442996028297\n",
      "\n"
     ]
    }
   ],
   "source": [
    "# Regression models\n",
    "# 'lr' : LinearRegression(),\n",
    "# 'rd' : Ridge(),\n",
    "# 'la' : Lasso(),\n",
    "# 'en' : ElasticNet(), \n",
    "# 'gr' : GaussianProcessRegressor(),\n",
    "# 'rf' : RandomForestRegressor(),\n",
    "# 'gb' : GradientBoostingRegressor(),\n",
    "# 'ab' : AdaBoostRegressor(),\n",
    "# 'svm' : SVR(),\n",
    "# 'knn' : KNeighborsRegressor(),\n",
    "\n",
    "# TO DO: Try to fit ExtraTrees\n",
    "# TO DO: Try to fit Gamma GLM\n",
    "# model = sm.GLM(ytrain, xtrain, family=sm.families.Gamma(link = sm.genmod.families.links.identity)).fit()\n",
    "\n",
    "models = ['lr','rd','la','en','rf','gb','ab','knn'] # 'gr',svm']\n",
    "\n",
    "model_solns = {}\n",
    "for m in models:\n",
    "    pipe_items = ['ss', m]\n",
    "    [train_score, test_score, y_test_hat, best_params] = run_pipline(pipe_items,\n",
    "                                                            X_train, X_test, \n",
    "                                                            y_train, y_test)\n",
    "    model_solns[idx] = {'model': m, \n",
    "                        'train_score': train_score, 'test_score': test_score, \n",
    "                        'best_params': best_params, 'y_test_hat' : y_test_hat}"
   ]
  },
  {
   "cell_type": "markdown",
   "metadata": {},
   "source": [
    "### <span style='color:#3b748a'>Choose best REGRESSION to predict <span style=\"font-family:monospace\">NumMosquitos</span></span>\n",
    "<ul>\n",
    "    <li><span style='color:#4095b5'>The best regression model is <span style=\"font-family:monospace\">GradientBoostingRegressor</span>.</span></li>\n",
    "    <li><span style='color:#4095b5'>Using the best model, predict the <span style=\"font-family:monospace\">NumMosquitos</span>for the Kaggle test set.</span></li>\n",
    "</ul>\n",
    "\n",
    "#### <span style='color:#4095b5'>Fit the model to the training set.</span>"
   ]
  },
  {
   "cell_type": "code",
   "execution_count": 37,
   "metadata": {},
   "outputs": [
    {
     "name": "stdout",
     "output_type": "stream",
     "text": [
      "Fitting 3 folds for each of 3 candidates, totalling 9 fits\n"
     ]
    },
    {
     "name": "stderr",
     "output_type": "stream",
     "text": [
      "[Parallel(n_jobs=1)]: Done   9 out of   9 | elapsed:    8.1s finished\n"
     ]
    },
    {
     "name": "stdout",
     "output_type": "stream",
     "text": [
      "Train score: 0.5849628964570316 Test score: 0.5677847042206758\n"
     ]
    }
   ],
   "source": [
    "pipe = Pipeline([\n",
    "    ('ss', StandardScaler()),\n",
    "    ('gb', GradientBoostingRegressor())\n",
    "])\n",
    "params_grid_cv = {\n",
    "    'ss__with_mean' : [False],\n",
    "    'gb__n_estimators' : [325, 330, 335]\n",
    "}\n",
    " \n",
    "gs = GridSearchCV(pipe, param_grid=params_grid_cv, verbose=1)\n",
    "gs.fit(X_train, y_train)\n",
    "\n",
    "# Predict the sales price of the Kaggle data\n",
    "y_hat = gs.predict(X_test)\n",
    "\n",
    "print(\"Train score: {} Test score: {}\".format(gs.score(X_train,y_train),gs.score(X_test,y_test)))\n",
    "\n",
    "# Train score: 0.9837199209535019 Test score: 0.9560608932255188"
   ]
  },
  {
   "cell_type": "markdown",
   "metadata": {},
   "source": [
    "#### <span style='color:#4095b5'>Fit the model to the Kaggle set and add the predictions to the Kaggle test DataFrame.</span>"
   ]
  },
  {
   "cell_type": "code",
   "execution_count": 38,
   "metadata": {},
   "outputs": [],
   "source": [
    "# Fit full train data to predict kaggle\n",
    "# Didn't help\n",
    "# gs.fit(X_cols_train,y_count)\n",
    "\n",
    "# Now predict how many mosquitoes will be in each of the kaggle tests given this\n",
    "df_train[y_count_label] = y_count\n",
    "df_kaggle[y_count_label] = gs.predict(X_cols_kaggle)"
   ]
  },
  {
   "cell_type": "markdown",
   "metadata": {},
   "source": [
    "#### <span style='color:#4095b5'>Duplicate rows should have 50 mosquitos.</span>"
   ]
  },
  {
   "cell_type": "code",
   "execution_count": 97,
   "metadata": {},
   "outputs": [],
   "source": [
    "# 50 in all duplicates except the \"last\" duplicate\n",
    "# Replace negative values with 0\n",
    "\n",
    "# Remove the Id\n",
    "cols = list(df_kaggle.columns)\n",
    "cols.remove('Id')\n",
    "\n",
    "# Indices of duplicates for the first occurrence\n",
    "duplicate_indices = df_kaggle[df_kaggle.duplicated(cols) == True].index\n",
    "\n",
    "# There are 50 mosquitos in the \"previous\" record\n",
    "for i in duplicate_indices:\n",
    "    df_kaggle.loc[i-1,y_count_label] = 50\n"
   ]
  },
  {
   "cell_type": "markdown",
   "metadata": {},
   "source": [
    "#### <span style='color:#4095b5'>The number of mosquitos should be non-negative.</span>"
   ]
  },
  {
   "cell_type": "code",
   "execution_count": 98,
   "metadata": {},
   "outputs": [],
   "source": [
    "df_kaggle.loc[(df_kaggle[y_count_label] < 0), y_count_label] = 0"
   ]
  },
  {
   "cell_type": "markdown",
   "metadata": {},
   "source": [
    "### <span style='color:#3b748a'>Prepare for CLASSIFICATION to predict if West Nile is present given the <span style=\"font-family:monospace\">NumMosquitos</span>.</span>\n",
    "<ul>\n",
    "    <li><span style='color:#4095b5'>Use a subest of columns: The columns are <span style=\"font-family:monospace\">['Week', 'Species', 'Latitude', 'Longitude', 'Special', 'NumMosquitos']</span></span></li>\n",
    "    <li><span style='color:#4095b5'>Make dummies on the columns (only <span style=\"font-family:monospace\">'Species'</span> at the moment).</span></li>\n",
    "    <li><span style='color:#4095b5'>Do a train/test split on the training data.</span></li>\n",
    "</ul>"
   ]
  },
  {
   "cell_type": "code",
   "execution_count": 99,
   "metadata": {},
   "outputs": [
    {
     "name": "stdout",
     "output_type": "stream",
     "text": [
      "The columns are ['Species', 'Latitude', 'Longitude', 'Week', 'Special', 'NumMosquitos']\n",
      "There are 13 columns and 0 categorial columns.\n"
     ]
    }
   ],
   "source": [
    "# Let's start with a few features\n",
    "X_cols = list(df_train.columns)\n",
    "X_cols.remove('Date')\n",
    "X_cols.remove('Year')\n",
    "X_cols.remove('Trap')\n",
    "\n",
    "if do_clusters:\n",
    "    X_cols.remove('Latitude')\n",
    "    X_cols.remove('Longitude')\n",
    "\n",
    "print(\"The columns are {}\".format(X_cols))\n",
    "[X_cols_train, X_cols_kaggle] = make_dummies(df_train, df_kaggle, X_cols)\n",
    "\n",
    "# Test/train split of \"full training\" data\n",
    "X_train, X_test, y_train, y_test = train_test_split(X_cols_train, y_wnv, random_state=42)"
   ]
  },
  {
   "cell_type": "markdown",
   "metadata": {},
   "source": [
    "### <span style='color:#3b748a'>Call the pipeline to use CLASSIFICATION to predict if West Nile is present given the <span style=\"font-family:monospace\">NumMosquitos</span>.</span>\n",
    "<ul>\n",
    "    <li><span style='color:#4095b5'>Choose a classification model.</span></span></li>\n",
    "    <li><span style='color:#4095b5'>Use <span style=\"font-family:monospace\">StandardScaler</span>.</span></li>\n",
    "    <li><span style='color:#4095b5'>Update params values based on grid search and repeat (not automated).</span></li>\n",
    "</ul>"
   ]
  },
  {
   "cell_type": "code",
   "execution_count": 100,
   "metadata": {},
   "outputs": [
    {
     "name": "stdout",
     "output_type": "stream",
     "text": [
      "Using:\n",
      "\tStandardScaler\n",
      "\tLogisticRegression\n",
      "Fitting 3 folds for each of 6 candidates, totalling 18 fits\n"
     ]
    },
    {
     "name": "stderr",
     "output_type": "stream",
     "text": [
      "[Parallel(n_jobs=1)]: Done  18 out of  18 | elapsed:   16.7s finished\n"
     ]
    },
    {
     "name": "stdout",
     "output_type": "stream",
     "text": [
      "lgr__C: 0.04\n",
      "lgr__penalty: l1\n",
      "ss__with_mean: False\n",
      "Train score: 0.947074501840335 Test score 0.9489912447658927\n",
      "\n",
      "Using:\n",
      "\tStandardScaler\n",
      "\tRandomForestClassifier\n",
      "Fitting 3 folds for each of 4 candidates, totalling 12 fits\n"
     ]
    },
    {
     "name": "stderr",
     "output_type": "stream",
     "text": [
      "[Parallel(n_jobs=1)]: Done  12 out of  12 | elapsed:    0.7s finished\n"
     ]
    },
    {
     "name": "stdout",
     "output_type": "stream",
     "text": [
      "rfc__n_estimators: 8\n",
      "ss__with_mean: False\n",
      "Train score: 0.9431399923848204 Test score 0.949371907118386\n",
      "\n",
      "Using:\n",
      "\tStandardScaler\n",
      "\tGradientBoostingClassifier\n",
      "Fitting 3 folds for each of 3 candidates, totalling 9 fits\n"
     ]
    },
    {
     "name": "stderr",
     "output_type": "stream",
     "text": [
      "[Parallel(n_jobs=1)]: Done   9 out of   9 | elapsed:    1.6s finished\n"
     ]
    },
    {
     "name": "stdout",
     "output_type": "stream",
     "text": [
      "gbc__n_estimators: 40\n",
      "ss__with_mean: False\n",
      "Train score: 0.9473283411600457 Test score 0.9486105824133994\n",
      "\n",
      "Using:\n",
      "\tStandardScaler\n",
      "\tAdaBoostClassifier\n",
      "Fitting 3 folds for each of 3 candidates, totalling 9 fits\n"
     ]
    },
    {
     "name": "stderr",
     "output_type": "stream",
     "text": [
      "[Parallel(n_jobs=1)]: Done   9 out of   9 | elapsed:    4.2s finished\n"
     ]
    },
    {
     "name": "stdout",
     "output_type": "stream",
     "text": [
      "abc__n_estimators: 80\n",
      "ss__with_mean: False\n",
      "Train score: 0.9463129838812032 Test score 0.948229920060906\n",
      "\n",
      "Using:\n",
      "\tStandardScaler\n",
      "\tKNeighborsClassifier\n",
      "Fitting 3 folds for each of 4 candidates, totalling 12 fits\n"
     ]
    },
    {
     "name": "stderr",
     "output_type": "stream",
     "text": [
      "[Parallel(n_jobs=1)]: Done  12 out of  12 | elapsed:   15.9s finished\n"
     ]
    },
    {
     "name": "stdout",
     "output_type": "stream",
     "text": [
      "knnc__n_neighbors: 50\n",
      "ss__with_mean: False\n",
      "Train score: 0.947074501840335 Test score 0.9489912447658927\n",
      "\n"
     ]
    }
   ],
   "source": [
    "# Classification models\n",
    "#         'lgr' : LogisticRegression(),\n",
    "#         'rfc' : RandomForestClassifier(),\n",
    "#         'gbc' : GradientBoostingClassifier(),\n",
    "#         'abc' : AdaBoostClassifier(),\n",
    "#         'svc' : SVC(),\n",
    "#         'knnc' : KNeighborsClassifier()\n",
    "\n",
    "# Decide what to put into the pipline, grid searh, and save the \"best\" for each grid search\n",
    "models = ['lgr','rfc','gbc','abc','knnc']\n",
    "# other = ['pf','ss']\n",
    "\n",
    "# After some initial tests, these seem like the best to pursue further\n",
    "# models = ['lgr']\n",
    "\n",
    "model_solns = {}\n",
    "for m in models:\n",
    "    pipe_items = ['ss', m]\n",
    "    [train_score, test_score, y_test_hat, best_params] = run_pipline(pipe_items,\n",
    "                                                            X_train, X_test, \n",
    "                                                            y_train, y_test)\n",
    "    model_solns[idx] = {'model': m, \n",
    "                        'train_score': train_score, 'test_score': test_score, \n",
    "                        'best_params': best_params, 'y_test_hat' : y_test_hat}\n"
   ]
  },
  {
   "cell_type": "markdown",
   "metadata": {},
   "source": [
    "<hr>\n",
    "<a name=\"step5\"></a>\n",
    "## <span style='color:#37535e'>Evaluate the model</span>\n",
    "\n",
    "### <span style='color:#3b748a'>Choose best CLASSIFICATION to predict <span style=\"font-family:monospace\">NumMosquitos</span></span>\n",
    "<ul>\n",
    "    <li><span style='color:#4095b5'>The best classification model is <span style=\"font-family:monospace\">LogisticRegression</span>.</span></li>\n",
    "    <li><span style='color:#4095b5'>Using the best model, predict the probability of West Nile Virus.</span></li>\n",
    "</ul>\n",
    "\n",
    "#### <span style='color:#4095b5'>Fit the model to the training set.</span>"
   ]
  },
  {
   "cell_type": "code",
   "execution_count": 101,
   "metadata": {},
   "outputs": [
    {
     "name": "stdout",
     "output_type": "stream",
     "text": [
      "Fitting 3 folds for each of 6 candidates, totalling 18 fits\n"
     ]
    },
    {
     "name": "stderr",
     "output_type": "stream",
     "text": [
      "[Parallel(n_jobs=1)]: Done  18 out of  18 | elapsed:   12.6s finished\n"
     ]
    },
    {
     "name": "stdout",
     "output_type": "stream",
     "text": [
      "Train score: 0.947074501840335 Test score: 0.9489912447658927\n",
      "ROC AUC score: 0.7799989223557304\n"
     ]
    }
   ],
   "source": [
    "pipe = Pipeline([\n",
    "    ('ss', StandardScaler()),\n",
    "    ('lgr', LogisticRegression())\n",
    "])\n",
    "params_grid_cv = {\n",
    "    'ss__with_mean' : [False],\n",
    "    'lgr__C' : [.04, .05, .06],\n",
    "    'lgr__penalty' : ['l1','l2']\n",
    "}\n",
    "\n",
    "        \n",
    "gs = GridSearchCV(pipe, param_grid=params_grid_cv, verbose=1)\n",
    "gs.fit(X_train, y_train)\n",
    "\n",
    "# Predict the sales price of the Kaggle data\n",
    "y_test_hat = gs.predict(X_test)\n",
    "y_test_proba = gs.predict_proba(X_test)\n",
    "df_test_proba = pd.DataFrame(y_test_proba)\n",
    "y_test_proba = df_test_proba[1]\n",
    "\n",
    "print(\"Train score: {} Test score: {}\".format(gs.score(X_train,y_train),gs.score(X_test,y_test)))\n",
    "print(\"ROC AUC score: {}\".format(roc_auc_score(y_test, y_test_proba)))\n",
    "\n",
    "# Train score: 0.9468219005663939 Test score: 0.9476168003775366\n",
    "# ROC AUC score: 0.7540607192659285"
   ]
  },
  {
   "cell_type": "markdown",
   "metadata": {},
   "source": [
    "<hr>\n",
    "<a name=\"step6\"></a>\n",
    "## <span style='color:#37535e'>Answer the question</span>\n",
    "###  <span style='color:#3b748a'>Output the results to upload to Kaggle.</span>\n",
    "\n",
    "#### <span style='color:#4095b5'>Fit the model to the Kaggle set and add the predictions (probability of West NIle) to the Kaggle test DataFrame.</span>"
   ]
  },
  {
   "cell_type": "code",
   "execution_count": 102,
   "metadata": {},
   "outputs": [],
   "source": [
    "# Fit full train data to predict kaggle\n",
    "# Didn't help\n",
    "# gs.fit(X_cols_train,y_wnv)\n",
    "\n",
    "y_kaggle_proba = gs.predict_proba(X_cols_kaggle)\n",
    "y_kaggle = list(y_kaggle_proba[:,1])"
   ]
  },
  {
   "cell_type": "code",
   "execution_count": 103,
   "metadata": {},
   "outputs": [],
   "source": [
    "# Create dataframe for Kaggle submission\n",
    "# Make the ID the index\n",
    "df_kaggle['WnvPresent'] = y_kaggle\n",
    "df_kaggle.loc[(df_kaggle['Species'].isin(species_wnv) == False), 'WnvPresent'] = 0"
   ]
  },
  {
   "cell_type": "code",
   "execution_count": 104,
   "metadata": {},
   "outputs": [],
   "source": [
    "y_kaggle = df_kaggle['WnvPresent']"
   ]
  },
  {
   "cell_type": "code",
   "execution_count": 105,
   "metadata": {},
   "outputs": [],
   "source": [
    "df_kaggle.set_index(\"Id\", inplace=True)\n",
    "df_soln = pd.DataFrame(df_kaggle.index)\n",
    "df_soln['WnvPresent'] = y_kaggle\n",
    "\n",
    "# Predict no Wnv if not one of three species\n",
    "df_soln.set_index(['Id'], inplace=True)"
   ]
  },
  {
   "cell_type": "code",
   "execution_count": 106,
   "metadata": {},
   "outputs": [],
   "source": [
    "# Write predicted Kaggle solution out to a file\n",
    "now = str(datetime.now())\n",
    "f'predictions_{now}'\n",
    "df_soln.to_csv(f'../data/model_preds_{now}.csv')"
   ]
  },
  {
   "cell_type": "markdown",
   "metadata": {},
   "source": [
    "<hr>\n",
    "<a name=\"step7\"></a>\n",
    "## <span style='color:#37535e'>For reference or possible future use:</span>"
   ]
  },
  {
   "cell_type": "markdown",
   "metadata": {},
   "source": [
    "<span style='color:#3b748a'>We spray on ten days. For each one,what are the areas that we spray that date? Which traps are near there?</spray>\n",
    "\n",
    "<ul>\n",
    "    <li><span style='color:#4095b5'>2011-08-29 : Nothing good</span></li>\n",
    "    <li><span style='color:#4095b5'>2011-09-07 : 1 set</span></li>\n",
    "    <li><span style='color:#4095b5'>2013-07-17 : 3 sets, 2 good</span></li>\n",
    "    <li><span style='color:#4095b5'>2013-07-25 : 1 set</span></li>\n",
    "    <li><span style='color:#4095b5'>2013-08-08 : 1 set</span></li>\n",
    "    <li><span style='color:#4095b5'>2013-08-15 : 2 sets</span></li>\n",
    "    <li><span style='color:#4095b5'>2013-08-16 : 2 sets, 1 good</span></li>\n",
    "    <li><span style='color:#4095b5'>2013-08-22 : 2 sets</span></li>\n",
    "    <li><span style='color:#4095b5'>2013-08-29 : 2 sets</span></li>\n",
    "    <li><span style='color:#4095b5'>2013-09-05 : 2 sets</span></li>\n",
    "</ul>\n"
   ]
  },
  {
   "cell_type": "code",
   "execution_count": 52,
   "metadata": {},
   "outputs": [],
   "source": [
    "# # Which days do we spray?\n",
    "# spray_dates = list(set(df_spray['Date']))\n",
    "\n",
    "# # From the map, I know this is a useless one 2011-08-29\n",
    "# spray_dates.remove(spray_dates[0])\n",
    "# spray_dates.sort()\n",
    "\n",
    "# # which train traps are in this area?\n",
    "# df_traps = df_train[['Trap', 'Latitude','Longitude']].copy()\n",
    "# df_traps.drop_duplicates(inplace=True)\n",
    "# df_traps.reset_index(inplace=True)\n",
    "# print(\"There are {} traps in the test data.\".format(df_traps.shape[0]))\n",
    "    \n",
    "# epsilon = .01\n",
    "# for d in spray_dates:\n",
    "#     df_temp = df_spray[df_spray['Date'] == d]\n",
    "#     print(\"There are {} spray locations on {}.\".format(df_temp.shape[0], d))\n",
    "    \n",
    "#     df_loc = df_spray[df_spray['Date'] == d]\n",
    "#     min_lat = min(df_loc['Latitude'])\n",
    "#     max_lat = max(df_loc['Latitude'])\n",
    "#     min_lon = min(df_loc['Longitude'])\n",
    "#     max_lon = max(df_loc['Longitude'])\n",
    "    \n",
    "#     df_temp = df_traps[df_traps['Latitude'] < max_lat + epsilon]\n",
    "#     df_temp = df_temp[df_temp['Latitude'] > min_lat - epsilon]\n",
    "#     df_temp = df_temp[df_temp['Longitude'] < max_lon + epsilon]\n",
    "#     df_temp = df_temp[df_temp['Longitude'] > min_lon - epsilon]\n",
    "    \n",
    "#     traps = set(df_temp['Trap'])\n",
    "#     print(traps)\n",
    "#     for t in traps:\n",
    "#         [df_train[\"Trap\"] == t]\n",
    "#         # for these traps, do we check them in a week before/after we spray\n",
    "#         dates = df_train.loc[df_train['Trap'] == t][\"Date\"]\n",
    "#         print(dates)"
   ]
  },
  {
   "cell_type": "code",
   "execution_count": 53,
   "metadata": {},
   "outputs": [],
   "source": [
    "# Linear Regression can't handle datetime\n",
    "# X_cols_train['Date'] = X_cols_train['Date'].map(datetime.toordinal)\n",
    "# X_cols_kaggle['Date'] = X_cols_kaggle['Date'].map(datetime.toordinal)"
   ]
  },
  {
   "cell_type": "code",
   "execution_count": null,
   "metadata": {},
   "outputs": [],
   "source": [
    "# # Only three species have West Nile\n",
    "# # Export DataFrame to map\n",
    "# df_wnv = df_train[df_train['WnvPresent'] == 1]\n",
    "# print(\"Species with West Nile virus: {}.\".format(set(df_wnv['Species'])))\n",
    "# df_wnv.to_csv(f'../data/wnv.csv')"
   ]
  },
  {
   "cell_type": "code",
   "execution_count": null,
   "metadata": {},
   "outputs": [],
   "source": [
    "# # These are only used for creating the map and not part of the notebook flow\n",
    "\n",
    "# # Used to plot traps\n",
    "# df_traps = df_kaggle[['Trap','Latitude','Longitude']]\n",
    "# df_traps.drop_duplicates(inplace=True)\n",
    "# df_traps.shape\n",
    "# df_traps.to_csv(f'../data/traps_kaggle.csv')\n",
    "\n",
    "# # Get the traps and export to map\n",
    "# df_traps = df_train[['Trap','Latitude','Longitude']]\n",
    "# df_traps.drop_duplicates(inplace=True)\n",
    "# df_traps.shape\n",
    "# df_traps.to_csv(f'../data/traps_train.csv')\n"
   ]
  },
  {
   "cell_type": "code",
   "execution_count": null,
   "metadata": {},
   "outputs": [],
   "source": [
    "# # These are only used for creating the map and not part of the notebook flow\n",
    "\n",
    "# # ['2011-08-29' '2011-09-07' '2013-07-17' '2013-07-25' '2013-08-08'\n",
    "# #  '2013-08-15' '2013-08-16' '2013-08-22' '2013-08-29' '2013-09-05']\n",
    "\n",
    "# df_1 = df_spray[df_spray['Date'] == '2011-08-29']\n",
    "# df_1['DateTime'] = pd.to_datetime(df_1['Date'] + \" \" + df_1['Time'])\n",
    "# df_1.to_csv(f'../data/spray-2011-08-29.csv')\n",
    "\n",
    "# df_3 = df_spray[df_spray['Date'] == '2013-07-17']\n",
    "# df_3['DateTime'] = pd.to_datetime(df_3['Date'] + \" \" + df_3['Time'])\n",
    "# df_3.to_csv(f'../data/spray-2013-07-17.csv')\n",
    "\n",
    "# df_4 = df_spray[df_spray['Date'] == '2013-07-25']\n",
    "# df_4['DateTime'] = pd.to_datetime(df_4['Date'] + \" \" + df_4['Time'])\n",
    "# df_4.to_csv(f'../data/spray-2013-07-25.csv')\n",
    "\n",
    "# df_5 = df_spray[df_spray['Date'] == '2013-08-08']\n",
    "# df_5['DateTime'] = pd.to_datetime(df_5['Date'] + \" \" + df_5['Time'])\n",
    "# df_5.to_csv(f'../data/spray-2013-08-08.csv')\n",
    "\n",
    "# df_6 = df_spray[df_spray['Date'] == '2013-08-15']\n",
    "# df_6['DateTime'] = pd.to_datetime(df_6['Date'] + \" \" + df_6['Time'])\n",
    "# df_6.to_csv(f'../data/spray-2013-08-15.csv')\n",
    "\n",
    "# df_7 = df_spray[df_spray['Date'] == '2013-08-16']\n",
    "# df_7['DateTime'] = pd.to_datetime(df_7['Date'] + \" \" + df_7['Time'])\n",
    "# df_7.to_csv(f'../data/spray-2013-08-16.csv')\n",
    "\n",
    "# df_8 = df_spray[df_spray['Date'] == '2013-08-22']\n",
    "# df_8['DateTime'] = pd.to_datetime(df_8['Date'] + \" \" + df_8['Time'])\n",
    "# df_8.to_csv(f'../data/spray-2013-08-22.csv')\n",
    "\n",
    "# df_8 = df_spray[df_spray['Date'] == '2013-08-29']\n",
    "# df_8['DateTime'] = pd.to_datetime(df_8['Date'] + \" \" + df_8['Time'])\n",
    "# df_8.to_csv(f'../data/spray-2013-08-29.csv')\n",
    "\n",
    "# df_8 = df_spray[df_spray['Date'] == '2013-09-05']\n",
    "# df_8['DateTime'] = pd.to_datetime(df_8['Date'] + \" \" + df_8['Time'])\n",
    "# df_8.to_csv(f'../data/spray-2013-09-05.csv')\n",
    "\n",
    "# df_spray_before = read_examine_df(\"../data/spray 2011-09-07-before-1.csv\")\n",
    "# df_spray_before['DateTime'] = pd.to_datetime(df_spray_before['Date'] + \" \" + df_spray_before['Time'])\n",
    "# df_spray_before.to_csv(f'../data/spray-2011-09-07-before-1-d.csv')\n",
    "\n",
    "# df_spray_before = read_examine_df(\"../data/spray 2011-09-07-before-2.csv\")\n",
    "# df_spray_before['DateTime'] = pd.to_datetime(df_spray_before['Date'] + \" \" + df_spray_before['Time'])\n",
    "# df_spray_before.to_csv(f'../data/spray-2011-09-07-before-2-d.csv')\n",
    "\n",
    "# df_spray_before = read_examine_df(\"../data/spray 2011-09-07-after.csv\")\n",
    "# df_spray_before['DateTime'] = pd.to_datetime(df_spray_before['Date'] + \" \" + df_spray_before['Time'])\n",
    "# df_spray_before.to_csv(f'../data/spray-2011-09-07-after-d.csv')\n",
    "\n",
    "# df_spray_before = read_examine_df(\"../data/spray 2011-09-07-NA.csv\")\n",
    "# df_spray_before['DateTime'] = pd.to_datetime(df_spray_before['Date'] + \" \" + df_spray_before['Time'])\n",
    "# df_spray_before.to_csv(f'../data/spray-2011-09-07-NA.csv')"
   ]
  },
  {
   "cell_type": "markdown",
   "metadata": {},
   "source": [
    "Weather notes:\n",
    "\n",
    "Found this online for heating degree day calcualtion example:\n",
    "Anyway, consider a single day, let's say July 1st, when the outside air temperature was 16C throughout the entire day.  A constant temperature throughout an entire day is rather unlikely, I know, but degree days would be a lot easier to understand if the outside air temperature stayed the same...  So, throughout the entire day on July 1st, the outside air temperature (16C) was consistently 1 degree below the base temperature of the building (17C), and we can work out the heating degree days on that day like so:\n",
    "\n",
    "1 degree * 1 day = 1 heating degree day on July 1st\n",
    "\n",
    "If, on July 2nd, the outside temperature was 2 degrees below the base temperature, we'd have:\n",
    "\n",
    "2 degrees * 1 day = 2 heating degree days on July 2nd\n",
    "\n",
    "Let's look at July 3rd - this was a hotter day, and the outside air temperature was 17C, the same as the base temperature (i.e. 0 degrees below the base temperature).  This gives:\n",
    "\n",
    "0 degrees * 1 day = 0 heating degree days on July 3nd\n",
    "\n",
    "On July 4th it was warmer again: 19C.  Again, the number of degrees below the base temperature was zero, giving:\n",
    "\n",
    "0 degrees * 1 day = 0 heating degree days on July 4th\n"
   ]
  }
 ],
 "metadata": {
  "kernelspec": {
   "display_name": "Python 3",
   "language": "python",
   "name": "python3"
  },
  "language_info": {
   "codemirror_mode": {
    "name": "ipython",
    "version": 3
   },
   "file_extension": ".py",
   "mimetype": "text/x-python",
   "name": "python",
   "nbconvert_exporter": "python",
   "pygments_lexer": "ipython3",
   "version": "3.6.5"
  }
 },
 "nbformat": 4,
 "nbformat_minor": 2
}
